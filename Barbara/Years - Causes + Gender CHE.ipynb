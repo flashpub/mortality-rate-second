{
 "cells": [
  {
   "cell_type": "code",
   "execution_count": 11,
   "id": "42f2e122",
   "metadata": {},
   "outputs": [],
   "source": [
    "import pandas as pd\n",
    "import numpy as np\n",
    "import matplotlib.pyplot as plt\n",
    "from scipy import stats\n",
    "from scipy.stats import weibull_min\n",
    "from scipy.stats import shapiro"
   ]
  },
  {
   "cell_type": "markdown",
   "id": "61384cb2",
   "metadata": {},
   "source": [
    "# All Causes"
   ]
  },
  {
   "cell_type": "code",
   "execution_count": 2,
   "id": "adb65636",
   "metadata": {},
   "outputs": [
    {
     "name": "stdout",
     "output_type": "stream",
     "text": [
      "number of years is 60\n"
     ]
    }
   ],
   "source": [
    "df = pd.read_excel(\"all causes.xlsx\")\n",
    "df = df[(df['Year'] > 1959) & (df['Year'] < 2020)]\n",
    "df = df.sort_values(by=\"Year\", ascending=True)\n",
    "unique_years = df['Year'].unique()\n",
    "print(f'number of years is {len(unique_years)}')"
   ]
  },
  {
   "cell_type": "code",
   "execution_count": 3,
   "id": "03197bd6",
   "metadata": {},
   "outputs": [
    {
     "data": {
      "text/html": [
       "<div>\n",
       "<style scoped>\n",
       "    .dataframe tbody tr th:only-of-type {\n",
       "        vertical-align: middle;\n",
       "    }\n",
       "\n",
       "    .dataframe tbody tr th {\n",
       "        vertical-align: top;\n",
       "    }\n",
       "\n",
       "    .dataframe thead th {\n",
       "        text-align: right;\n",
       "    }\n",
       "</style>\n",
       "<table border=\"1\" class=\"dataframe\">\n",
       "  <thead>\n",
       "    <tr style=\"text-align: right;\">\n",
       "      <th></th>\n",
       "      <th>Region Code</th>\n",
       "      <th>Region Name</th>\n",
       "      <th>Country Code</th>\n",
       "      <th>Country Name</th>\n",
       "      <th>Year</th>\n",
       "      <th>Sex</th>\n",
       "      <th>Age group code</th>\n",
       "      <th>Age group</th>\n",
       "      <th>Number</th>\n",
       "      <th>Percentage of cause-specific deaths out of total deaths</th>\n",
       "      <th>Age-standardized death rate per 100 000 standard population</th>\n",
       "      <th>Death rate per 100 000 population</th>\n",
       "    </tr>\n",
       "  </thead>\n",
       "  <tbody>\n",
       "    <tr>\n",
       "      <th>27</th>\n",
       "      <td>EU</td>\n",
       "      <td>Europe</td>\n",
       "      <td>CHE</td>\n",
       "      <td>Switzerland</td>\n",
       "      <td>1960</td>\n",
       "      <td>All</td>\n",
       "      <td>Age_all</td>\n",
       "      <td>[All]</td>\n",
       "      <td>52094.0</td>\n",
       "      <td>100.0</td>\n",
       "      <td>867.761832</td>\n",
       "      <td>977.758592</td>\n",
       "    </tr>\n",
       "    <tr>\n",
       "      <th>28</th>\n",
       "      <td>EU</td>\n",
       "      <td>Europe</td>\n",
       "      <td>CHE</td>\n",
       "      <td>Switzerland</td>\n",
       "      <td>1960</td>\n",
       "      <td>Male</td>\n",
       "      <td>Age_all</td>\n",
       "      <td>[All]</td>\n",
       "      <td>27032.0</td>\n",
       "      <td>100.0</td>\n",
       "      <td>1041.313250</td>\n",
       "      <td>1047.264838</td>\n",
       "    </tr>\n",
       "    <tr>\n",
       "      <th>29</th>\n",
       "      <td>EU</td>\n",
       "      <td>Europe</td>\n",
       "      <td>CHE</td>\n",
       "      <td>Switzerland</td>\n",
       "      <td>1960</td>\n",
       "      <td>Female</td>\n",
       "      <td>Age_all</td>\n",
       "      <td>[All]</td>\n",
       "      <td>25062.0</td>\n",
       "      <td>100.0</td>\n",
       "      <td>728.028206</td>\n",
       "      <td>912.440383</td>\n",
       "    </tr>\n",
       "    <tr>\n",
       "      <th>30</th>\n",
       "      <td>EU</td>\n",
       "      <td>Europe</td>\n",
       "      <td>CHE</td>\n",
       "      <td>Switzerland</td>\n",
       "      <td>1961</td>\n",
       "      <td>All</td>\n",
       "      <td>Age_all</td>\n",
       "      <td>[All]</td>\n",
       "      <td>51004.0</td>\n",
       "      <td>100.0</td>\n",
       "      <td>826.391201</td>\n",
       "      <td>938.539673</td>\n",
       "    </tr>\n",
       "    <tr>\n",
       "      <th>31</th>\n",
       "      <td>EU</td>\n",
       "      <td>Europe</td>\n",
       "      <td>CHE</td>\n",
       "      <td>Switzerland</td>\n",
       "      <td>1961</td>\n",
       "      <td>Male</td>\n",
       "      <td>Age_all</td>\n",
       "      <td>[All]</td>\n",
       "      <td>26923.0</td>\n",
       "      <td>100.0</td>\n",
       "      <td>1008.705185</td>\n",
       "      <td>1021.784508</td>\n",
       "    </tr>\n",
       "    <tr>\n",
       "      <th>32</th>\n",
       "      <td>EU</td>\n",
       "      <td>Europe</td>\n",
       "      <td>CHE</td>\n",
       "      <td>Switzerland</td>\n",
       "      <td>1961</td>\n",
       "      <td>Female</td>\n",
       "      <td>Age_all</td>\n",
       "      <td>[All]</td>\n",
       "      <td>24081.0</td>\n",
       "      <td>100.0</td>\n",
       "      <td>681.150226</td>\n",
       "      <td>860.189320</td>\n",
       "    </tr>\n",
       "    <tr>\n",
       "      <th>33</th>\n",
       "      <td>EU</td>\n",
       "      <td>Europe</td>\n",
       "      <td>CHE</td>\n",
       "      <td>Switzerland</td>\n",
       "      <td>1962</td>\n",
       "      <td>All</td>\n",
       "      <td>Age_all</td>\n",
       "      <td>[All]</td>\n",
       "      <td>55125.0</td>\n",
       "      <td>100.0</td>\n",
       "      <td>873.451319</td>\n",
       "      <td>989.002117</td>\n",
       "    </tr>\n",
       "    <tr>\n",
       "      <th>34</th>\n",
       "      <td>EU</td>\n",
       "      <td>Europe</td>\n",
       "      <td>CHE</td>\n",
       "      <td>Switzerland</td>\n",
       "      <td>1962</td>\n",
       "      <td>Male</td>\n",
       "      <td>Age_all</td>\n",
       "      <td>[All]</td>\n",
       "      <td>28811.0</td>\n",
       "      <td>100.0</td>\n",
       "      <td>1061.199115</td>\n",
       "      <td>1064.590031</td>\n",
       "    </tr>\n",
       "    <tr>\n",
       "      <th>35</th>\n",
       "      <td>EU</td>\n",
       "      <td>Europe</td>\n",
       "      <td>CHE</td>\n",
       "      <td>Switzerland</td>\n",
       "      <td>1962</td>\n",
       "      <td>Female</td>\n",
       "      <td>Age_all</td>\n",
       "      <td>[All]</td>\n",
       "      <td>26314.0</td>\n",
       "      <td>100.0</td>\n",
       "      <td>724.248930</td>\n",
       "      <td>917.663470</td>\n",
       "    </tr>\n",
       "    <tr>\n",
       "      <th>38</th>\n",
       "      <td>EU</td>\n",
       "      <td>Europe</td>\n",
       "      <td>CHE</td>\n",
       "      <td>Switzerland</td>\n",
       "      <td>1963</td>\n",
       "      <td>Female</td>\n",
       "      <td>Age_all</td>\n",
       "      <td>[All]</td>\n",
       "      <td>26964.0</td>\n",
       "      <td>100.0</td>\n",
       "      <td>723.879464</td>\n",
       "      <td>921.625594</td>\n",
       "    </tr>\n",
       "  </tbody>\n",
       "</table>\n",
       "</div>"
      ],
      "text/plain": [
       "   Region Code Region Name Country Code Country Name  Year     Sex  \\\n",
       "27          EU      Europe          CHE  Switzerland  1960     All   \n",
       "28          EU      Europe          CHE  Switzerland  1960    Male   \n",
       "29          EU      Europe          CHE  Switzerland  1960  Female   \n",
       "30          EU      Europe          CHE  Switzerland  1961     All   \n",
       "31          EU      Europe          CHE  Switzerland  1961    Male   \n",
       "32          EU      Europe          CHE  Switzerland  1961  Female   \n",
       "33          EU      Europe          CHE  Switzerland  1962     All   \n",
       "34          EU      Europe          CHE  Switzerland  1962    Male   \n",
       "35          EU      Europe          CHE  Switzerland  1962  Female   \n",
       "38          EU      Europe          CHE  Switzerland  1963  Female   \n",
       "\n",
       "   Age group code Age group   Number  \\\n",
       "27        Age_all     [All]  52094.0   \n",
       "28        Age_all     [All]  27032.0   \n",
       "29        Age_all     [All]  25062.0   \n",
       "30        Age_all     [All]  51004.0   \n",
       "31        Age_all     [All]  26923.0   \n",
       "32        Age_all     [All]  24081.0   \n",
       "33        Age_all     [All]  55125.0   \n",
       "34        Age_all     [All]  28811.0   \n",
       "35        Age_all     [All]  26314.0   \n",
       "38        Age_all     [All]  26964.0   \n",
       "\n",
       "    Percentage of cause-specific deaths out of total deaths  \\\n",
       "27                                              100.0         \n",
       "28                                              100.0         \n",
       "29                                              100.0         \n",
       "30                                              100.0         \n",
       "31                                              100.0         \n",
       "32                                              100.0         \n",
       "33                                              100.0         \n",
       "34                                              100.0         \n",
       "35                                              100.0         \n",
       "38                                              100.0         \n",
       "\n",
       "    Age-standardized death rate per 100 000 standard population  \\\n",
       "27                                         867.761832             \n",
       "28                                        1041.313250             \n",
       "29                                         728.028206             \n",
       "30                                         826.391201             \n",
       "31                                        1008.705185             \n",
       "32                                         681.150226             \n",
       "33                                         873.451319             \n",
       "34                                        1061.199115             \n",
       "35                                         724.248930             \n",
       "38                                         723.879464             \n",
       "\n",
       "    Death rate per 100 000 population  \n",
       "27                         977.758592  \n",
       "28                        1047.264838  \n",
       "29                         912.440383  \n",
       "30                         938.539673  \n",
       "31                        1021.784508  \n",
       "32                         860.189320  \n",
       "33                         989.002117  \n",
       "34                        1064.590031  \n",
       "35                         917.663470  \n",
       "38                         921.625594  "
      ]
     },
     "execution_count": 3,
     "metadata": {},
     "output_type": "execute_result"
    }
   ],
   "source": [
    "df.head(10)"
   ]
  },
  {
   "cell_type": "code",
   "execution_count": 4,
   "id": "a7b49af3",
   "metadata": {},
   "outputs": [
    {
     "name": "stdout",
     "output_type": "stream",
     "text": [
      "<class 'pandas.core.frame.DataFrame'>\n",
      "Int64Index: 180 entries, 27 to 196\n",
      "Data columns (total 12 columns):\n",
      " #   Column                                                       Non-Null Count  Dtype  \n",
      "---  ------                                                       --------------  -----  \n",
      " 0   Region Code                                                  180 non-null    object \n",
      " 1   Region Name                                                  180 non-null    object \n",
      " 2   Country Code                                                 180 non-null    object \n",
      " 3   Country Name                                                 180 non-null    object \n",
      " 4   Year                                                         180 non-null    int64  \n",
      " 5   Sex                                                          180 non-null    object \n",
      " 6   Age group code                                               180 non-null    object \n",
      " 7   Age group                                                    180 non-null    object \n",
      " 8   Number                                                       180 non-null    float64\n",
      " 9   Percentage of cause-specific deaths out of total deaths      180 non-null    float64\n",
      " 10  Age-standardized death rate per 100 000 standard population  180 non-null    float64\n",
      " 11  Death rate per 100 000 population                            180 non-null    float64\n",
      "dtypes: float64(4), int64(1), object(7)\n",
      "memory usage: 18.3+ KB\n",
      "None\n"
     ]
    }
   ],
   "source": [
    "#to see if there are any missing values and see what data types we have\n",
    "print(df.info())\n",
    "#no NAs we good"
   ]
  },
  {
   "cell_type": "code",
   "execution_count": 5,
   "id": "e10f7a91",
   "metadata": {},
   "outputs": [],
   "source": [
    "#to get rid of uneccessary stuff\n",
    "columns_to_remove = ['Region Code', 'Region Name','Country Code','Age group code','Age group', ]\n",
    "df = df.drop(columns=columns_to_remove)"
   ]
  },
  {
   "cell_type": "code",
   "execution_count": 6,
   "id": "74b67443",
   "metadata": {},
   "outputs": [],
   "source": [
    "columns_to_remove1 = ['Year','Percentage of cause-specific deaths out of total deaths']\n",
    "dfstat = df.drop(columns=columns_to_remove1)\n",
    "grouped_stats = dfstat.groupby('Sex').describe()\n",
    "grouped_stats.to_excel('grouped_stats.xlsx', sheet_name='Statistics')"
   ]
  },
  {
   "cell_type": "markdown",
   "id": "0bb6d78e",
   "metadata": {},
   "source": [
    "Distributional analysis and tests to see if there are significant differences between of numeric variables for genders."
   ]
  },
  {
   "cell_type": "markdown",
   "id": "9fe77e66",
   "metadata": {},
   "source": [
    "This function tests the normality of a numeric variable, plots a histogram if it's non-normal, and performs statistical tests to compare the variable between different groups. If the variable is normally distributed, it conducts a t-test between groups, and if it's not normally distributed, it performs a Mann-Whitney U-test on the original or log-transformed data, as appropriate. Wilcoxon-Mann-Whitney Criterion is used when variable is not distributed normally and the t test is not suitable."
   ]
  },
  {
   "cell_type": "code",
   "execution_count": 7,
   "id": "1ea7ab01",
   "metadata": {},
   "outputs": [],
   "source": [
    "def test_distribution_and_compare_sexes(data, value_column, group_column, alpha=0.05):\n",
    "    # Extract the specific column for testing\n",
    "    data_to_test = data[value_column]\n",
    "    \n",
    "    # Perform the Shapiro-Wilk test on the original data\n",
    "    stat, p = stats.shapiro(data_to_test)\n",
    "    \n",
    "    print(f'Shapiro-Wilk test p-value for {value_column}: {p}')\n",
    "\n",
    "    if p > alpha:\n",
    "        print(f'{value_column} is normally distributed.')\n",
    "        \n",
    "        # Perform a t-test for the difference between sexes\n",
    "        group_male = data[data[group_column] == 'Male'][value_column]\n",
    "        group_female = data[data[group_column] == 'Female'][value_column]\n",
    "        \n",
    "        t_stat, t_p_value = stats.ttest_ind(group_male, group_female)\n",
    "        print(\"T-test for Men and Women:\")\n",
    "        print(\"T-statistic:\", t_stat)\n",
    "        print(\"p-value:\", t_p_value)\n",
    "        \n",
    "        if t_p_value < alpha:\n",
    "            print(\"Conclusion: There is a significant difference between Men and Women.\")\n",
    "        else:\n",
    "            print(\"Conclusion: There is no significant difference between Men and Women.\")\n",
    "            \n",
    "    else:\n",
    "        # Transform the data using the natural logarithm\n",
    "        log_data = np.log(data_to_test)\n",
    "        \n",
    "        # Perform the Shapiro-Wilk test on the log-transformed data\n",
    "        log_stat, log_p = stats.shapiro(log_data)\n",
    "        print(f'Shapiro-Wilk test p-value for log-transformed {value_column}: {log_p}')\n",
    "\n",
    "        if log_p > alpha:\n",
    "            print(f'Log-transformed {value_column} is approximately normally distributed.')\n",
    "            \n",
    "            # Plot a histogram of the initial variable when distribution is log-normal\n",
    "            plt.hist(data_to_test, bins=20, color='blue', alpha=0.7)\n",
    "            plt.title(f'Histogram of {value_column}')\n",
    "            plt.xlabel('Value')\n",
    "            plt.ylabel('Frequency')\n",
    "            plt.show()\n",
    "            \n",
    "            # Perform a t-test for the difference between sexes on the log-transformed data\n",
    "            group_male_log = log_data[data[group_column] == 'Male']\n",
    "            group_female_log = log_data[data[group_column] == 'Female']\n",
    "        \n",
    "            t_stat_log, t_p_value_log = stats.ttest_ind(group_male_log, group_female_log)\n",
    "            print(\"T-test for Men and Women on log-transformed data:\")\n",
    "            print(\"T-statistic:\", t_stat_log)\n",
    "            print(\"p-value:\", t_p_value_log)\n",
    "        \n",
    "            if t_p_value_log < alpha:\n",
    "                print(\"Conclusion: There is a significant difference between Men and Women on log-transformed data.\")\n",
    "            else:\n",
    "                print(\"Conclusion: There is no significant difference between Men and Women on log-transformed data.\")\n",
    "        else:\n",
    "            print(f'Log-transformed {value_column} is also not normally distributed.')\n",
    "            \n",
    "            # Plot a histogram of the initial variable when non-normal\n",
    "            plt.hist(data_to_test, bins=20, color='blue', alpha=0.7)\n",
    "            plt.title(f'Histogram of {value_column}')\n",
    "            plt.xlabel('Value')\n",
    "            plt.ylabel('Frequency')\n",
    "            plt.show()\n",
    "            \n",
    "            # Perform a Mann-Whitney U-test for the difference between sexes on the initial data\n",
    "            group_male = data[data[group_column] == 'Male'][value_column]\n",
    "            group_female = data[data[group_column] == 'Female'][value_column]\n",
    "        \n",
    "            mw_stat, mw_p_value = stats.mannwhitneyu(group_male, group_female, alternative='two-sided')\n",
    "        \n",
    "            print(f\"Mann-Whitney U-test for Men and Women on {value_column}:\")\n",
    "            print(\"Statistic:\", mw_stat)\n",
    "            print(\"p-value:\", mw_p_value)\n",
    "        \n",
    "            if mw_p_value < alpha:\n",
    "                print(\"Conclusion: There is a significant difference between Men and Women.\")\n",
    "            else:\n",
    "                print(\"Conclusion: There is no significant difference between Men and Women.\")\n"
   ]
  },
  {
   "cell_type": "code",
   "execution_count": 8,
   "id": "407fd275",
   "metadata": {},
   "outputs": [
    {
     "name": "stdout",
     "output_type": "stream",
     "text": [
      "Shapiro-Wilk test p-value for Number: 3.428483115135416e-16\n",
      "Shapiro-Wilk test p-value for log-transformed Number: 3.500656727928146e-15\n",
      "Log-transformed Number is also not normally distributed.\n"
     ]
    },
    {
     "data": {
      "image/png": "[encoded data removed]",
      "text/plain": [
       "<Figure size 640x480 with 1 Axes>"
      ]
     },
     "metadata": {},
     "output_type": "display_data"
    },
    {
     "name": "stdout",
     "output_type": "stream",
     "text": [
      "Mann-Whitney U-test for Men and Women on Number:\n",
      "Statistic: 1962.0\n",
      "p-value: 0.3966292209512383\n",
      "Conclusion: There is no significant difference between Men and Women.\n"
     ]
    }
   ],
   "source": [
    "test_distribution_and_compare_sexes(df, 'Number', 'Sex', alpha=0.05)"
   ]
  },
  {
   "cell_type": "markdown",
   "id": "8d5bf1f9",
   "metadata": {},
   "source": [
    "Visually we can say that it is bimodal distribution (non normal)"
   ]
  },
  {
   "cell_type": "code",
   "execution_count": 9,
   "id": "55337de7",
   "metadata": {},
   "outputs": [
    {
     "name": "stdout",
     "output_type": "stream",
     "text": [
      "Shapiro-Wilk test p-value for Age-standardized death rate per 100 000 standard population: 4.559634817269398e-06\n",
      "Shapiro-Wilk test p-value for log-transformed Age-standardized death rate per 100 000 standard population: 0.0012488984502851963\n",
      "Log-transformed Age-standardized death rate per 100 000 standard population is also not normally distributed.\n"
     ]
    },
    {
     "data": {
      "image/png": "[encoded data removed]",
      "text/plain": [
       "<Figure size 640x480 with 1 Axes>"
      ]
     },
     "metadata": {},
     "output_type": "display_data"
    },
    {
     "name": "stdout",
     "output_type": "stream",
     "text": [
      "Mann-Whitney U-test for Men and Women on Age-standardized death rate per 100 000 standard population:\n",
      "Statistic: 3049.0\n",
      "p-value: 5.6420647458921067e-11\n",
      "Conclusion: There is a significant difference between Men and Women.\n"
     ]
    }
   ],
   "source": [
    "test_distribution_and_compare_sexes(df, 'Age-standardized death rate per 100 000 standard population', 'Sex', alpha=0.05) "
   ]
  },
  {
   "cell_type": "markdown",
   "id": "b8be62d5",
   "metadata": {},
   "source": [
    "Assumingly it can be Weibullian dist"
   ]
  },
  {
   "cell_type": "code",
   "execution_count": 13,
   "id": "40658ff3",
   "metadata": {},
   "outputs": [
    {
     "data": {
      "text/plain": [
       "KstestResult(statistic=0.058797630951757385, pvalue=0.5426281401981145, statistic_location=603.23421658, statistic_sign=-1)"
      ]
     },
     "execution_count": 13,
     "metadata": {},
     "output_type": "execute_result"
    }
   ],
   "source": [
    "c, loc, scale = weibull_min.fit(df['Age-standardized death rate per 100 000 standard population'])\n",
    "# Conducting the Kolmogorov-Smirnov test\n",
    "stats.kstest(df['Age-standardized death rate per 100 000 standard population'], 'weibull_min', args=(c, loc, scale))"
   ]
  },
  {
   "cell_type": "markdown",
   "id": "90a1a348",
   "metadata": {},
   "source": [
    "The value is much greater than 0.05, which means that the null hypothesis that the distribution is Weibullian cannot be rejected. See later how it can be used maybe."
   ]
  },
  {
   "cell_type": "code",
   "execution_count": 14,
   "id": "effd390f",
   "metadata": {},
   "outputs": [
    {
     "name": "stdout",
     "output_type": "stream",
     "text": [
      "Shapiro-Wilk test p-value for Death rate per 100 000 population: 0.0014765597879886627\n",
      "Shapiro-Wilk test p-value for log-transformed Death rate per 100 000 population: 0.007202851120382547\n",
      "Log-transformed Death rate per 100 000 population is also not normally distributed.\n"
     ]
    },
    {
     "data": {
      "image/png": "[encoded data removed]",
      "text/plain": [
       "<Figure size 640x480 with 1 Axes>"
      ]
     },
     "metadata": {},
     "output_type": "display_data"
    },
    {
     "name": "stdout",
     "output_type": "stream",
     "text": [
      "Mann-Whitney U-test for Men and Women on Death rate per 100 000 population:\n",
      "Statistic: 2475.0\n",
      "p-value: 0.00039981349215198757\n",
      "Conclusion: There is a significant difference between Men and Women.\n"
     ]
    }
   ],
   "source": [
    "test_distribution_and_compare_sexes(df, 'Death rate per 100 000 population', 'Sex', alpha=0.05) "
   ]
  },
  {
   "cell_type": "markdown",
   "id": "8958353b",
   "metadata": {},
   "source": [
    "Unclear distribution, neither by tests, nor by pictures. Most of all it looks like the lognormal."
   ]
  },
  {
   "cell_type": "markdown",
   "id": "e790ebdd",
   "metadata": {},
   "source": [
    "# Communicable, maternal, perinatal and nutritional"
   ]
  },
  {
   "cell_type": "code",
   "execution_count": 15,
   "id": "87ed5cbd",
   "metadata": {},
   "outputs": [
    {
     "data": {
      "text/html": [
       "<div>\n",
       "<style scoped>\n",
       "    .dataframe tbody tr th:only-of-type {\n",
       "        vertical-align: middle;\n",
       "    }\n",
       "\n",
       "    .dataframe tbody tr th {\n",
       "        vertical-align: top;\n",
       "    }\n",
       "\n",
       "    .dataframe thead th {\n",
       "        text-align: right;\n",
       "    }\n",
       "</style>\n",
       "<table border=\"1\" class=\"dataframe\">\n",
       "  <thead>\n",
       "    <tr style=\"text-align: right;\">\n",
       "      <th></th>\n",
       "      <th>Region Code</th>\n",
       "      <th>Region Name</th>\n",
       "      <th>Country Code</th>\n",
       "      <th>Country Name</th>\n",
       "      <th>Year</th>\n",
       "      <th>Sex</th>\n",
       "      <th>Age group code</th>\n",
       "      <th>Age group</th>\n",
       "      <th>Number</th>\n",
       "      <th>Percentage of cause-specific deaths out of total deaths</th>\n",
       "      <th>Age-standardized death rate per 100 000 standard population</th>\n",
       "      <th>Death rate per 100 000 population</th>\n",
       "    </tr>\n",
       "  </thead>\n",
       "  <tbody>\n",
       "    <tr>\n",
       "      <th>27</th>\n",
       "      <td>EU</td>\n",
       "      <td>Europe</td>\n",
       "      <td>CHE</td>\n",
       "      <td>Switzerland</td>\n",
       "      <td>1960</td>\n",
       "      <td>All</td>\n",
       "      <td>Age_all</td>\n",
       "      <td>[All]</td>\n",
       "      <td>5403.0</td>\n",
       "      <td>10.371636</td>\n",
       "      <td>96.064637</td>\n",
       "      <td>101.409561</td>\n",
       "    </tr>\n",
       "    <tr>\n",
       "      <th>28</th>\n",
       "      <td>EU</td>\n",
       "      <td>Europe</td>\n",
       "      <td>CHE</td>\n",
       "      <td>Switzerland</td>\n",
       "      <td>1960</td>\n",
       "      <td>Male</td>\n",
       "      <td>Age_all</td>\n",
       "      <td>[All]</td>\n",
       "      <td>2885.0</td>\n",
       "      <td>10.672536</td>\n",
       "      <td>113.677761</td>\n",
       "      <td>111.769720</td>\n",
       "    </tr>\n",
       "    <tr>\n",
       "      <th>29</th>\n",
       "      <td>EU</td>\n",
       "      <td>Europe</td>\n",
       "      <td>CHE</td>\n",
       "      <td>Switzerland</td>\n",
       "      <td>1960</td>\n",
       "      <td>Female</td>\n",
       "      <td>Age_all</td>\n",
       "      <td>[All]</td>\n",
       "      <td>2518.0</td>\n",
       "      <td>10.047083</td>\n",
       "      <td>81.160217</td>\n",
       "      <td>91.673645</td>\n",
       "    </tr>\n",
       "    <tr>\n",
       "      <th>30</th>\n",
       "      <td>EU</td>\n",
       "      <td>Europe</td>\n",
       "      <td>CHE</td>\n",
       "      <td>Switzerland</td>\n",
       "      <td>1961</td>\n",
       "      <td>All</td>\n",
       "      <td>Age_all</td>\n",
       "      <td>[All]</td>\n",
       "      <td>4057.0</td>\n",
       "      <td>7.954278</td>\n",
       "      <td>71.069828</td>\n",
       "      <td>74.654056</td>\n",
       "    </tr>\n",
       "    <tr>\n",
       "      <th>31</th>\n",
       "      <td>EU</td>\n",
       "      <td>Europe</td>\n",
       "      <td>CHE</td>\n",
       "      <td>Switzerland</td>\n",
       "      <td>1961</td>\n",
       "      <td>Male</td>\n",
       "      <td>Age_all</td>\n",
       "      <td>[All]</td>\n",
       "      <td>2197.0</td>\n",
       "      <td>8.160309</td>\n",
       "      <td>83.599150</td>\n",
       "      <td>83.380773</td>\n",
       "    </tr>\n",
       "    <tr>\n",
       "      <th>32</th>\n",
       "      <td>EU</td>\n",
       "      <td>Europe</td>\n",
       "      <td>CHE</td>\n",
       "      <td>Switzerland</td>\n",
       "      <td>1961</td>\n",
       "      <td>Female</td>\n",
       "      <td>Age_all</td>\n",
       "      <td>[All]</td>\n",
       "      <td>1860.0</td>\n",
       "      <td>7.723932</td>\n",
       "      <td>60.608205</td>\n",
       "      <td>66.440436</td>\n",
       "    </tr>\n",
       "    <tr>\n",
       "      <th>33</th>\n",
       "      <td>EU</td>\n",
       "      <td>Europe</td>\n",
       "      <td>CHE</td>\n",
       "      <td>Switzerland</td>\n",
       "      <td>1962</td>\n",
       "      <td>All</td>\n",
       "      <td>Age_all</td>\n",
       "      <td>[All]</td>\n",
       "      <td>4938.0</td>\n",
       "      <td>8.957823</td>\n",
       "      <td>83.824070</td>\n",
       "      <td>88.593060</td>\n",
       "    </tr>\n",
       "    <tr>\n",
       "      <th>34</th>\n",
       "      <td>EU</td>\n",
       "      <td>Europe</td>\n",
       "      <td>CHE</td>\n",
       "      <td>Switzerland</td>\n",
       "      <td>1962</td>\n",
       "      <td>Male</td>\n",
       "      <td>Age_all</td>\n",
       "      <td>[All]</td>\n",
       "      <td>2662.0</td>\n",
       "      <td>9.239527</td>\n",
       "      <td>99.813857</td>\n",
       "      <td>98.363079</td>\n",
       "    </tr>\n",
       "    <tr>\n",
       "      <th>35</th>\n",
       "      <td>EU</td>\n",
       "      <td>Europe</td>\n",
       "      <td>CHE</td>\n",
       "      <td>Switzerland</td>\n",
       "      <td>1962</td>\n",
       "      <td>Female</td>\n",
       "      <td>Age_all</td>\n",
       "      <td>[All]</td>\n",
       "      <td>2276.0</td>\n",
       "      <td>8.649388</td>\n",
       "      <td>70.581191</td>\n",
       "      <td>79.372276</td>\n",
       "    </tr>\n",
       "    <tr>\n",
       "      <th>38</th>\n",
       "      <td>EU</td>\n",
       "      <td>Europe</td>\n",
       "      <td>CHE</td>\n",
       "      <td>Switzerland</td>\n",
       "      <td>1963</td>\n",
       "      <td>Female</td>\n",
       "      <td>Age_all</td>\n",
       "      <td>[All]</td>\n",
       "      <td>2590.0</td>\n",
       "      <td>9.605400</td>\n",
       "      <td>76.392719</td>\n",
       "      <td>88.525823</td>\n",
       "    </tr>\n",
       "  </tbody>\n",
       "</table>\n",
       "</div>"
      ],
      "text/plain": [
       "   Region Code Region Name Country Code Country Name  Year     Sex  \\\n",
       "27          EU      Europe          CHE  Switzerland  1960     All   \n",
       "28          EU      Europe          CHE  Switzerland  1960    Male   \n",
       "29          EU      Europe          CHE  Switzerland  1960  Female   \n",
       "30          EU      Europe          CHE  Switzerland  1961     All   \n",
       "31          EU      Europe          CHE  Switzerland  1961    Male   \n",
       "32          EU      Europe          CHE  Switzerland  1961  Female   \n",
       "33          EU      Europe          CHE  Switzerland  1962     All   \n",
       "34          EU      Europe          CHE  Switzerland  1962    Male   \n",
       "35          EU      Europe          CHE  Switzerland  1962  Female   \n",
       "38          EU      Europe          CHE  Switzerland  1963  Female   \n",
       "\n",
       "   Age group code Age group  Number  \\\n",
       "27        Age_all     [All]  5403.0   \n",
       "28        Age_all     [All]  2885.0   \n",
       "29        Age_all     [All]  2518.0   \n",
       "30        Age_all     [All]  4057.0   \n",
       "31        Age_all     [All]  2197.0   \n",
       "32        Age_all     [All]  1860.0   \n",
       "33        Age_all     [All]  4938.0   \n",
       "34        Age_all     [All]  2662.0   \n",
       "35        Age_all     [All]  2276.0   \n",
       "38        Age_all     [All]  2590.0   \n",
       "\n",
       "    Percentage of cause-specific deaths out of total deaths  \\\n",
       "27                                          10.371636         \n",
       "28                                          10.672536         \n",
       "29                                          10.047083         \n",
       "30                                           7.954278         \n",
       "31                                           8.160309         \n",
       "32                                           7.723932         \n",
       "33                                           8.957823         \n",
       "34                                           9.239527         \n",
       "35                                           8.649388         \n",
       "38                                           9.605400         \n",
       "\n",
       "    Age-standardized death rate per 100 000 standard population  \\\n",
       "27                                          96.064637             \n",
       "28                                         113.677761             \n",
       "29                                          81.160217             \n",
       "30                                          71.069828             \n",
       "31                                          83.599150             \n",
       "32                                          60.608205             \n",
       "33                                          83.824070             \n",
       "34                                          99.813857             \n",
       "35                                          70.581191             \n",
       "38                                          76.392719             \n",
       "\n",
       "    Death rate per 100 000 population  \n",
       "27                         101.409561  \n",
       "28                         111.769720  \n",
       "29                          91.673645  \n",
       "30                          74.654056  \n",
       "31                          83.380773  \n",
       "32                          66.440436  \n",
       "33                          88.593060  \n",
       "34                          98.363079  \n",
       "35                          79.372276  \n",
       "38                          88.525823  "
      ]
     },
     "execution_count": 15,
     "metadata": {},
     "output_type": "execute_result"
    }
   ],
   "source": [
    "df1 = pd.read_excel('Communicable, maternal, perinatal and nutritional.xlsx')\n",
    "df1 = df1[(df1['Year'] > 1959) & (df1['Year'] < 2020)]\n",
    "df1 = df1.sort_values(by=\"Year\", ascending=True)\n",
    "df1.head(10)"
   ]
  },
  {
   "cell_type": "code",
   "execution_count": 16,
   "id": "12701f79",
   "metadata": {},
   "outputs": [
    {
     "name": "stdout",
     "output_type": "stream",
     "text": [
      "<class 'pandas.core.frame.DataFrame'>\n",
      "Int64Index: 180 entries, 27 to 196\n",
      "Data columns (total 12 columns):\n",
      " #   Column                                                       Non-Null Count  Dtype  \n",
      "---  ------                                                       --------------  -----  \n",
      " 0   Region Code                                                  180 non-null    object \n",
      " 1   Region Name                                                  180 non-null    object \n",
      " 2   Country Code                                                 180 non-null    object \n",
      " 3   Country Name                                                 180 non-null    object \n",
      " 4   Year                                                         180 non-null    int64  \n",
      " 5   Sex                                                          180 non-null    object \n",
      " 6   Age group code                                               180 non-null    object \n",
      " 7   Age group                                                    180 non-null    object \n",
      " 8   Number                                                       180 non-null    float64\n",
      " 9   Percentage of cause-specific deaths out of total deaths      180 non-null    float64\n",
      " 10  Age-standardized death rate per 100 000 standard population  180 non-null    float64\n",
      " 11  Death rate per 100 000 population                            180 non-null    float64\n",
      "dtypes: float64(4), int64(1), object(7)\n",
      "memory usage: 18.3+ KB\n",
      "None\n"
     ]
    }
   ],
   "source": [
    "#to see if there are any missing values and see what data types we have\n",
    "print(df1.info())\n",
    "#no NAs we good"
   ]
  },
  {
   "cell_type": "code",
   "execution_count": 17,
   "id": "d0224475",
   "metadata": {},
   "outputs": [],
   "source": [
    "#to get rid of uneccessary stuff\n",
    "columns_to_remove = ['Region Code', 'Region Name','Country Code','Age group code','Age group', ]\n",
    "df1 = df1.drop(columns=columns_to_remove)\n",
    "columns_to_remove1 = ['Year']\n",
    "df1stat = df1.drop(columns=columns_to_remove1)\n",
    "grouped_stats1 = df1stat.groupby('Sex').describe()\n",
    "grouped_stats1.to_excel('grouped_stats comm.xlsx', sheet_name='Statistics')"
   ]
  },
  {
   "cell_type": "markdown",
   "id": "d0bb4eb2",
   "metadata": {},
   "source": [
    "Distributional analysis and tests to see if there are significant differences between of numeric variables for genders."
   ]
  },
  {
   "cell_type": "code",
   "execution_count": 18,
   "id": "2c8886fc",
   "metadata": {},
   "outputs": [
    {
     "name": "stdout",
     "output_type": "stream",
     "text": [
      "Shapiro-Wilk test p-value for Number: 1.8295187587114015e-10\n",
      "Shapiro-Wilk test p-value for log-transformed Number: 0.0005049937171861529\n",
      "Log-transformed Number is also not normally distributed.\n"
     ]
    },
    {
     "data": {
      "image/png": "[encoded data removed]",
      "text/plain": [
       "<Figure size 640x480 with 1 Axes>"
      ]
     },
     "metadata": {},
     "output_type": "display_data"
    },
    {
     "name": "stdout",
     "output_type": "stream",
     "text": [
      "Mann-Whitney U-test for Men and Women on Number:\n",
      "Statistic: 1503.5\n",
      "p-value: 0.12027669141818766\n",
      "Conclusion: There is no significant difference between Men and Women.\n"
     ]
    }
   ],
   "source": [
    "test_distribution_and_compare_sexes(df1, 'Number', 'Sex', alpha=0.05)"
   ]
  },
  {
   "cell_type": "code",
   "execution_count": 19,
   "id": "fda4d450",
   "metadata": {},
   "outputs": [
    {
     "name": "stdout",
     "output_type": "stream",
     "text": [
      "Shapiro-Wilk test p-value for Percentage of cause-specific deaths out of total deaths: 1.9656407057588865e-10\n",
      "Shapiro-Wilk test p-value for log-transformed Percentage of cause-specific deaths out of total deaths: 7.1491390372102614e-06\n",
      "Log-transformed Percentage of cause-specific deaths out of total deaths is also not normally distributed.\n"
     ]
    },
    {
     "data": {
      "image/png": "[encoded data removed]",
      "text/plain": [
       "<Figure size 640x480 with 1 Axes>"
      ]
     },
     "metadata": {},
     "output_type": "display_data"
    },
    {
     "name": "stdout",
     "output_type": "stream",
     "text": [
      "Mann-Whitney U-test for Men and Women on Percentage of cause-specific deaths out of total deaths:\n",
      "Statistic: 1443.0\n",
      "p-value: 0.061325715138465325\n",
      "Conclusion: There is no significant difference between Men and Women.\n"
     ]
    }
   ],
   "source": [
    "test_distribution_and_compare_sexes(df1, 'Percentage of cause-specific deaths out of total deaths', 'Sex', alpha=0.05)"
   ]
  },
  {
   "cell_type": "code",
   "execution_count": 20,
   "id": "d4913ce6",
   "metadata": {},
   "outputs": [
    {
     "name": "stdout",
     "output_type": "stream",
     "text": [
      "Shapiro-Wilk test p-value for Age-standardized death rate per 100 000 standard population: 1.5440151327622553e-12\n",
      "Shapiro-Wilk test p-value for log-transformed Age-standardized death rate per 100 000 standard population: 1.2300984053581487e-05\n",
      "Log-transformed Age-standardized death rate per 100 000 standard population is also not normally distributed.\n"
     ]
    },
    {
     "data": {
      "image/png": "[encoded data removed]",
      "text/plain": [
       "<Figure size 640x480 with 1 Axes>"
      ]
     },
     "metadata": {},
     "output_type": "display_data"
    },
    {
     "name": "stdout",
     "output_type": "stream",
     "text": [
      "Mann-Whitney U-test for Men and Women on Age-standardized death rate per 100 000 standard population:\n",
      "Statistic: 2507.0\n",
      "p-value: 0.0002087679981429178\n",
      "Conclusion: There is a significant difference between Men and Women.\n"
     ]
    }
   ],
   "source": [
    "test_distribution_and_compare_sexes(df1, 'Age-standardized death rate per 100 000 standard population', 'Sex', alpha=0.05)\n"
   ]
  },
  {
   "cell_type": "code",
   "execution_count": 21,
   "id": "29b050a5",
   "metadata": {},
   "outputs": [
    {
     "name": "stdout",
     "output_type": "stream",
     "text": [
      "Shapiro-Wilk test p-value for Death rate per 100 000 population: 2.628274160809685e-11\n",
      "Shapiro-Wilk test p-value for log-transformed Death rate per 100 000 population: 7.737612577329855e-06\n",
      "Log-transformed Death rate per 100 000 population is also not normally distributed.\n"
     ]
    },
    {
     "data": {
      "image/png": "[encoded data removed]",
      "text/plain": [
       "<Figure size 640x480 with 1 Axes>"
      ]
     },
     "metadata": {},
     "output_type": "display_data"
    },
    {
     "name": "stdout",
     "output_type": "stream",
     "text": [
      "Mann-Whitney U-test for Men and Women on Death rate per 100 000 population:\n",
      "Statistic: 1681.0\n",
      "p-value: 0.5339657379759071\n",
      "Conclusion: There is no significant difference between Men and Women.\n"
     ]
    }
   ],
   "source": [
    "test_distribution_and_compare_sexes(df1, 'Death rate per 100 000 population', 'Sex', alpha=0.05)\n"
   ]
  },
  {
   "cell_type": "markdown",
   "id": "a090d787",
   "metadata": {},
   "source": [
    "# Noncommunicable diseases"
   ]
  },
  {
   "cell_type": "code",
   "execution_count": 22,
   "id": "ef546ffd",
   "metadata": {},
   "outputs": [
    {
     "data": {
      "text/html": [
       "<div>\n",
       "<style scoped>\n",
       "    .dataframe tbody tr th:only-of-type {\n",
       "        vertical-align: middle;\n",
       "    }\n",
       "\n",
       "    .dataframe tbody tr th {\n",
       "        vertical-align: top;\n",
       "    }\n",
       "\n",
       "    .dataframe thead th {\n",
       "        text-align: right;\n",
       "    }\n",
       "</style>\n",
       "<table border=\"1\" class=\"dataframe\">\n",
       "  <thead>\n",
       "    <tr style=\"text-align: right;\">\n",
       "      <th></th>\n",
       "      <th>Region Code</th>\n",
       "      <th>Region Name</th>\n",
       "      <th>Country Code</th>\n",
       "      <th>Country Name</th>\n",
       "      <th>Year</th>\n",
       "      <th>Sex</th>\n",
       "      <th>Age group code</th>\n",
       "      <th>Age group</th>\n",
       "      <th>Number</th>\n",
       "      <th>Percentage of cause-specific deaths out of total deaths</th>\n",
       "      <th>Age-standardized death rate per 100 000 standard population</th>\n",
       "      <th>Death rate per 100 000 population</th>\n",
       "    </tr>\n",
       "  </thead>\n",
       "  <tbody>\n",
       "    <tr>\n",
       "      <th>27</th>\n",
       "      <td>EU</td>\n",
       "      <td>Europe</td>\n",
       "      <td>CHE</td>\n",
       "      <td>Switzerland</td>\n",
       "      <td>1960</td>\n",
       "      <td>All</td>\n",
       "      <td>Age_all</td>\n",
       "      <td>[All]</td>\n",
       "      <td>41630.0</td>\n",
       "      <td>79.913234</td>\n",
       "      <td>680.373170</td>\n",
       "      <td>781.358509</td>\n",
       "    </tr>\n",
       "    <tr>\n",
       "      <th>28</th>\n",
       "      <td>EU</td>\n",
       "      <td>Europe</td>\n",
       "      <td>CHE</td>\n",
       "      <td>Switzerland</td>\n",
       "      <td>1960</td>\n",
       "      <td>Male</td>\n",
       "      <td>Age_all</td>\n",
       "      <td>[All]</td>\n",
       "      <td>20818.0</td>\n",
       "      <td>77.012430</td>\n",
       "      <td>797.914662</td>\n",
       "      <td>806.524097</td>\n",
       "    </tr>\n",
       "    <tr>\n",
       "      <th>29</th>\n",
       "      <td>EU</td>\n",
       "      <td>Europe</td>\n",
       "      <td>CHE</td>\n",
       "      <td>Switzerland</td>\n",
       "      <td>1960</td>\n",
       "      <td>Female</td>\n",
       "      <td>Age_all</td>\n",
       "      <td>[All]</td>\n",
       "      <td>20812.0</td>\n",
       "      <td>83.042056</td>\n",
       "      <td>590.731582</td>\n",
       "      <td>757.709251</td>\n",
       "    </tr>\n",
       "    <tr>\n",
       "      <th>30</th>\n",
       "      <td>EU</td>\n",
       "      <td>Europe</td>\n",
       "      <td>CHE</td>\n",
       "      <td>Switzerland</td>\n",
       "      <td>1961</td>\n",
       "      <td>All</td>\n",
       "      <td>Age_all</td>\n",
       "      <td>[All]</td>\n",
       "      <td>41604.0</td>\n",
       "      <td>81.570073</td>\n",
       "      <td>661.317901</td>\n",
       "      <td>765.567496</td>\n",
       "    </tr>\n",
       "    <tr>\n",
       "      <th>31</th>\n",
       "      <td>EU</td>\n",
       "      <td>Europe</td>\n",
       "      <td>CHE</td>\n",
       "      <td>Switzerland</td>\n",
       "      <td>1961</td>\n",
       "      <td>Male</td>\n",
       "      <td>Age_all</td>\n",
       "      <td>[All]</td>\n",
       "      <td>21238.0</td>\n",
       "      <td>78.884225</td>\n",
       "      <td>791.807880</td>\n",
       "      <td>806.026794</td>\n",
       "    </tr>\n",
       "    <tr>\n",
       "      <th>32</th>\n",
       "      <td>EU</td>\n",
       "      <td>Europe</td>\n",
       "      <td>CHE</td>\n",
       "      <td>Switzerland</td>\n",
       "      <td>1961</td>\n",
       "      <td>Female</td>\n",
       "      <td>Age_all</td>\n",
       "      <td>[All]</td>\n",
       "      <td>20366.0</td>\n",
       "      <td>84.572900</td>\n",
       "      <td>562.575749</td>\n",
       "      <td>727.487051</td>\n",
       "    </tr>\n",
       "    <tr>\n",
       "      <th>33</th>\n",
       "      <td>EU</td>\n",
       "      <td>Europe</td>\n",
       "      <td>CHE</td>\n",
       "      <td>Switzerland</td>\n",
       "      <td>1962</td>\n",
       "      <td>All</td>\n",
       "      <td>Age_all</td>\n",
       "      <td>[All]</td>\n",
       "      <td>44504.0</td>\n",
       "      <td>80.732880</td>\n",
       "      <td>692.182300</td>\n",
       "      <td>798.449891</td>\n",
       "    </tr>\n",
       "    <tr>\n",
       "      <th>34</th>\n",
       "      <td>EU</td>\n",
       "      <td>Europe</td>\n",
       "      <td>CHE</td>\n",
       "      <td>Switzerland</td>\n",
       "      <td>1962</td>\n",
       "      <td>Male</td>\n",
       "      <td>Age_all</td>\n",
       "      <td>[All]</td>\n",
       "      <td>22502.0</td>\n",
       "      <td>78.102114</td>\n",
       "      <td>825.575080</td>\n",
       "      <td>831.467317</td>\n",
       "    </tr>\n",
       "    <tr>\n",
       "      <th>35</th>\n",
       "      <td>EU</td>\n",
       "      <td>Europe</td>\n",
       "      <td>CHE</td>\n",
       "      <td>Switzerland</td>\n",
       "      <td>1962</td>\n",
       "      <td>Female</td>\n",
       "      <td>Age_all</td>\n",
       "      <td>[All]</td>\n",
       "      <td>22002.0</td>\n",
       "      <td>83.613286</td>\n",
       "      <td>591.899228</td>\n",
       "      <td>767.288579</td>\n",
       "    </tr>\n",
       "    <tr>\n",
       "      <th>38</th>\n",
       "      <td>EU</td>\n",
       "      <td>Europe</td>\n",
       "      <td>CHE</td>\n",
       "      <td>Switzerland</td>\n",
       "      <td>1963</td>\n",
       "      <td>Female</td>\n",
       "      <td>Age_all</td>\n",
       "      <td>[All]</td>\n",
       "      <td>22370.0</td>\n",
       "      <td>82.962468</td>\n",
       "      <td>588.320299</td>\n",
       "      <td>764.603343</td>\n",
       "    </tr>\n",
       "  </tbody>\n",
       "</table>\n",
       "</div>"
      ],
      "text/plain": [
       "   Region Code Region Name Country Code Country Name  Year     Sex  \\\n",
       "27          EU      Europe          CHE  Switzerland  1960     All   \n",
       "28          EU      Europe          CHE  Switzerland  1960    Male   \n",
       "29          EU      Europe          CHE  Switzerland  1960  Female   \n",
       "30          EU      Europe          CHE  Switzerland  1961     All   \n",
       "31          EU      Europe          CHE  Switzerland  1961    Male   \n",
       "32          EU      Europe          CHE  Switzerland  1961  Female   \n",
       "33          EU      Europe          CHE  Switzerland  1962     All   \n",
       "34          EU      Europe          CHE  Switzerland  1962    Male   \n",
       "35          EU      Europe          CHE  Switzerland  1962  Female   \n",
       "38          EU      Europe          CHE  Switzerland  1963  Female   \n",
       "\n",
       "   Age group code Age group   Number  \\\n",
       "27        Age_all     [All]  41630.0   \n",
       "28        Age_all     [All]  20818.0   \n",
       "29        Age_all     [All]  20812.0   \n",
       "30        Age_all     [All]  41604.0   \n",
       "31        Age_all     [All]  21238.0   \n",
       "32        Age_all     [All]  20366.0   \n",
       "33        Age_all     [All]  44504.0   \n",
       "34        Age_all     [All]  22502.0   \n",
       "35        Age_all     [All]  22002.0   \n",
       "38        Age_all     [All]  22370.0   \n",
       "\n",
       "    Percentage of cause-specific deaths out of total deaths  \\\n",
       "27                                          79.913234         \n",
       "28                                          77.012430         \n",
       "29                                          83.042056         \n",
       "30                                          81.570073         \n",
       "31                                          78.884225         \n",
       "32                                          84.572900         \n",
       "33                                          80.732880         \n",
       "34                                          78.102114         \n",
       "35                                          83.613286         \n",
       "38                                          82.962468         \n",
       "\n",
       "    Age-standardized death rate per 100 000 standard population  \\\n",
       "27                                         680.373170             \n",
       "28                                         797.914662             \n",
       "29                                         590.731582             \n",
       "30                                         661.317901             \n",
       "31                                         791.807880             \n",
       "32                                         562.575749             \n",
       "33                                         692.182300             \n",
       "34                                         825.575080             \n",
       "35                                         591.899228             \n",
       "38                                         588.320299             \n",
       "\n",
       "    Death rate per 100 000 population  \n",
       "27                         781.358509  \n",
       "28                         806.524097  \n",
       "29                         757.709251  \n",
       "30                         765.567496  \n",
       "31                         806.026794  \n",
       "32                         727.487051  \n",
       "33                         798.449891  \n",
       "34                         831.467317  \n",
       "35                         767.288579  \n",
       "38                         764.603343  "
      ]
     },
     "execution_count": 22,
     "metadata": {},
     "output_type": "execute_result"
    }
   ],
   "source": [
    "df2 = pd.read_excel('Noncommunicable diseases.xlsx')\n",
    "df2 = df2[(df2['Year'] > 1959) & (df2['Year'] < 2020)]\n",
    "df2 = df2.sort_values(by=\"Year\", ascending=True)\n",
    "df2.head(10)"
   ]
  },
  {
   "cell_type": "code",
   "execution_count": 23,
   "id": "3761f4a4",
   "metadata": {},
   "outputs": [
    {
     "name": "stdout",
     "output_type": "stream",
     "text": [
      "<class 'pandas.core.frame.DataFrame'>\n",
      "Int64Index: 180 entries, 27 to 196\n",
      "Data columns (total 12 columns):\n",
      " #   Column                                                       Non-Null Count  Dtype  \n",
      "---  ------                                                       --------------  -----  \n",
      " 0   Region Code                                                  180 non-null    object \n",
      " 1   Region Name                                                  180 non-null    object \n",
      " 2   Country Code                                                 180 non-null    object \n",
      " 3   Country Name                                                 180 non-null    object \n",
      " 4   Year                                                         180 non-null    int64  \n",
      " 5   Sex                                                          180 non-null    object \n",
      " 6   Age group code                                               180 non-null    object \n",
      " 7   Age group                                                    180 non-null    object \n",
      " 8   Number                                                       180 non-null    float64\n",
      " 9   Percentage of cause-specific deaths out of total deaths      180 non-null    float64\n",
      " 10  Age-standardized death rate per 100 000 standard population  180 non-null    float64\n",
      " 11  Death rate per 100 000 population                            180 non-null    float64\n",
      "dtypes: float64(4), int64(1), object(7)\n",
      "memory usage: 18.3+ KB\n",
      "None\n"
     ]
    }
   ],
   "source": [
    "#to see if there are any missing values and see what data types we have\n",
    "print(df2.info())\n",
    "#no NAs we good"
   ]
  },
  {
   "cell_type": "code",
   "execution_count": 24,
   "id": "d82315b5",
   "metadata": {},
   "outputs": [],
   "source": [
    "#to get rid of uneccessary stuff\n",
    "columns_to_remove = ['Region Code', 'Region Name','Country Code','Age group code','Age group', ]\n",
    "df2 = df2.drop(columns=columns_to_remove)\n",
    "columns_to_remove1 = ['Year']\n",
    "df2stat = df2.drop(columns=columns_to_remove1)\n",
    "grouped_stats2 = df2stat.groupby('Sex').describe()\n",
    "grouped_stats2.to_excel('grouped_stats noncomm.xlsx', sheet_name='Statistics')"
   ]
  },
  {
   "cell_type": "markdown",
   "id": "87acdb36",
   "metadata": {},
   "source": [
    "Distributional analysis and tests to see if there are significant differences between of numeric variables for genders."
   ]
  },
  {
   "cell_type": "code",
   "execution_count": 25,
   "id": "6ca616b1",
   "metadata": {},
   "outputs": [
    {
     "name": "stdout",
     "output_type": "stream",
     "text": [
      "Shapiro-Wilk test p-value for Number: 1.297214547456608e-15\n",
      "Shapiro-Wilk test p-value for log-transformed Number: 2.1885766040164595e-14\n",
      "Log-transformed Number is also not normally distributed.\n"
     ]
    },
    {
     "data": {
      "image/png": "[encoded data removed]",
      "text/plain": [
       "<Figure size 640x480 with 1 Axes>"
      ]
     },
     "metadata": {},
     "output_type": "display_data"
    },
    {
     "name": "stdout",
     "output_type": "stream",
     "text": [
      "Mann-Whitney U-test for Men and Women on Number:\n",
      "Statistic: 1594.0\n",
      "p-value: 0.2807681883057561\n",
      "Conclusion: There is no significant difference between Men and Women.\n"
     ]
    }
   ],
   "source": [
    "test_distribution_and_compare_sexes(df2, 'Number', 'Sex', alpha=0.05)"
   ]
  },
  {
   "cell_type": "code",
   "execution_count": 26,
   "id": "7ca387da",
   "metadata": {},
   "outputs": [
    {
     "name": "stdout",
     "output_type": "stream",
     "text": [
      "Shapiro-Wilk test p-value for Percentage of cause-specific deaths out of total deaths: 1.4277152331487741e-06\n",
      "Shapiro-Wilk test p-value for log-transformed Percentage of cause-specific deaths out of total deaths: 3.122007683487027e-07\n",
      "Log-transformed Percentage of cause-specific deaths out of total deaths is also not normally distributed.\n"
     ]
    },
    {
     "data": {
      "image/png": "[encoded data removed]",
      "text/plain": [
       "<Figure size 640x480 with 1 Axes>"
      ]
     },
     "metadata": {},
     "output_type": "display_data"
    },
    {
     "name": "stdout",
     "output_type": "stream",
     "text": [
      "Mann-Whitney U-test for Men and Women on Percentage of cause-specific deaths out of total deaths:\n",
      "Statistic: 367.0\n",
      "p-value: 5.5334103385233365e-14\n",
      "Conclusion: There is a significant difference between Men and Women.\n"
     ]
    }
   ],
   "source": [
    "test_distribution_and_compare_sexes(df2, 'Percentage of cause-specific deaths out of total deaths', 'Sex', alpha=0.05)"
   ]
  },
  {
   "cell_type": "code",
   "execution_count": 27,
   "id": "81f29bb1",
   "metadata": {},
   "outputs": [
    {
     "name": "stdout",
     "output_type": "stream",
     "text": [
      "Shapiro-Wilk test p-value for Age-standardized death rate per 100 000 standard population: 6.9220532168401405e-06\n",
      "Shapiro-Wilk test p-value for log-transformed Age-standardized death rate per 100 000 standard population: 0.0005155204562470317\n",
      "Log-transformed Age-standardized death rate per 100 000 standard population is also not normally distributed.\n"
     ]
    },
    {
     "data": {
      "image/png": "[encoded data removed]",
      "text/plain": [
       "<Figure size 640x480 with 1 Axes>"
      ]
     },
     "metadata": {},
     "output_type": "display_data"
    },
    {
     "name": "stdout",
     "output_type": "stream",
     "text": [
      "Mann-Whitney U-test for Men and Women on Age-standardized death rate per 100 000 standard population:\n",
      "Statistic: 3004.0\n",
      "p-value: 2.671439663630276e-10\n",
      "Conclusion: There is a significant difference between Men and Women.\n"
     ]
    }
   ],
   "source": [
    "test_distribution_and_compare_sexes(df2, 'Age-standardized death rate per 100 000 standard population', 'Sex', alpha=0.05)"
   ]
  },
  {
   "cell_type": "code",
   "execution_count": 28,
   "id": "ed07ef08",
   "metadata": {},
   "outputs": [
    {
     "name": "stdout",
     "output_type": "stream",
     "text": [
      "Shapiro-Wilk test p-value for Death rate per 100 000 population: 0.2848713994026184\n",
      "Death rate per 100 000 population is normally distributed.\n",
      "T-test for Men and Women:\n",
      "T-statistic: 2.6232129948394425\n",
      "p-value: 0.009860459695880234\n",
      "Conclusion: There is a significant difference between Men and Women.\n"
     ]
    }
   ],
   "source": [
    "test_distribution_and_compare_sexes(df2, 'Death rate per 100 000 population', 'Sex', alpha=0.05)"
   ]
  },
  {
   "cell_type": "markdown",
   "id": "05b91e2d",
   "metadata": {},
   "source": [
    "## Malignant neoplasms"
   ]
  },
  {
   "cell_type": "code",
   "execution_count": 29,
   "id": "a6d728d0",
   "metadata": {},
   "outputs": [
    {
     "data": {
      "text/html": [
       "<div>\n",
       "<style scoped>\n",
       "    .dataframe tbody tr th:only-of-type {\n",
       "        vertical-align: middle;\n",
       "    }\n",
       "\n",
       "    .dataframe tbody tr th {\n",
       "        vertical-align: top;\n",
       "    }\n",
       "\n",
       "    .dataframe thead th {\n",
       "        text-align: right;\n",
       "    }\n",
       "</style>\n",
       "<table border=\"1\" class=\"dataframe\">\n",
       "  <thead>\n",
       "    <tr style=\"text-align: right;\">\n",
       "      <th></th>\n",
       "      <th>Region Code</th>\n",
       "      <th>Region Name</th>\n",
       "      <th>Country Code</th>\n",
       "      <th>Country Name</th>\n",
       "      <th>Year</th>\n",
       "      <th>Sex</th>\n",
       "      <th>Age group code</th>\n",
       "      <th>Age group</th>\n",
       "      <th>Number</th>\n",
       "      <th>Percentage of cause-specific deaths out of total deaths</th>\n",
       "      <th>Age-standardized death rate per 100 000 standard population</th>\n",
       "      <th>Death rate per 100 000 population</th>\n",
       "    </tr>\n",
       "  </thead>\n",
       "  <tbody>\n",
       "    <tr>\n",
       "      <th>27</th>\n",
       "      <td>EU</td>\n",
       "      <td>Europe</td>\n",
       "      <td>CHE</td>\n",
       "      <td>Switzerland</td>\n",
       "      <td>1960</td>\n",
       "      <td>All</td>\n",
       "      <td>Age_all</td>\n",
       "      <td>[All]</td>\n",
       "      <td>10062.0</td>\n",
       "      <td>19.315084</td>\n",
       "      <td>157.999534</td>\n",
       "      <td>188.854896</td>\n",
       "    </tr>\n",
       "    <tr>\n",
       "      <th>28</th>\n",
       "      <td>EU</td>\n",
       "      <td>Europe</td>\n",
       "      <td>CHE</td>\n",
       "      <td>Switzerland</td>\n",
       "      <td>1960</td>\n",
       "      <td>Male</td>\n",
       "      <td>Age_all</td>\n",
       "      <td>[All]</td>\n",
       "      <td>5311.0</td>\n",
       "      <td>19.647085</td>\n",
       "      <td>191.839851</td>\n",
       "      <td>205.757012</td>\n",
       "    </tr>\n",
       "    <tr>\n",
       "      <th>29</th>\n",
       "      <td>EU</td>\n",
       "      <td>Europe</td>\n",
       "      <td>CHE</td>\n",
       "      <td>Switzerland</td>\n",
       "      <td>1960</td>\n",
       "      <td>Female</td>\n",
       "      <td>Age_all</td>\n",
       "      <td>[All]</td>\n",
       "      <td>4751.0</td>\n",
       "      <td>18.956987</td>\n",
       "      <td>133.427527</td>\n",
       "      <td>172.971202</td>\n",
       "    </tr>\n",
       "    <tr>\n",
       "      <th>30</th>\n",
       "      <td>EU</td>\n",
       "      <td>Europe</td>\n",
       "      <td>CHE</td>\n",
       "      <td>Switzerland</td>\n",
       "      <td>1961</td>\n",
       "      <td>All</td>\n",
       "      <td>Age_all</td>\n",
       "      <td>[All]</td>\n",
       "      <td>10362.0</td>\n",
       "      <td>20.316054</td>\n",
       "      <td>159.361353</td>\n",
       "      <td>190.674223</td>\n",
       "    </tr>\n",
       "    <tr>\n",
       "      <th>31</th>\n",
       "      <td>EU</td>\n",
       "      <td>Europe</td>\n",
       "      <td>CHE</td>\n",
       "      <td>Switzerland</td>\n",
       "      <td>1961</td>\n",
       "      <td>Male</td>\n",
       "      <td>Age_all</td>\n",
       "      <td>[All]</td>\n",
       "      <td>5582.0</td>\n",
       "      <td>20.733202</td>\n",
       "      <td>197.588060</td>\n",
       "      <td>211.848647</td>\n",
       "    </tr>\n",
       "    <tr>\n",
       "      <th>32</th>\n",
       "      <td>EU</td>\n",
       "      <td>Europe</td>\n",
       "      <td>CHE</td>\n",
       "      <td>Switzerland</td>\n",
       "      <td>1961</td>\n",
       "      <td>Female</td>\n",
       "      <td>Age_all</td>\n",
       "      <td>[All]</td>\n",
       "      <td>4780.0</td>\n",
       "      <td>19.849674</td>\n",
       "      <td>131.878766</td>\n",
       "      <td>170.744776</td>\n",
       "    </tr>\n",
       "    <tr>\n",
       "      <th>33</th>\n",
       "      <td>EU</td>\n",
       "      <td>Europe</td>\n",
       "      <td>CHE</td>\n",
       "      <td>Switzerland</td>\n",
       "      <td>1962</td>\n",
       "      <td>All</td>\n",
       "      <td>Age_all</td>\n",
       "      <td>[All]</td>\n",
       "      <td>10535.0</td>\n",
       "      <td>19.111111</td>\n",
       "      <td>158.448422</td>\n",
       "      <td>189.009293</td>\n",
       "    </tr>\n",
       "    <tr>\n",
       "      <th>34</th>\n",
       "      <td>EU</td>\n",
       "      <td>Europe</td>\n",
       "      <td>CHE</td>\n",
       "      <td>Switzerland</td>\n",
       "      <td>1962</td>\n",
       "      <td>Male</td>\n",
       "      <td>Age_all</td>\n",
       "      <td>[All]</td>\n",
       "      <td>5615.0</td>\n",
       "      <td>19.489084</td>\n",
       "      <td>194.731971</td>\n",
       "      <td>207.478846</td>\n",
       "    </tr>\n",
       "    <tr>\n",
       "      <th>35</th>\n",
       "      <td>EU</td>\n",
       "      <td>Europe</td>\n",
       "      <td>CHE</td>\n",
       "      <td>Switzerland</td>\n",
       "      <td>1962</td>\n",
       "      <td>Female</td>\n",
       "      <td>Age_all</td>\n",
       "      <td>[All]</td>\n",
       "      <td>4920.0</td>\n",
       "      <td>18.697271</td>\n",
       "      <td>132.233164</td>\n",
       "      <td>171.578030</td>\n",
       "    </tr>\n",
       "    <tr>\n",
       "      <th>38</th>\n",
       "      <td>EU</td>\n",
       "      <td>Europe</td>\n",
       "      <td>CHE</td>\n",
       "      <td>Switzerland</td>\n",
       "      <td>1963</td>\n",
       "      <td>Female</td>\n",
       "      <td>Age_all</td>\n",
       "      <td>[All]</td>\n",
       "      <td>4865.0</td>\n",
       "      <td>18.042575</td>\n",
       "      <td>128.149583</td>\n",
       "      <td>166.284992</td>\n",
       "    </tr>\n",
       "  </tbody>\n",
       "</table>\n",
       "</div>"
      ],
      "text/plain": [
       "   Region Code Region Name Country Code Country Name  Year     Sex  \\\n",
       "27          EU      Europe          CHE  Switzerland  1960     All   \n",
       "28          EU      Europe          CHE  Switzerland  1960    Male   \n",
       "29          EU      Europe          CHE  Switzerland  1960  Female   \n",
       "30          EU      Europe          CHE  Switzerland  1961     All   \n",
       "31          EU      Europe          CHE  Switzerland  1961    Male   \n",
       "32          EU      Europe          CHE  Switzerland  1961  Female   \n",
       "33          EU      Europe          CHE  Switzerland  1962     All   \n",
       "34          EU      Europe          CHE  Switzerland  1962    Male   \n",
       "35          EU      Europe          CHE  Switzerland  1962  Female   \n",
       "38          EU      Europe          CHE  Switzerland  1963  Female   \n",
       "\n",
       "   Age group code Age group   Number  \\\n",
       "27        Age_all     [All]  10062.0   \n",
       "28        Age_all     [All]   5311.0   \n",
       "29        Age_all     [All]   4751.0   \n",
       "30        Age_all     [All]  10362.0   \n",
       "31        Age_all     [All]   5582.0   \n",
       "32        Age_all     [All]   4780.0   \n",
       "33        Age_all     [All]  10535.0   \n",
       "34        Age_all     [All]   5615.0   \n",
       "35        Age_all     [All]   4920.0   \n",
       "38        Age_all     [All]   4865.0   \n",
       "\n",
       "    Percentage of cause-specific deaths out of total deaths  \\\n",
       "27                                          19.315084         \n",
       "28                                          19.647085         \n",
       "29                                          18.956987         \n",
       "30                                          20.316054         \n",
       "31                                          20.733202         \n",
       "32                                          19.849674         \n",
       "33                                          19.111111         \n",
       "34                                          19.489084         \n",
       "35                                          18.697271         \n",
       "38                                          18.042575         \n",
       "\n",
       "    Age-standardized death rate per 100 000 standard population  \\\n",
       "27                                         157.999534             \n",
       "28                                         191.839851             \n",
       "29                                         133.427527             \n",
       "30                                         159.361353             \n",
       "31                                         197.588060             \n",
       "32                                         131.878766             \n",
       "33                                         158.448422             \n",
       "34                                         194.731971             \n",
       "35                                         132.233164             \n",
       "38                                         128.149583             \n",
       "\n",
       "    Death rate per 100 000 population  \n",
       "27                         188.854896  \n",
       "28                         205.757012  \n",
       "29                         172.971202  \n",
       "30                         190.674223  \n",
       "31                         211.848647  \n",
       "32                         170.744776  \n",
       "33                         189.009293  \n",
       "34                         207.478846  \n",
       "35                         171.578030  \n",
       "38                         166.284992  "
      ]
     },
     "execution_count": 29,
     "metadata": {},
     "output_type": "execute_result"
    }
   ],
   "source": [
    "dfm = pd.read_excel('malignant neoplasms.xlsx')\n",
    "dfm = dfm[(dfm['Year'] > 1959) & (dfm['Year'] < 2020)]\n",
    "dfm = dfm.sort_values(by=\"Year\", ascending=True)\n",
    "dfm.head(10)"
   ]
  },
  {
   "cell_type": "code",
   "execution_count": 30,
   "id": "a386124b",
   "metadata": {},
   "outputs": [],
   "source": [
    "#to get rid of uneccessary stuff\n",
    "columns_to_remove = ['Region Code', 'Region Name','Country Code','Age group code','Age group', ]\n",
    "dfm = dfm.drop(columns=columns_to_remove)\n",
    "columns_to_remove1 = ['Year']\n",
    "df2stat = dfm.drop(columns=columns_to_remove1)\n",
    "grouped_stats2 = df2stat.groupby('Sex').describe()\n",
    "grouped_stats2.to_excel('grouped_stats malignant.xlsx', sheet_name='Statistics')"
   ]
  },
  {
   "cell_type": "code",
   "execution_count": 31,
   "id": "3ec14a5f",
   "metadata": {},
   "outputs": [
    {
     "name": "stdout",
     "output_type": "stream",
     "text": [
      "Shapiro-Wilk test p-value for Percentage of cause-specific deaths out of total deaths: 0.0010920854983851314\n",
      "Shapiro-Wilk test p-value for log-transformed Percentage of cause-specific deaths out of total deaths: 0.0030510053038597107\n",
      "Log-transformed Percentage of cause-specific deaths out of total deaths is also not normally distributed.\n"
     ]
    },
    {
     "data": {
      "image/png": "[encoded data removed]",
      "text/plain": [
       "<Figure size 640x480 with 1 Axes>"
      ]
     },
     "metadata": {},
     "output_type": "display_data"
    },
    {
     "name": "stdout",
     "output_type": "stream",
     "text": [
      "Mann-Whitney U-test for Men and Women on Percentage of cause-specific deaths out of total deaths:\n",
      "Statistic: 3074.0\n",
      "p-value: 2.32282245376132e-11\n",
      "Conclusion: There is a significant difference between Men and Women.\n"
     ]
    }
   ],
   "source": [
    "test_distribution_and_compare_sexes(dfm, 'Percentage of cause-specific deaths out of total deaths', 'Sex', alpha=0.05)"
   ]
  },
  {
   "cell_type": "code",
   "execution_count": 32,
   "id": "3cc47503",
   "metadata": {},
   "outputs": [
    {
     "name": "stdout",
     "output_type": "stream",
     "text": [
      "Shapiro-Wilk test p-value for Death rate per 100 000 population: 1.4480040590569843e-05\n",
      "Shapiro-Wilk test p-value for log-transformed Death rate per 100 000 population: 0.0003469482180662453\n",
      "Log-transformed Death rate per 100 000 population is also not normally distributed.\n"
     ]
    },
    {
     "data": {
      "image/png": "[encoded data removed]",
      "text/plain": [
       "<Figure size 640x480 with 1 Axes>"
      ]
     },
     "metadata": {},
     "output_type": "display_data"
    },
    {
     "name": "stdout",
     "output_type": "stream",
     "text": [
      "Mann-Whitney U-test for Men and Women on Death rate per 100 000 population:\n",
      "Statistic: 3557.0\n",
      "p-value: 2.9922994138284244e-20\n",
      "Conclusion: There is a significant difference between Men and Women.\n"
     ]
    }
   ],
   "source": [
    "test_distribution_and_compare_sexes(dfm, 'Death rate per 100 000 population', 'Sex', alpha=0.05)"
   ]
  },
  {
   "cell_type": "markdown",
   "id": "e9a31711",
   "metadata": {},
   "source": [
    "# Injuries"
   ]
  },
  {
   "cell_type": "code",
   "execution_count": 33,
   "id": "3342c6ae",
   "metadata": {},
   "outputs": [
    {
     "data": {
      "text/html": [
       "<div>\n",
       "<style scoped>\n",
       "    .dataframe tbody tr th:only-of-type {\n",
       "        vertical-align: middle;\n",
       "    }\n",
       "\n",
       "    .dataframe tbody tr th {\n",
       "        vertical-align: top;\n",
       "    }\n",
       "\n",
       "    .dataframe thead th {\n",
       "        text-align: right;\n",
       "    }\n",
       "</style>\n",
       "<table border=\"1\" class=\"dataframe\">\n",
       "  <thead>\n",
       "    <tr style=\"text-align: right;\">\n",
       "      <th></th>\n",
       "      <th>Region Code</th>\n",
       "      <th>Region Name</th>\n",
       "      <th>Country Code</th>\n",
       "      <th>Country Name</th>\n",
       "      <th>Year</th>\n",
       "      <th>Sex</th>\n",
       "      <th>Age group code</th>\n",
       "      <th>Age group</th>\n",
       "      <th>Number</th>\n",
       "      <th>Percentage of cause-specific deaths out of total deaths</th>\n",
       "      <th>Age-standardized death rate per 100 000 standard population</th>\n",
       "      <th>Death rate per 100 000 population</th>\n",
       "      <th>_11</th>\n",
       "    </tr>\n",
       "  </thead>\n",
       "  <tbody>\n",
       "    <tr>\n",
       "      <th>27</th>\n",
       "      <td>EU</td>\n",
       "      <td>Europe</td>\n",
       "      <td>CHE</td>\n",
       "      <td>Switzerland</td>\n",
       "      <td>1960</td>\n",
       "      <td>All</td>\n",
       "      <td>Age_all</td>\n",
       "      <td>[All]</td>\n",
       "      <td>4277.0</td>\n",
       "      <td>8.210159</td>\n",
       "      <td>76.362150</td>\n",
       "      <td>80.275531</td>\n",
       "      <td>NaN</td>\n",
       "    </tr>\n",
       "    <tr>\n",
       "      <th>28</th>\n",
       "      <td>EU</td>\n",
       "      <td>Europe</td>\n",
       "      <td>CHE</td>\n",
       "      <td>Switzerland</td>\n",
       "      <td>1960</td>\n",
       "      <td>Male</td>\n",
       "      <td>Age_all</td>\n",
       "      <td>[All]</td>\n",
       "      <td>2966.0</td>\n",
       "      <td>10.972181</td>\n",
       "      <td>113.171085</td>\n",
       "      <td>114.907795</td>\n",
       "      <td>NaN</td>\n",
       "    </tr>\n",
       "    <tr>\n",
       "      <th>29</th>\n",
       "      <td>EU</td>\n",
       "      <td>Europe</td>\n",
       "      <td>CHE</td>\n",
       "      <td>Switzerland</td>\n",
       "      <td>1960</td>\n",
       "      <td>Female</td>\n",
       "      <td>Age_all</td>\n",
       "      <td>[All]</td>\n",
       "      <td>1311.0</td>\n",
       "      <td>5.231027</td>\n",
       "      <td>42.393929</td>\n",
       "      <td>47.730003</td>\n",
       "      <td>NaN</td>\n",
       "    </tr>\n",
       "    <tr>\n",
       "      <th>30</th>\n",
       "      <td>EU</td>\n",
       "      <td>Europe</td>\n",
       "      <td>CHE</td>\n",
       "      <td>Switzerland</td>\n",
       "      <td>1961</td>\n",
       "      <td>All</td>\n",
       "      <td>Age_all</td>\n",
       "      <td>[All]</td>\n",
       "      <td>4525.0</td>\n",
       "      <td>8.871853</td>\n",
       "      <td>78.974963</td>\n",
       "      <td>83.265862</td>\n",
       "      <td>NaN</td>\n",
       "    </tr>\n",
       "    <tr>\n",
       "      <th>31</th>\n",
       "      <td>EU</td>\n",
       "      <td>Europe</td>\n",
       "      <td>CHE</td>\n",
       "      <td>Switzerland</td>\n",
       "      <td>1961</td>\n",
       "      <td>Male</td>\n",
       "      <td>Age_all</td>\n",
       "      <td>[All]</td>\n",
       "      <td>3103.0</td>\n",
       "      <td>11.525462</td>\n",
       "      <td>115.966939</td>\n",
       "      <td>117.765380</td>\n",
       "      <td>NaN</td>\n",
       "    </tr>\n",
       "    <tr>\n",
       "      <th>32</th>\n",
       "      <td>EU</td>\n",
       "      <td>Europe</td>\n",
       "      <td>CHE</td>\n",
       "      <td>Switzerland</td>\n",
       "      <td>1961</td>\n",
       "      <td>Female</td>\n",
       "      <td>Age_all</td>\n",
       "      <td>[All]</td>\n",
       "      <td>1422.0</td>\n",
       "      <td>5.905070</td>\n",
       "      <td>44.656823</td>\n",
       "      <td>50.794785</td>\n",
       "      <td>NaN</td>\n",
       "    </tr>\n",
       "    <tr>\n",
       "      <th>33</th>\n",
       "      <td>EU</td>\n",
       "      <td>Europe</td>\n",
       "      <td>CHE</td>\n",
       "      <td>Switzerland</td>\n",
       "      <td>1962</td>\n",
       "      <td>All</td>\n",
       "      <td>Age_all</td>\n",
       "      <td>[All]</td>\n",
       "      <td>4722.0</td>\n",
       "      <td>8.565986</td>\n",
       "      <td>80.431469</td>\n",
       "      <td>84.717787</td>\n",
       "      <td>NaN</td>\n",
       "    </tr>\n",
       "    <tr>\n",
       "      <th>34</th>\n",
       "      <td>EU</td>\n",
       "      <td>Europe</td>\n",
       "      <td>CHE</td>\n",
       "      <td>Switzerland</td>\n",
       "      <td>1962</td>\n",
       "      <td>Male</td>\n",
       "      <td>Age_all</td>\n",
       "      <td>[All]</td>\n",
       "      <td>3219.0</td>\n",
       "      <td>11.172816</td>\n",
       "      <td>117.500345</td>\n",
       "      <td>118.944685</td>\n",
       "      <td>NaN</td>\n",
       "    </tr>\n",
       "    <tr>\n",
       "      <th>35</th>\n",
       "      <td>EU</td>\n",
       "      <td>Europe</td>\n",
       "      <td>CHE</td>\n",
       "      <td>Switzerland</td>\n",
       "      <td>1962</td>\n",
       "      <td>Female</td>\n",
       "      <td>Age_all</td>\n",
       "      <td>[All]</td>\n",
       "      <td>1503.0</td>\n",
       "      <td>5.711788</td>\n",
       "      <td>45.983133</td>\n",
       "      <td>52.414996</td>\n",
       "      <td>NaN</td>\n",
       "    </tr>\n",
       "    <tr>\n",
       "      <th>38</th>\n",
       "      <td>EU</td>\n",
       "      <td>Europe</td>\n",
       "      <td>CHE</td>\n",
       "      <td>Switzerland</td>\n",
       "      <td>1963</td>\n",
       "      <td>Female</td>\n",
       "      <td>Age_all</td>\n",
       "      <td>[All]</td>\n",
       "      <td>1535.0</td>\n",
       "      <td>5.692776</td>\n",
       "      <td>45.792082</td>\n",
       "      <td>52.466076</td>\n",
       "      <td>NaN</td>\n",
       "    </tr>\n",
       "  </tbody>\n",
       "</table>\n",
       "</div>"
      ],
      "text/plain": [
       "   Region Code Region Name Country Code Country Name  Year     Sex  \\\n",
       "27          EU      Europe          CHE  Switzerland  1960     All   \n",
       "28          EU      Europe          CHE  Switzerland  1960    Male   \n",
       "29          EU      Europe          CHE  Switzerland  1960  Female   \n",
       "30          EU      Europe          CHE  Switzerland  1961     All   \n",
       "31          EU      Europe          CHE  Switzerland  1961    Male   \n",
       "32          EU      Europe          CHE  Switzerland  1961  Female   \n",
       "33          EU      Europe          CHE  Switzerland  1962     All   \n",
       "34          EU      Europe          CHE  Switzerland  1962    Male   \n",
       "35          EU      Europe          CHE  Switzerland  1962  Female   \n",
       "38          EU      Europe          CHE  Switzerland  1963  Female   \n",
       "\n",
       "   Age group code Age group  Number  \\\n",
       "27        Age_all     [All]  4277.0   \n",
       "28        Age_all     [All]  2966.0   \n",
       "29        Age_all     [All]  1311.0   \n",
       "30        Age_all     [All]  4525.0   \n",
       "31        Age_all     [All]  3103.0   \n",
       "32        Age_all     [All]  1422.0   \n",
       "33        Age_all     [All]  4722.0   \n",
       "34        Age_all     [All]  3219.0   \n",
       "35        Age_all     [All]  1503.0   \n",
       "38        Age_all     [All]  1535.0   \n",
       "\n",
       "    Percentage of cause-specific deaths out of total deaths  \\\n",
       "27                                           8.210159         \n",
       "28                                          10.972181         \n",
       "29                                           5.231027         \n",
       "30                                           8.871853         \n",
       "31                                          11.525462         \n",
       "32                                           5.905070         \n",
       "33                                           8.565986         \n",
       "34                                          11.172816         \n",
       "35                                           5.711788         \n",
       "38                                           5.692776         \n",
       "\n",
       "    Age-standardized death rate per 100 000 standard population  \\\n",
       "27                                          76.362150             \n",
       "28                                         113.171085             \n",
       "29                                          42.393929             \n",
       "30                                          78.974963             \n",
       "31                                         115.966939             \n",
       "32                                          44.656823             \n",
       "33                                          80.431469             \n",
       "34                                         117.500345             \n",
       "35                                          45.983133             \n",
       "38                                          45.792082             \n",
       "\n",
       "    Death rate per 100 000 population  _11  \n",
       "27                          80.275531  NaN  \n",
       "28                         114.907795  NaN  \n",
       "29                          47.730003  NaN  \n",
       "30                          83.265862  NaN  \n",
       "31                         117.765380  NaN  \n",
       "32                          50.794785  NaN  \n",
       "33                          84.717787  NaN  \n",
       "34                         118.944685  NaN  \n",
       "35                          52.414996  NaN  \n",
       "38                          52.466076  NaN  "
      ]
     },
     "execution_count": 33,
     "metadata": {},
     "output_type": "execute_result"
    }
   ],
   "source": [
    "df3 = pd.read_excel('Injuries.xlsx')\n",
    "df3 = df3[(df3['Year'] > 1959) & (df3['Year'] < 2020)]\n",
    "df3 = df3.sort_values(by=\"Year\", ascending=True)\n",
    "df3.head(10)"
   ]
  },
  {
   "cell_type": "code",
   "execution_count": 34,
   "id": "c3d13fd3",
   "metadata": {},
   "outputs": [
    {
     "name": "stdout",
     "output_type": "stream",
     "text": [
      "<class 'pandas.core.frame.DataFrame'>\n",
      "Int64Index: 180 entries, 27 to 196\n",
      "Data columns (total 13 columns):\n",
      " #   Column                                                       Non-Null Count  Dtype  \n",
      "---  ------                                                       --------------  -----  \n",
      " 0   Region Code                                                  180 non-null    object \n",
      " 1   Region Name                                                  180 non-null    object \n",
      " 2   Country Code                                                 180 non-null    object \n",
      " 3   Country Name                                                 180 non-null    object \n",
      " 4   Year                                                         180 non-null    int64  \n",
      " 5   Sex                                                          180 non-null    object \n",
      " 6   Age group code                                               180 non-null    object \n",
      " 7   Age group                                                    180 non-null    object \n",
      " 8   Number                                                       180 non-null    float64\n",
      " 9   Percentage of cause-specific deaths out of total deaths      180 non-null    float64\n",
      " 10  Age-standardized death rate per 100 000 standard population  180 non-null    float64\n",
      " 11  Death rate per 100 000 population                            180 non-null    float64\n",
      " 12  _11                                                          0 non-null      float64\n",
      "dtypes: float64(5), int64(1), object(7)\n",
      "memory usage: 19.7+ KB\n",
      "None\n"
     ]
    }
   ],
   "source": [
    "#to see if there are any missing values and see what data types we have\n",
    "print(df3.info())\n",
    "#NA column"
   ]
  },
  {
   "cell_type": "code",
   "execution_count": 35,
   "id": "5e73853a",
   "metadata": {},
   "outputs": [],
   "source": [
    "#to get rid of uneccessary stuff\n",
    "columns_to_remove = ['Region Code', 'Region Name','Country Code','Age group code','Age group', '_11' ]\n",
    "df3 = df3.drop(columns=columns_to_remove)\n",
    "columns_to_remove1 = ['Year']\n",
    "df3stat = df3.drop(columns=columns_to_remove1)\n",
    "grouped_stats3 = df3stat.groupby('Sex').describe()\n",
    "grouped_stats3.to_excel('grouped_stats injuries.xlsx', sheet_name='Statistics')"
   ]
  },
  {
   "cell_type": "markdown",
   "id": "7eab1d65",
   "metadata": {},
   "source": [
    "Distributional analysis and tests to see if there are significant differences between of numeric variables for genders."
   ]
  },
  {
   "cell_type": "code",
   "execution_count": 36,
   "id": "d1effca5",
   "metadata": {},
   "outputs": [
    {
     "name": "stdout",
     "output_type": "stream",
     "text": [
      "Shapiro-Wilk test p-value for Number: 6.321704937306549e-09\n",
      "Shapiro-Wilk test p-value for log-transformed Number: 1.160292413260322e-07\n",
      "Log-transformed Number is also not normally distributed.\n"
     ]
    },
    {
     "data": {
      "image/png": "[encoded data removed]",
      "text/plain": [
       "<Figure size 640x480 with 1 Axes>"
      ]
     },
     "metadata": {},
     "output_type": "display_data"
    },
    {
     "name": "stdout",
     "output_type": "stream",
     "text": [
      "Mann-Whitney U-test for Men and Women on Number:\n",
      "Statistic: 3592.0\n",
      "p-value: 5.302821211046542e-21\n",
      "Conclusion: There is a significant difference between Men and Women.\n"
     ]
    }
   ],
   "source": [
    "test_distribution_and_compare_sexes(df3, 'Number', 'Sex', alpha=0.05)"
   ]
  },
  {
   "cell_type": "markdown",
   "id": "91e223ad",
   "metadata": {},
   "source": [
    "MultiModal distribution"
   ]
  },
  {
   "cell_type": "code",
   "execution_count": 37,
   "id": "8c6f8a6e",
   "metadata": {},
   "outputs": [
    {
     "name": "stdout",
     "output_type": "stream",
     "text": [
      "Shapiro-Wilk test p-value for Percentage of cause-specific deaths out of total deaths: 9.148829121841118e-06\n",
      "Shapiro-Wilk test p-value for log-transformed Percentage of cause-specific deaths out of total deaths: 0.0002910490147769451\n",
      "Log-transformed Percentage of cause-specific deaths out of total deaths is also not normally distributed.\n"
     ]
    },
    {
     "data": {
      "image/png": "[encoded data removed]",
      "text/plain": [
       "<Figure size 640x480 with 1 Axes>"
      ]
     },
     "metadata": {},
     "output_type": "display_data"
    },
    {
     "name": "stdout",
     "output_type": "stream",
     "text": [
      "Mann-Whitney U-test for Men and Women on Percentage of cause-specific deaths out of total deaths:\n",
      "Statistic: 3537.0\n",
      "p-value: 7.92082238749499e-20\n",
      "Conclusion: There is a significant difference between Men and Women.\n"
     ]
    }
   ],
   "source": [
    "test_distribution_and_compare_sexes(df3, 'Percentage of cause-specific deaths out of total deaths', 'Sex', alpha=0.05)"
   ]
  },
  {
   "cell_type": "code",
   "execution_count": 38,
   "id": "e3b4d468",
   "metadata": {},
   "outputs": [
    {
     "name": "stdout",
     "output_type": "stream",
     "text": [
      "Shapiro-Wilk test p-value for Age-standardized death rate per 100 000 standard population: 8.786327043708297e-08\n",
      "Shapiro-Wilk test p-value for log-transformed Age-standardized death rate per 100 000 standard population: 0.0005106668686494231\n",
      "Log-transformed Age-standardized death rate per 100 000 standard population is also not normally distributed.\n"
     ]
    },
    {
     "data": {
      "image/png": "[encoded data removed]",
      "text/plain": [
       "<Figure size 640x480 with 1 Axes>"
      ]
     },
     "metadata": {},
     "output_type": "display_data"
    },
    {
     "name": "stdout",
     "output_type": "stream",
     "text": [
      "Mann-Whitney U-test for Men and Women on Age-standardized death rate per 100 000 standard population:\n",
      "Statistic: 3254.0\n",
      "p-value: 2.367716051244256e-14\n",
      "Conclusion: There is a significant difference between Men and Women.\n"
     ]
    }
   ],
   "source": [
    "test_distribution_and_compare_sexes(df3, 'Age-standardized death rate per 100 000 standard population', 'Sex', alpha=0.05)"
   ]
  },
  {
   "cell_type": "code",
   "execution_count": 39,
   "id": "3bfb8f7a",
   "metadata": {},
   "outputs": [
    {
     "name": "stdout",
     "output_type": "stream",
     "text": [
      "Shapiro-Wilk test p-value for Death rate per 100 000 population: 1.4435007855695403e-08\n",
      "Shapiro-Wilk test p-value for log-transformed Death rate per 100 000 population: 1.160285682999529e-05\n",
      "Log-transformed Death rate per 100 000 population is also not normally distributed.\n"
     ]
    },
    {
     "data": {
      "image/png": "[encoded data removed]",
      "text/plain": [
       "<Figure size 640x480 with 1 Axes>"
      ]
     },
     "metadata": {},
     "output_type": "display_data"
    },
    {
     "name": "stdout",
     "output_type": "stream",
     "text": [
      "Mann-Whitney U-test for Men and Women on Death rate per 100 000 population:\n",
      "Statistic: 3324.0\n",
      "p-value: 1.2821248746109598e-15\n",
      "Conclusion: There is a significant difference between Men and Women.\n"
     ]
    }
   ],
   "source": [
    "test_distribution_and_compare_sexes(df3, 'Death rate per 100 000 population', 'Sex', alpha=0.05)"
   ]
  },
  {
   "cell_type": "markdown",
   "id": "dbf6599e",
   "metadata": {},
   "source": [
    "# Ill-defined diseases"
   ]
  },
  {
   "cell_type": "code",
   "execution_count": 40,
   "id": "8023a4f8",
   "metadata": {},
   "outputs": [
    {
     "data": {
      "text/html": [
       "<div>\n",
       "<style scoped>\n",
       "    .dataframe tbody tr th:only-of-type {\n",
       "        vertical-align: middle;\n",
       "    }\n",
       "\n",
       "    .dataframe tbody tr th {\n",
       "        vertical-align: top;\n",
       "    }\n",
       "\n",
       "    .dataframe thead th {\n",
       "        text-align: right;\n",
       "    }\n",
       "</style>\n",
       "<table border=\"1\" class=\"dataframe\">\n",
       "  <thead>\n",
       "    <tr style=\"text-align: right;\">\n",
       "      <th></th>\n",
       "      <th>Region Code</th>\n",
       "      <th>Region Name</th>\n",
       "      <th>Country Code</th>\n",
       "      <th>Country Name</th>\n",
       "      <th>Year</th>\n",
       "      <th>Sex</th>\n",
       "      <th>Age group code</th>\n",
       "      <th>Age group</th>\n",
       "      <th>Number</th>\n",
       "      <th>Percentage of cause-specific deaths out of total deaths</th>\n",
       "      <th>Age-standardized death rate per 100 000 standard population</th>\n",
       "      <th>Death rate per 100 000 population</th>\n",
       "    </tr>\n",
       "  </thead>\n",
       "  <tbody>\n",
       "    <tr>\n",
       "      <th>27</th>\n",
       "      <td>EU</td>\n",
       "      <td>Europe</td>\n",
       "      <td>CHE</td>\n",
       "      <td>Switzerland</td>\n",
       "      <td>1960</td>\n",
       "      <td>All</td>\n",
       "      <td>Age_all</td>\n",
       "      <td>[All]</td>\n",
       "      <td>784.0</td>\n",
       "      <td>1.504972</td>\n",
       "      <td>14.961876</td>\n",
       "      <td>14.714991</td>\n",
       "    </tr>\n",
       "    <tr>\n",
       "      <th>28</th>\n",
       "      <td>EU</td>\n",
       "      <td>Europe</td>\n",
       "      <td>CHE</td>\n",
       "      <td>Switzerland</td>\n",
       "      <td>1960</td>\n",
       "      <td>Male</td>\n",
       "      <td>Age_all</td>\n",
       "      <td>[All]</td>\n",
       "      <td>363.0</td>\n",
       "      <td>1.342853</td>\n",
       "      <td>16.549742</td>\n",
       "      <td>14.063226</td>\n",
       "    </tr>\n",
       "    <tr>\n",
       "      <th>29</th>\n",
       "      <td>EU</td>\n",
       "      <td>Europe</td>\n",
       "      <td>CHE</td>\n",
       "      <td>Switzerland</td>\n",
       "      <td>1960</td>\n",
       "      <td>Female</td>\n",
       "      <td>Age_all</td>\n",
       "      <td>[All]</td>\n",
       "      <td>421.0</td>\n",
       "      <td>1.679834</td>\n",
       "      <td>13.742478</td>\n",
       "      <td>15.327484</td>\n",
       "    </tr>\n",
       "    <tr>\n",
       "      <th>30</th>\n",
       "      <td>EU</td>\n",
       "      <td>Europe</td>\n",
       "      <td>CHE</td>\n",
       "      <td>Switzerland</td>\n",
       "      <td>1961</td>\n",
       "      <td>All</td>\n",
       "      <td>Age_all</td>\n",
       "      <td>[All]</td>\n",
       "      <td>818.0</td>\n",
       "      <td>1.603796</td>\n",
       "      <td>15.028508</td>\n",
       "      <td>15.052260</td>\n",
       "    </tr>\n",
       "    <tr>\n",
       "      <th>31</th>\n",
       "      <td>EU</td>\n",
       "      <td>Europe</td>\n",
       "      <td>CHE</td>\n",
       "      <td>Switzerland</td>\n",
       "      <td>1961</td>\n",
       "      <td>Male</td>\n",
       "      <td>Age_all</td>\n",
       "      <td>[All]</td>\n",
       "      <td>385.0</td>\n",
       "      <td>1.430004</td>\n",
       "      <td>17.331216</td>\n",
       "      <td>14.611560</td>\n",
       "    </tr>\n",
       "    <tr>\n",
       "      <th>32</th>\n",
       "      <td>EU</td>\n",
       "      <td>Europe</td>\n",
       "      <td>CHE</td>\n",
       "      <td>Switzerland</td>\n",
       "      <td>1961</td>\n",
       "      <td>Female</td>\n",
       "      <td>Age_all</td>\n",
       "      <td>[All]</td>\n",
       "      <td>433.0</td>\n",
       "      <td>1.798098</td>\n",
       "      <td>13.309449</td>\n",
       "      <td>15.467048</td>\n",
       "    </tr>\n",
       "    <tr>\n",
       "      <th>33</th>\n",
       "      <td>EU</td>\n",
       "      <td>Europe</td>\n",
       "      <td>CHE</td>\n",
       "      <td>Switzerland</td>\n",
       "      <td>1962</td>\n",
       "      <td>All</td>\n",
       "      <td>Age_all</td>\n",
       "      <td>[All]</td>\n",
       "      <td>961.0</td>\n",
       "      <td>1.743311</td>\n",
       "      <td>17.013480</td>\n",
       "      <td>17.241379</td>\n",
       "    </tr>\n",
       "    <tr>\n",
       "      <th>34</th>\n",
       "      <td>EU</td>\n",
       "      <td>Europe</td>\n",
       "      <td>CHE</td>\n",
       "      <td>Switzerland</td>\n",
       "      <td>1962</td>\n",
       "      <td>Male</td>\n",
       "      <td>Age_all</td>\n",
       "      <td>[All]</td>\n",
       "      <td>428.0</td>\n",
       "      <td>1.485544</td>\n",
       "      <td>18.309833</td>\n",
       "      <td>15.814950</td>\n",
       "    </tr>\n",
       "    <tr>\n",
       "      <th>35</th>\n",
       "      <td>EU</td>\n",
       "      <td>Europe</td>\n",
       "      <td>CHE</td>\n",
       "      <td>Switzerland</td>\n",
       "      <td>1962</td>\n",
       "      <td>Female</td>\n",
       "      <td>Age_all</td>\n",
       "      <td>[All]</td>\n",
       "      <td>533.0</td>\n",
       "      <td>2.025538</td>\n",
       "      <td>15.785377</td>\n",
       "      <td>18.587620</td>\n",
       "    </tr>\n",
       "    <tr>\n",
       "      <th>38</th>\n",
       "      <td>EU</td>\n",
       "      <td>Europe</td>\n",
       "      <td>CHE</td>\n",
       "      <td>Switzerland</td>\n",
       "      <td>1963</td>\n",
       "      <td>Female</td>\n",
       "      <td>Age_all</td>\n",
       "      <td>[All]</td>\n",
       "      <td>469.0</td>\n",
       "      <td>1.739356</td>\n",
       "      <td>13.374364</td>\n",
       "      <td>16.030352</td>\n",
       "    </tr>\n",
       "  </tbody>\n",
       "</table>\n",
       "</div>"
      ],
      "text/plain": [
       "   Region Code Region Name Country Code Country Name  Year     Sex  \\\n",
       "27          EU      Europe          CHE  Switzerland  1960     All   \n",
       "28          EU      Europe          CHE  Switzerland  1960    Male   \n",
       "29          EU      Europe          CHE  Switzerland  1960  Female   \n",
       "30          EU      Europe          CHE  Switzerland  1961     All   \n",
       "31          EU      Europe          CHE  Switzerland  1961    Male   \n",
       "32          EU      Europe          CHE  Switzerland  1961  Female   \n",
       "33          EU      Europe          CHE  Switzerland  1962     All   \n",
       "34          EU      Europe          CHE  Switzerland  1962    Male   \n",
       "35          EU      Europe          CHE  Switzerland  1962  Female   \n",
       "38          EU      Europe          CHE  Switzerland  1963  Female   \n",
       "\n",
       "   Age group code Age group  Number  \\\n",
       "27        Age_all     [All]   784.0   \n",
       "28        Age_all     [All]   363.0   \n",
       "29        Age_all     [All]   421.0   \n",
       "30        Age_all     [All]   818.0   \n",
       "31        Age_all     [All]   385.0   \n",
       "32        Age_all     [All]   433.0   \n",
       "33        Age_all     [All]   961.0   \n",
       "34        Age_all     [All]   428.0   \n",
       "35        Age_all     [All]   533.0   \n",
       "38        Age_all     [All]   469.0   \n",
       "\n",
       "    Percentage of cause-specific deaths out of total deaths  \\\n",
       "27                                           1.504972         \n",
       "28                                           1.342853         \n",
       "29                                           1.679834         \n",
       "30                                           1.603796         \n",
       "31                                           1.430004         \n",
       "32                                           1.798098         \n",
       "33                                           1.743311         \n",
       "34                                           1.485544         \n",
       "35                                           2.025538         \n",
       "38                                           1.739356         \n",
       "\n",
       "    Age-standardized death rate per 100 000 standard population  \\\n",
       "27                                          14.961876             \n",
       "28                                          16.549742             \n",
       "29                                          13.742478             \n",
       "30                                          15.028508             \n",
       "31                                          17.331216             \n",
       "32                                          13.309449             \n",
       "33                                          17.013480             \n",
       "34                                          18.309833             \n",
       "35                                          15.785377             \n",
       "38                                          13.374364             \n",
       "\n",
       "    Death rate per 100 000 population  \n",
       "27                          14.714991  \n",
       "28                          14.063226  \n",
       "29                          15.327484  \n",
       "30                          15.052260  \n",
       "31                          14.611560  \n",
       "32                          15.467048  \n",
       "33                          17.241379  \n",
       "34                          15.814950  \n",
       "35                          18.587620  \n",
       "38                          16.030352  "
      ]
     },
     "execution_count": 40,
     "metadata": {},
     "output_type": "execute_result"
    }
   ],
   "source": [
    "df4 = pd.read_excel('ill-defined diseases.xlsx')\n",
    "df4 = df4[(df['Year'] > 1959) & (df4['Year'] < 2020)]\n",
    "df4 = df4.sort_values(by=\"Year\", ascending=True)\n",
    "df4.head(10)"
   ]
  },
  {
   "cell_type": "code",
   "execution_count": 41,
   "id": "7f7eb995",
   "metadata": {},
   "outputs": [
    {
     "name": "stdout",
     "output_type": "stream",
     "text": [
      "<class 'pandas.core.frame.DataFrame'>\n",
      "Int64Index: 180 entries, 27 to 196\n",
      "Data columns (total 12 columns):\n",
      " #   Column                                                       Non-Null Count  Dtype  \n",
      "---  ------                                                       --------------  -----  \n",
      " 0   Region Code                                                  180 non-null    object \n",
      " 1   Region Name                                                  180 non-null    object \n",
      " 2   Country Code                                                 180 non-null    object \n",
      " 3   Country Name                                                 180 non-null    object \n",
      " 4   Year                                                         180 non-null    int64  \n",
      " 5   Sex                                                          180 non-null    object \n",
      " 6   Age group code                                               180 non-null    object \n",
      " 7   Age group                                                    180 non-null    object \n",
      " 8   Number                                                       180 non-null    float64\n",
      " 9   Percentage of cause-specific deaths out of total deaths      180 non-null    float64\n",
      " 10  Age-standardized death rate per 100 000 standard population  180 non-null    float64\n",
      " 11  Death rate per 100 000 population                            180 non-null    float64\n",
      "dtypes: float64(4), int64(1), object(7)\n",
      "memory usage: 18.3+ KB\n",
      "None\n"
     ]
    }
   ],
   "source": [
    "#to see if there are any missing values and see what data types we have\n",
    "print(df4.info())\n",
    "#NA column"
   ]
  },
  {
   "cell_type": "code",
   "execution_count": 42,
   "id": "c649c708",
   "metadata": {},
   "outputs": [],
   "source": [
    "#to get rid of uneccessary stuff\n",
    "columns_to_remove = ['Region Code', 'Region Name','Country Code','Age group code','Age group']\n",
    "df4 = df4.drop(columns=columns_to_remove)\n",
    "columns_to_remove1 = ['Year']\n",
    "df4stat = df4.drop(columns=columns_to_remove1)\n",
    "grouped_stats4 = df4stat.groupby('Sex').describe()\n",
    "grouped_stats4.to_excel('grouped_stats Ill-defined.xlsx', sheet_name='Statistics')"
   ]
  },
  {
   "cell_type": "markdown",
   "id": "479d2dc1",
   "metadata": {},
   "source": [
    "Distributional analysis and tests to see if there are significant differences between of numeric variables for genders."
   ]
  },
  {
   "cell_type": "code",
   "execution_count": 43,
   "id": "c756ef9a",
   "metadata": {},
   "outputs": [
    {
     "name": "stdout",
     "output_type": "stream",
     "text": [
      "Shapiro-Wilk test p-value for Number: 2.2280721104911416e-12\n",
      "Shapiro-Wilk test p-value for log-transformed Number: 0.0005558307748287916\n",
      "Log-transformed Number is also not normally distributed.\n"
     ]
    },
    {
     "data": {
      "image/png": "[encoded data removed]",
      "text/plain": [
       "<Figure size 640x480 with 1 Axes>"
      ]
     },
     "metadata": {},
     "output_type": "display_data"
    },
    {
     "name": "stdout",
     "output_type": "stream",
     "text": [
      "Mann-Whitney U-test for Men and Women on Number:\n",
      "Statistic: 1689.5\n",
      "p-value: 0.563694737125233\n",
      "Conclusion: There is no significant difference between Men and Women.\n"
     ]
    }
   ],
   "source": [
    "test_distribution_and_compare_sexes(df4, 'Number', 'Sex', alpha=0.05)"
   ]
  },
  {
   "cell_type": "code",
   "execution_count": 44,
   "id": "040e68bf",
   "metadata": {},
   "outputs": [
    {
     "name": "stdout",
     "output_type": "stream",
     "text": [
      "Shapiro-Wilk test p-value for Percentage of cause-specific deaths out of total deaths: 8.908093707127307e-10\n",
      "Shapiro-Wilk test p-value for log-transformed Percentage of cause-specific deaths out of total deaths: 7.416775247293117e-07\n",
      "Log-transformed Percentage of cause-specific deaths out of total deaths is also not normally distributed.\n"
     ]
    },
    {
     "data": {
      "image/png": "[encoded data removed]",
      "text/plain": [
       "<Figure size 640x480 with 1 Axes>"
      ]
     },
     "metadata": {},
     "output_type": "display_data"
    },
    {
     "name": "stdout",
     "output_type": "stream",
     "text": [
      "Mann-Whitney U-test for Men and Women on Percentage of cause-specific deaths out of total deaths:\n",
      "Statistic: 1647.0\n",
      "p-value: 0.42346899223630996\n",
      "Conclusion: There is no significant difference between Men and Women.\n"
     ]
    }
   ],
   "source": [
    "test_distribution_and_compare_sexes(df4, 'Percentage of cause-specific deaths out of total deaths', 'Sex', alpha=0.05)"
   ]
  },
  {
   "cell_type": "code",
   "execution_count": 45,
   "id": "289dd35c",
   "metadata": {},
   "outputs": [
    {
     "name": "stdout",
     "output_type": "stream",
     "text": [
      "Shapiro-Wilk test p-value for Age-standardized death rate per 100 000 standard population: 0.000445022014901042\n",
      "Shapiro-Wilk test p-value for log-transformed Age-standardized death rate per 100 000 standard population: 0.5974940657615662\n",
      "Log-transformed Age-standardized death rate per 100 000 standard population is approximately normally distributed.\n"
     ]
    },
    {
     "data": {
      "image/png": "[encoded data removed]",
      "text/plain": [
       "<Figure size 640x480 with 1 Axes>"
      ]
     },
     "metadata": {},
     "output_type": "display_data"
    },
    {
     "name": "stdout",
     "output_type": "stream",
     "text": [
      "T-test for Men and Women on log-transformed data:\n",
      "T-statistic: 9.336190737792283\n",
      "p-value: 7.467969868637632e-16\n",
      "Conclusion: There is a significant difference between Men and Women on log-transformed data.\n"
     ]
    }
   ],
   "source": [
    "test_distribution_and_compare_sexes(df4, 'Age-standardized death rate per 100 000 standard population', 'Sex', alpha=0.05)\n"
   ]
  },
  {
   "cell_type": "code",
   "execution_count": 46,
   "id": "11499fe3",
   "metadata": {},
   "outputs": [
    {
     "name": "stdout",
     "output_type": "stream",
     "text": [
      "Shapiro-Wilk test p-value for Death rate per 100 000 population: 1.6049080286961726e-08\n",
      "Shapiro-Wilk test p-value for log-transformed Death rate per 100 000 population: 5.174365014681825e-06\n",
      "Log-transformed Death rate per 100 000 population is also not normally distributed.\n"
     ]
    },
    {
     "data": {
      "image/png": "[encoded data removed]",
      "text/plain": [
       "<Figure size 640x480 with 1 Axes>"
      ]
     },
     "metadata": {},
     "output_type": "display_data"
    },
    {
     "name": "stdout",
     "output_type": "stream",
     "text": [
      "Mann-Whitney U-test for Men and Women on Death rate per 100 000 population:\n",
      "Statistic: 1824.0\n",
      "p-value: 0.9018354821522864\n",
      "Conclusion: There is no significant difference between Men and Women.\n"
     ]
    }
   ],
   "source": [
    "test_distribution_and_compare_sexes(df4, 'Death rate per 100 000 population', 'Sex', alpha=0.05)\n"
   ]
  }
 ],
 "metadata": {
  "kernelspec": {
   "display_name": "Python 3 (ipykernel)",
   "language": "python",
   "name": "python3"
  },
  "language_info": {
   "codemirror_mode": {
    "name": "ipython",
    "version": 3
   },
   "file_extension": ".py",
   "mimetype": "text/x-python",
   "name": "python",
   "nbconvert_exporter": "python",
   "pygments_lexer": "ipython3",
   "version": "3.11.4"
  }
 },
 "nbformat": 4,
 "nbformat_minor": 5
}
