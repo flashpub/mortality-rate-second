{
 "cells": [
  {
   "cell_type": "code",
   "execution_count": 1,
   "id": "42f2e122",
   "metadata": {},
   "outputs": [],
   "source": [
    "import pandas as pd\n",
    "import numpy as np\n",
    "import matplotlib.pyplot as plt\n",
    "from scipy import stats\n",
    "from scipy.stats import shapiro"
   ]
  },
  {
   "cell_type": "markdown",
   "id": "61384cb2",
   "metadata": {},
   "source": [
    "# All Causes"
   ]
  },
  {
   "cell_type": "code",
   "execution_count": 2,
   "id": "adb65636",
   "metadata": {},
   "outputs": [
    {
     "name": "stdout",
     "output_type": "stream",
     "text": [
      "number of years is 60\n"
     ]
    }
   ],
   "source": [
    "df = pd.read_excel(\"all causes jpn.xlsx\")\n",
    "df = df[(df['Year'] > 1959) & (df['Year'] < 2020)]\n",
    "df = df.sort_values(by=\"Year\", ascending=True)\n",
    "unique_years = df['Year'].unique()\n",
    "print(f'number of years is {len(unique_years)}')"
   ]
  },
  {
   "cell_type": "code",
   "execution_count": 3,
   "id": "03197bd6",
   "metadata": {},
   "outputs": [
    {
     "data": {
      "text/html": [
       "<div>\n",
       "<style scoped>\n",
       "    .dataframe tbody tr th:only-of-type {\n",
       "        vertical-align: middle;\n",
       "    }\n",
       "\n",
       "    .dataframe tbody tr th {\n",
       "        vertical-align: top;\n",
       "    }\n",
       "\n",
       "    .dataframe thead th {\n",
       "        text-align: right;\n",
       "    }\n",
       "</style>\n",
       "<table border=\"1\" class=\"dataframe\">\n",
       "  <thead>\n",
       "    <tr style=\"text-align: right;\">\n",
       "      <th></th>\n",
       "      <th>Region Code</th>\n",
       "      <th>Region Name</th>\n",
       "      <th>Country Code</th>\n",
       "      <th>Country Name</th>\n",
       "      <th>Year</th>\n",
       "      <th>Sex</th>\n",
       "      <th>Age group code</th>\n",
       "      <th>Age group</th>\n",
       "      <th>Number</th>\n",
       "      <th>Percentage of cause-specific deaths out of total deaths</th>\n",
       "      <th>Age-standardized death rate per 100 000 standard population</th>\n",
       "      <th>Death rate per 100 000 population</th>\n",
       "    </tr>\n",
       "  </thead>\n",
       "  <tbody>\n",
       "    <tr>\n",
       "      <th>30</th>\n",
       "      <td>AS</td>\n",
       "      <td>Asia</td>\n",
       "      <td>JPN</td>\n",
       "      <td>Japan</td>\n",
       "      <td>1960</td>\n",
       "      <td>All</td>\n",
       "      <td>Age_all</td>\n",
       "      <td>[All]</td>\n",
       "      <td>706599.0</td>\n",
       "      <td>100.0</td>\n",
       "      <td>1048.155540</td>\n",
       "      <td>756.380160</td>\n",
       "    </tr>\n",
       "    <tr>\n",
       "      <th>31</th>\n",
       "      <td>AS</td>\n",
       "      <td>Asia</td>\n",
       "      <td>JPN</td>\n",
       "      <td>Japan</td>\n",
       "      <td>1960</td>\n",
       "      <td>Male</td>\n",
       "      <td>Age_all</td>\n",
       "      <td>[All]</td>\n",
       "      <td>377526.0</td>\n",
       "      <td>100.0</td>\n",
       "      <td>1249.502493</td>\n",
       "      <td>822.898321</td>\n",
       "    </tr>\n",
       "    <tr>\n",
       "      <th>32</th>\n",
       "      <td>AS</td>\n",
       "      <td>Asia</td>\n",
       "      <td>JPN</td>\n",
       "      <td>Japan</td>\n",
       "      <td>1960</td>\n",
       "      <td>Female</td>\n",
       "      <td>Age_all</td>\n",
       "      <td>[All]</td>\n",
       "      <td>329073.0</td>\n",
       "      <td>100.0</td>\n",
       "      <td>889.259859</td>\n",
       "      <td>692.189252</td>\n",
       "    </tr>\n",
       "    <tr>\n",
       "      <th>33</th>\n",
       "      <td>AS</td>\n",
       "      <td>Asia</td>\n",
       "      <td>JPN</td>\n",
       "      <td>Japan</td>\n",
       "      <td>1961</td>\n",
       "      <td>All</td>\n",
       "      <td>Age_all</td>\n",
       "      <td>[All]</td>\n",
       "      <td>695644.0</td>\n",
       "      <td>100.0</td>\n",
       "      <td>1008.084488</td>\n",
       "      <td>737.809832</td>\n",
       "    </tr>\n",
       "    <tr>\n",
       "      <th>34</th>\n",
       "      <td>AS</td>\n",
       "      <td>Asia</td>\n",
       "      <td>JPN</td>\n",
       "      <td>Japan</td>\n",
       "      <td>1961</td>\n",
       "      <td>Male</td>\n",
       "      <td>Age_all</td>\n",
       "      <td>[All]</td>\n",
       "      <td>371858.0</td>\n",
       "      <td>100.0</td>\n",
       "      <td>1214.035615</td>\n",
       "      <td>803.079648</td>\n",
       "    </tr>\n",
       "    <tr>\n",
       "      <th>35</th>\n",
       "      <td>AS</td>\n",
       "      <td>Asia</td>\n",
       "      <td>JPN</td>\n",
       "      <td>Japan</td>\n",
       "      <td>1961</td>\n",
       "      <td>Female</td>\n",
       "      <td>Age_all</td>\n",
       "      <td>[All]</td>\n",
       "      <td>323786.0</td>\n",
       "      <td>100.0</td>\n",
       "      <td>850.532934</td>\n",
       "      <td>674.821283</td>\n",
       "    </tr>\n",
       "    <tr>\n",
       "      <th>36</th>\n",
       "      <td>AS</td>\n",
       "      <td>Asia</td>\n",
       "      <td>JPN</td>\n",
       "      <td>Japan</td>\n",
       "      <td>1962</td>\n",
       "      <td>All</td>\n",
       "      <td>Age_all</td>\n",
       "      <td>[All]</td>\n",
       "      <td>710265.0</td>\n",
       "      <td>100.0</td>\n",
       "      <td>1016.215600</td>\n",
       "      <td>746.249133</td>\n",
       "    </tr>\n",
       "    <tr>\n",
       "      <th>37</th>\n",
       "      <td>AS</td>\n",
       "      <td>Asia</td>\n",
       "      <td>JPN</td>\n",
       "      <td>Japan</td>\n",
       "      <td>1962</td>\n",
       "      <td>Male</td>\n",
       "      <td>Age_all</td>\n",
       "      <td>[All]</td>\n",
       "      <td>380826.0</td>\n",
       "      <td>100.0</td>\n",
       "      <td>1235.289458</td>\n",
       "      <td>814.705631</td>\n",
       "    </tr>\n",
       "    <tr>\n",
       "      <th>38</th>\n",
       "      <td>AS</td>\n",
       "      <td>Asia</td>\n",
       "      <td>JPN</td>\n",
       "      <td>Japan</td>\n",
       "      <td>1962</td>\n",
       "      <td>Female</td>\n",
       "      <td>Age_all</td>\n",
       "      <td>[All]</td>\n",
       "      <td>329439.0</td>\n",
       "      <td>100.0</td>\n",
       "      <td>850.837612</td>\n",
       "      <td>680.181278</td>\n",
       "    </tr>\n",
       "    <tr>\n",
       "      <th>41</th>\n",
       "      <td>AS</td>\n",
       "      <td>Asia</td>\n",
       "      <td>JPN</td>\n",
       "      <td>Japan</td>\n",
       "      <td>1963</td>\n",
       "      <td>Female</td>\n",
       "      <td>Age_all</td>\n",
       "      <td>[All]</td>\n",
       "      <td>309301.0</td>\n",
       "      <td>100.0</td>\n",
       "      <td>783.871418</td>\n",
       "      <td>632.194175</td>\n",
       "    </tr>\n",
       "  </tbody>\n",
       "</table>\n",
       "</div>"
      ],
      "text/plain": [
       "   Region Code Region Name Country Code Country Name  Year     Sex  \\\n",
       "30          AS        Asia          JPN        Japan  1960     All   \n",
       "31          AS        Asia          JPN        Japan  1960    Male   \n",
       "32          AS        Asia          JPN        Japan  1960  Female   \n",
       "33          AS        Asia          JPN        Japan  1961     All   \n",
       "34          AS        Asia          JPN        Japan  1961    Male   \n",
       "35          AS        Asia          JPN        Japan  1961  Female   \n",
       "36          AS        Asia          JPN        Japan  1962     All   \n",
       "37          AS        Asia          JPN        Japan  1962    Male   \n",
       "38          AS        Asia          JPN        Japan  1962  Female   \n",
       "41          AS        Asia          JPN        Japan  1963  Female   \n",
       "\n",
       "   Age group code Age group    Number  \\\n",
       "30        Age_all     [All]  706599.0   \n",
       "31        Age_all     [All]  377526.0   \n",
       "32        Age_all     [All]  329073.0   \n",
       "33        Age_all     [All]  695644.0   \n",
       "34        Age_all     [All]  371858.0   \n",
       "35        Age_all     [All]  323786.0   \n",
       "36        Age_all     [All]  710265.0   \n",
       "37        Age_all     [All]  380826.0   \n",
       "38        Age_all     [All]  329439.0   \n",
       "41        Age_all     [All]  309301.0   \n",
       "\n",
       "    Percentage of cause-specific deaths out of total deaths  \\\n",
       "30                                              100.0         \n",
       "31                                              100.0         \n",
       "32                                              100.0         \n",
       "33                                              100.0         \n",
       "34                                              100.0         \n",
       "35                                              100.0         \n",
       "36                                              100.0         \n",
       "37                                              100.0         \n",
       "38                                              100.0         \n",
       "41                                              100.0         \n",
       "\n",
       "    Age-standardized death rate per 100 000 standard population  \\\n",
       "30                                        1048.155540             \n",
       "31                                        1249.502493             \n",
       "32                                         889.259859             \n",
       "33                                        1008.084488             \n",
       "34                                        1214.035615             \n",
       "35                                         850.532934             \n",
       "36                                        1016.215600             \n",
       "37                                        1235.289458             \n",
       "38                                         850.837612             \n",
       "41                                         783.871418             \n",
       "\n",
       "    Death rate per 100 000 population  \n",
       "30                         756.380160  \n",
       "31                         822.898321  \n",
       "32                         692.189252  \n",
       "33                         737.809832  \n",
       "34                         803.079648  \n",
       "35                         674.821283  \n",
       "36                         746.249133  \n",
       "37                         814.705631  \n",
       "38                         680.181278  \n",
       "41                         632.194175  "
      ]
     },
     "execution_count": 3,
     "metadata": {},
     "output_type": "execute_result"
    }
   ],
   "source": [
    "df.head(10)"
   ]
  },
  {
   "cell_type": "code",
   "execution_count": 4,
   "id": "a7b49af3",
   "metadata": {},
   "outputs": [
    {
     "name": "stdout",
     "output_type": "stream",
     "text": [
      "<class 'pandas.core.frame.DataFrame'>\n",
      "Int64Index: 180 entries, 30 to 199\n",
      "Data columns (total 12 columns):\n",
      " #   Column                                                       Non-Null Count  Dtype  \n",
      "---  ------                                                       --------------  -----  \n",
      " 0   Region Code                                                  180 non-null    object \n",
      " 1   Region Name                                                  180 non-null    object \n",
      " 2   Country Code                                                 180 non-null    object \n",
      " 3   Country Name                                                 180 non-null    object \n",
      " 4   Year                                                         180 non-null    int64  \n",
      " 5   Sex                                                          180 non-null    object \n",
      " 6   Age group code                                               180 non-null    object \n",
      " 7   Age group                                                    180 non-null    object \n",
      " 8   Number                                                       180 non-null    float64\n",
      " 9   Percentage of cause-specific deaths out of total deaths      180 non-null    float64\n",
      " 10  Age-standardized death rate per 100 000 standard population  180 non-null    float64\n",
      " 11  Death rate per 100 000 population                            180 non-null    float64\n",
      "dtypes: float64(4), int64(1), object(7)\n",
      "memory usage: 18.3+ KB\n",
      "None\n"
     ]
    }
   ],
   "source": [
    "#to see if there are any missing values and see what data types we have\n",
    "print(df.info())\n",
    "#no NAs we good"
   ]
  },
  {
   "cell_type": "code",
   "execution_count": 5,
   "id": "e10f7a91",
   "metadata": {},
   "outputs": [],
   "source": [
    "#to get rid of uneccessary stuff\n",
    "columns_to_remove = ['Region Code', 'Region Name','Country Code','Age group code','Age group', ]\n",
    "df = df.drop(columns=columns_to_remove)"
   ]
  },
  {
   "cell_type": "code",
   "execution_count": 6,
   "id": "74b67443",
   "metadata": {},
   "outputs": [],
   "source": [
    "columns_to_remove1 = ['Year','Percentage of cause-specific deaths out of total deaths']\n",
    "dfstat = df.drop(columns=columns_to_remove1)\n",
    "grouped_stats = dfstat.groupby('Sex').describe()\n",
    "grouped_stats.to_excel('grouped_stats_jpn.xlsx', sheet_name='Statistics')"
   ]
  },
  {
   "cell_type": "markdown",
   "id": "0bb6d78e",
   "metadata": {},
   "source": [
    "Distributional analysis and tests to see if there are significant differences between of numeric variables for genders."
   ]
  },
  {
   "cell_type": "markdown",
   "id": "9fe77e66",
   "metadata": {},
   "source": [
    "This function tests the normality of a numeric variable, plots a histogram if it's non-normal, and performs statistical tests to compare the variable between different groups. If the variable is normally distributed, it conducts a t-test between groups, and if it's not normally distributed, it performs a Mann-Whitney U-test on the original or log-transformed data, as appropriate. Wilcoxon-Mann-Whitney Criterion is used when variable is not distributed normally and the t test is not suitable,"
   ]
  },
  {
   "cell_type": "code",
   "execution_count": 7,
   "id": "1ea7ab01",
   "metadata": {},
   "outputs": [],
   "source": [
    "def test_distribution_and_compare_sexes(data, value_column, group_column, alpha=0.05):\n",
    "    # Extract the specific column for testing\n",
    "    data_to_test = data[value_column]\n",
    "    \n",
    "    # Perform the Shapiro-Wilk test on the original data\n",
    "    stat, p = stats.shapiro(data_to_test)\n",
    "    \n",
    "    print(f'Shapiro-Wilk test p-value for {value_column}: {p}')\n",
    "\n",
    "    if p > alpha:\n",
    "        print(f'{value_column} is normally distributed.')\n",
    "        \n",
    "        # Perform a t-test for the difference between sexes\n",
    "        group_male = data[data[group_column] == 'Male'][value_column]\n",
    "        group_female = data[data[group_column] == 'Female'][value_column]\n",
    "        \n",
    "        t_stat, t_p_value = stats.ttest_ind(group_male, group_female)\n",
    "        print(\"T-test for Men and Women:\")\n",
    "        print(\"T-statistic:\", t_stat)\n",
    "        print(\"p-value:\", t_p_value)\n",
    "        \n",
    "        if t_p_value < alpha:\n",
    "            print(\"Conclusion: There is a significant difference between Men and Women.\")\n",
    "        else:\n",
    "            print(\"Conclusion: There is no significant difference between Men and Women.\")\n",
    "            \n",
    "    else:\n",
    "        # Transform the data using the natural logarithm\n",
    "        log_data = np.log(data_to_test)\n",
    "        \n",
    "        # Perform the Shapiro-Wilk test on the log-transformed data\n",
    "        log_stat, log_p = stats.shapiro(log_data)\n",
    "        print(f'Shapiro-Wilk test p-value for log-transformed {value_column}: {log_p}')\n",
    "\n",
    "        if log_p > alpha:\n",
    "            print(f'Log-transformed {value_column} is approximately normally distributed.')\n",
    "            \n",
    "            # Plot a histogram of the initial variable when distribution is log-normal\n",
    "            plt.hist(data_to_test, bins=20, color='blue', alpha=0.7)\n",
    "            plt.title(f'Histogram of {value_column}')\n",
    "            plt.xlabel('Value')\n",
    "            plt.ylabel('Frequency')\n",
    "            plt.show()\n",
    "            \n",
    "            # Perform a t-test for the difference between sexes on the log-transformed data\n",
    "            group_male_log = log_data[data[group_column] == 'Male']\n",
    "            group_female_log = log_data[data[group_column] == 'Female']\n",
    "        \n",
    "            t_stat_log, t_p_value_log = stats.ttest_ind(group_male_log, group_female_log)\n",
    "            print(\"T-test for Men and Women on log-transformed data:\")\n",
    "            print(\"T-statistic:\", t_stat_log)\n",
    "            print(\"p-value:\", t_p_value_log)\n",
    "        \n",
    "            if t_p_value_log < alpha:\n",
    "                print(\"Conclusion: There is a significant difference between Men and Women on log-transformed data.\")\n",
    "            else:\n",
    "                print(\"Conclusion: There is no significant difference between Men and Women on log-transformed data.\")\n",
    "        else:\n",
    "            print(f'Log-transformed {value_column} is also not normally distributed.')\n",
    "            \n",
    "            # Plot a histogram of the initial variable when non-normal\n",
    "            plt.hist(data_to_test, bins=20, color='blue', alpha=0.7)\n",
    "            plt.title(f'Histogram of {value_column}')\n",
    "            plt.xlabel('Value')\n",
    "            plt.ylabel('Frequency')\n",
    "            plt.show()\n",
    "            \n",
    "            # Perform a Mann-Whitney U-test for the difference between sexes on the initial data\n",
    "            group_male = data[data[group_column] == 'Male'][value_column]\n",
    "            group_female = data[data[group_column] == 'Female'][value_column]\n",
    "        \n",
    "            mw_stat, mw_p_value = stats.mannwhitneyu(group_male, group_female, alternative='two-sided')\n",
    "        \n",
    "            print(f\"Mann-Whitney U-test for Men and Women on {value_column}:\")\n",
    "            print(\"Statistic:\", mw_stat)\n",
    "            print(\"p-value:\", mw_p_value)\n",
    "        \n",
    "            if mw_p_value < alpha:\n",
    "                print(\"Conclusion: There is a significant difference between Men and Women.\")\n",
    "            else:\n",
    "                print(\"Conclusion: There is no significant difference between Men and Women.\")\n"
   ]
  },
  {
   "cell_type": "code",
   "execution_count": 8,
   "id": "407fd275",
   "metadata": {},
   "outputs": [
    {
     "name": "stdout",
     "output_type": "stream",
     "text": [
      "Shapiro-Wilk test p-value for Number: 3.698732292667373e-11\n",
      "Shapiro-Wilk test p-value for log-transformed Number: 9.343375495518558e-07\n",
      "Log-transformed Number is also not normally distributed.\n"
     ]
    },
    {
     "data": {
      "image/png": "[encoded data removed]",
      "text/plain": [
       "<Figure size 640x480 with 1 Axes>"
      ]
     },
     "metadata": {},
     "output_type": "display_data"
    },
    {
     "name": "stdout",
     "output_type": "stream",
     "text": [
      "Mann-Whitney U-test for Men and Women on Number:\n",
      "Statistic: 2504.0\n",
      "p-value: 0.00022213249517686926\n",
      "Conclusion: There is a significant difference between Men and Women.\n"
     ]
    }
   ],
   "source": [
    "test_distribution_and_compare_sexes(df, 'Number', 'Sex', alpha=0.05)"
   ]
  },
  {
   "cell_type": "code",
   "execution_count": 9,
   "id": "55337de7",
   "metadata": {},
   "outputs": [
    {
     "name": "stdout",
     "output_type": "stream",
     "text": [
      "Shapiro-Wilk test p-value for Age-standardized death rate per 100 000 standard population: 7.885022341724834e-07\n",
      "Shapiro-Wilk test p-value for log-transformed Age-standardized death rate per 100 000 standard population: 0.011762240901589394\n",
      "Log-transformed Age-standardized death rate per 100 000 standard population is also not normally distributed.\n"
     ]
    },
    {
     "data": {
      "image/png": "[encoded data removed]",
      "text/plain": [
       "<Figure size 640x480 with 1 Axes>"
      ]
     },
     "metadata": {},
     "output_type": "display_data"
    },
    {
     "name": "stdout",
     "output_type": "stream",
     "text": [
      "Mann-Whitney U-test for Men and Women on Age-standardized death rate per 100 000 standard population:\n",
      "Statistic: 2898.0\n",
      "p-value: 8.392423392985127e-09\n",
      "Conclusion: There is a significant difference between Men and Women.\n"
     ]
    }
   ],
   "source": [
    "test_distribution_and_compare_sexes(df, 'Age-standardized death rate per 100 000 standard population', 'Sex', alpha=0.05) "
   ]
  },
  {
   "cell_type": "code",
   "execution_count": 10,
   "id": "effd390f",
   "metadata": {},
   "outputs": [
    {
     "name": "stdout",
     "output_type": "stream",
     "text": [
      "Shapiro-Wilk test p-value for Death rate per 100 000 population: 1.5258784458183072e-08\n",
      "Shapiro-Wilk test p-value for log-transformed Death rate per 100 000 population: 8.437132237304468e-06\n",
      "Log-transformed Death rate per 100 000 population is also not normally distributed.\n"
     ]
    },
    {
     "data": {
      "image/png": "[encoded data removed]",
      "text/plain": [
       "<Figure size 640x480 with 1 Axes>"
      ]
     },
     "metadata": {},
     "output_type": "display_data"
    },
    {
     "name": "stdout",
     "output_type": "stream",
     "text": [
      "Mann-Whitney U-test for Men and Women on Death rate per 100 000 population:\n",
      "Statistic: 2855.0\n",
      "p-value: 3.117799574384761e-08\n",
      "Conclusion: There is a significant difference between Men and Women.\n"
     ]
    }
   ],
   "source": [
    "test_distribution_and_compare_sexes(df, 'Death rate per 100 000 population', 'Sex', alpha=0.05) "
   ]
  },
  {
   "cell_type": "markdown",
   "id": "0ea7347c",
   "metadata": {},
   "source": [
    "Correlation analysis for the number of deaths and two rates:"
   ]
  },
  {
   "cell_type": "code",
   "execution_count": 11,
   "id": "ca1974f5",
   "metadata": {},
   "outputs": [],
   "source": [
    "def calculate_and_conclude_correlation(data, column1, column2, alpha=0.05):\n",
    "    correlation = data[column1].corr(data[column2])\n",
    "\n",
    "    print(f\"Correlation between {column1} and {column2}: {correlation}\")\n",
    "\n",
    "    if abs(correlation) >= alpha:\n",
    "        if correlation > 0:\n",
    "            print(f\"Conclusion: There is a significant positive correlation between {column1} and {column2}.\")\n",
    "        elif correlation < 0:\n",
    "            print(f\"Conclusion: There is a significant negative correlation between {column1} and {column2}.\")\n",
    "        else:\n",
    "            print(f\"Conclusion: There is no significant correlation between {column1} and {column2}.\")\n",
    "    else:\n",
    "        print(f\"Conclusion: There is no significant correlation between {column1} and {column2}.\")"
   ]
  },
  {
   "cell_type": "code",
   "execution_count": 12,
   "id": "11d24e05",
   "metadata": {},
   "outputs": [
    {
     "name": "stdout",
     "output_type": "stream",
     "text": [
      "Correlation between Number and Age-standardized death rate per 100 000 standard population: -0.3848140332059426\n",
      "Conclusion: There is a significant negative correlation between Number and Age-standardized death rate per 100 000 standard population.\n"
     ]
    }
   ],
   "source": [
    "calculate_and_conclude_correlation(df, 'Number', 'Age-standardized death rate per 100 000 standard population', alpha=0.05)"
   ]
  },
  {
   "cell_type": "code",
   "execution_count": 13,
   "id": "e6f35ee9",
   "metadata": {},
   "outputs": [
    {
     "name": "stdout",
     "output_type": "stream",
     "text": [
      "Correlation between Number and Death rate per 100 000 population: 0.5294529863947675\n",
      "Conclusion: There is a significant positive correlation between Number and Death rate per 100 000 population.\n"
     ]
    }
   ],
   "source": [
    "calculate_and_conclude_correlation(df, 'Number', 'Death rate per 100 000 population', alpha=0.05)"
   ]
  },
  {
   "cell_type": "markdown",
   "id": "e790ebdd",
   "metadata": {},
   "source": [
    "# Communicable, maternal, perinatal and nutritional"
   ]
  },
  {
   "cell_type": "code",
   "execution_count": 14,
   "id": "87ed5cbd",
   "metadata": {},
   "outputs": [
    {
     "data": {
      "text/html": [
       "<div>\n",
       "<style scoped>\n",
       "    .dataframe tbody tr th:only-of-type {\n",
       "        vertical-align: middle;\n",
       "    }\n",
       "\n",
       "    .dataframe tbody tr th {\n",
       "        vertical-align: top;\n",
       "    }\n",
       "\n",
       "    .dataframe thead th {\n",
       "        text-align: right;\n",
       "    }\n",
       "</style>\n",
       "<table border=\"1\" class=\"dataframe\">\n",
       "  <thead>\n",
       "    <tr style=\"text-align: right;\">\n",
       "      <th></th>\n",
       "      <th>Region Code</th>\n",
       "      <th>Region Name</th>\n",
       "      <th>Country Code</th>\n",
       "      <th>Country Name</th>\n",
       "      <th>Year</th>\n",
       "      <th>Sex</th>\n",
       "      <th>Age group code</th>\n",
       "      <th>Age group</th>\n",
       "      <th>Number</th>\n",
       "      <th>Percentage of cause-specific deaths out of total deaths</th>\n",
       "      <th>Age-standardized death rate per 100 000 standard population</th>\n",
       "      <th>Death rate per 100 000 population</th>\n",
       "    </tr>\n",
       "  </thead>\n",
       "  <tbody>\n",
       "    <tr>\n",
       "      <th>30</th>\n",
       "      <td>AS</td>\n",
       "      <td>Asia</td>\n",
       "      <td>JPN</td>\n",
       "      <td>Japan</td>\n",
       "      <td>1960</td>\n",
       "      <td>All</td>\n",
       "      <td>Age_all</td>\n",
       "      <td>[All]</td>\n",
       "      <td>135521.0</td>\n",
       "      <td>19.179337</td>\n",
       "      <td>184.136063</td>\n",
       "      <td>145.068696</td>\n",
       "    </tr>\n",
       "    <tr>\n",
       "      <th>31</th>\n",
       "      <td>AS</td>\n",
       "      <td>Asia</td>\n",
       "      <td>JPN</td>\n",
       "      <td>Japan</td>\n",
       "      <td>1960</td>\n",
       "      <td>Male</td>\n",
       "      <td>Age_all</td>\n",
       "      <td>[All]</td>\n",
       "      <td>72711.0</td>\n",
       "      <td>19.259866</td>\n",
       "      <td>216.085980</td>\n",
       "      <td>158.489110</td>\n",
       "    </tr>\n",
       "    <tr>\n",
       "      <th>32</th>\n",
       "      <td>AS</td>\n",
       "      <td>Asia</td>\n",
       "      <td>JPN</td>\n",
       "      <td>Japan</td>\n",
       "      <td>1960</td>\n",
       "      <td>Female</td>\n",
       "      <td>Age_all</td>\n",
       "      <td>[All]</td>\n",
       "      <td>62810.0</td>\n",
       "      <td>19.086950</td>\n",
       "      <td>159.261589</td>\n",
       "      <td>132.117819</td>\n",
       "    </tr>\n",
       "    <tr>\n",
       "      <th>33</th>\n",
       "      <td>AS</td>\n",
       "      <td>Asia</td>\n",
       "      <td>JPN</td>\n",
       "      <td>Japan</td>\n",
       "      <td>1961</td>\n",
       "      <td>All</td>\n",
       "      <td>Age_all</td>\n",
       "      <td>[All]</td>\n",
       "      <td>117617.0</td>\n",
       "      <td>16.907642</td>\n",
       "      <td>157.540178</td>\n",
       "      <td>124.746248</td>\n",
       "    </tr>\n",
       "    <tr>\n",
       "      <th>34</th>\n",
       "      <td>AS</td>\n",
       "      <td>Asia</td>\n",
       "      <td>JPN</td>\n",
       "      <td>Japan</td>\n",
       "      <td>1961</td>\n",
       "      <td>Male</td>\n",
       "      <td>Age_all</td>\n",
       "      <td>[All]</td>\n",
       "      <td>63327.0</td>\n",
       "      <td>17.029888</td>\n",
       "      <td>185.876744</td>\n",
       "      <td>136.763563</td>\n",
       "    </tr>\n",
       "    <tr>\n",
       "      <th>35</th>\n",
       "      <td>AS</td>\n",
       "      <td>Asia</td>\n",
       "      <td>JPN</td>\n",
       "      <td>Japan</td>\n",
       "      <td>1961</td>\n",
       "      <td>Female</td>\n",
       "      <td>Age_all</td>\n",
       "      <td>[All]</td>\n",
       "      <td>54290.0</td>\n",
       "      <td>16.767247</td>\n",
       "      <td>135.752900</td>\n",
       "      <td>113.148955</td>\n",
       "    </tr>\n",
       "    <tr>\n",
       "      <th>36</th>\n",
       "      <td>AS</td>\n",
       "      <td>Asia</td>\n",
       "      <td>JPN</td>\n",
       "      <td>Japan</td>\n",
       "      <td>1962</td>\n",
       "      <td>All</td>\n",
       "      <td>Age_all</td>\n",
       "      <td>[All]</td>\n",
       "      <td>122441.0</td>\n",
       "      <td>17.238777</td>\n",
       "      <td>165.258119</td>\n",
       "      <td>128.644225</td>\n",
       "    </tr>\n",
       "    <tr>\n",
       "      <th>37</th>\n",
       "      <td>AS</td>\n",
       "      <td>Asia</td>\n",
       "      <td>JPN</td>\n",
       "      <td>Japan</td>\n",
       "      <td>1962</td>\n",
       "      <td>Male</td>\n",
       "      <td>Age_all</td>\n",
       "      <td>[All]</td>\n",
       "      <td>66170.0</td>\n",
       "      <td>17.375389</td>\n",
       "      <td>199.550937</td>\n",
       "      <td>141.558275</td>\n",
       "    </tr>\n",
       "    <tr>\n",
       "      <th>38</th>\n",
       "      <td>AS</td>\n",
       "      <td>Asia</td>\n",
       "      <td>JPN</td>\n",
       "      <td>Japan</td>\n",
       "      <td>1962</td>\n",
       "      <td>Female</td>\n",
       "      <td>Age_all</td>\n",
       "      <td>[All]</td>\n",
       "      <td>56271.0</td>\n",
       "      <td>17.080856</td>\n",
       "      <td>140.117469</td>\n",
       "      <td>116.180782</td>\n",
       "    </tr>\n",
       "    <tr>\n",
       "      <th>41</th>\n",
       "      <td>AS</td>\n",
       "      <td>Asia</td>\n",
       "      <td>JPN</td>\n",
       "      <td>Japan</td>\n",
       "      <td>1963</td>\n",
       "      <td>Female</td>\n",
       "      <td>Age_all</td>\n",
       "      <td>[All]</td>\n",
       "      <td>43693.0</td>\n",
       "      <td>14.126369</td>\n",
       "      <td>105.818818</td>\n",
       "      <td>89.306081</td>\n",
       "    </tr>\n",
       "  </tbody>\n",
       "</table>\n",
       "</div>"
      ],
      "text/plain": [
       "   Region Code Region Name Country Code Country Name  Year     Sex  \\\n",
       "30          AS        Asia          JPN        Japan  1960     All   \n",
       "31          AS        Asia          JPN        Japan  1960    Male   \n",
       "32          AS        Asia          JPN        Japan  1960  Female   \n",
       "33          AS        Asia          JPN        Japan  1961     All   \n",
       "34          AS        Asia          JPN        Japan  1961    Male   \n",
       "35          AS        Asia          JPN        Japan  1961  Female   \n",
       "36          AS        Asia          JPN        Japan  1962     All   \n",
       "37          AS        Asia          JPN        Japan  1962    Male   \n",
       "38          AS        Asia          JPN        Japan  1962  Female   \n",
       "41          AS        Asia          JPN        Japan  1963  Female   \n",
       "\n",
       "   Age group code Age group    Number  \\\n",
       "30        Age_all     [All]  135521.0   \n",
       "31        Age_all     [All]   72711.0   \n",
       "32        Age_all     [All]   62810.0   \n",
       "33        Age_all     [All]  117617.0   \n",
       "34        Age_all     [All]   63327.0   \n",
       "35        Age_all     [All]   54290.0   \n",
       "36        Age_all     [All]  122441.0   \n",
       "37        Age_all     [All]   66170.0   \n",
       "38        Age_all     [All]   56271.0   \n",
       "41        Age_all     [All]   43693.0   \n",
       "\n",
       "    Percentage of cause-specific deaths out of total deaths  \\\n",
       "30                                          19.179337         \n",
       "31                                          19.259866         \n",
       "32                                          19.086950         \n",
       "33                                          16.907642         \n",
       "34                                          17.029888         \n",
       "35                                          16.767247         \n",
       "36                                          17.238777         \n",
       "37                                          17.375389         \n",
       "38                                          17.080856         \n",
       "41                                          14.126369         \n",
       "\n",
       "    Age-standardized death rate per 100 000 standard population  \\\n",
       "30                                         184.136063             \n",
       "31                                         216.085980             \n",
       "32                                         159.261589             \n",
       "33                                         157.540178             \n",
       "34                                         185.876744             \n",
       "35                                         135.752900             \n",
       "36                                         165.258119             \n",
       "37                                         199.550937             \n",
       "38                                         140.117469             \n",
       "41                                         105.818818             \n",
       "\n",
       "    Death rate per 100 000 population  \n",
       "30                         145.068696  \n",
       "31                         158.489110  \n",
       "32                         132.117819  \n",
       "33                         124.746248  \n",
       "34                         136.763563  \n",
       "35                         113.148955  \n",
       "36                         128.644225  \n",
       "37                         141.558275  \n",
       "38                         116.180782  \n",
       "41                          89.306081  "
      ]
     },
     "execution_count": 14,
     "metadata": {},
     "output_type": "execute_result"
    }
   ],
   "source": [
    "df1 = pd.read_excel('Communicable, maternal, perinatal and nutritional jpn.xlsx')\n",
    "df1 = df1[(df1['Year'] > 1959) & (df1['Year'] < 2020)]\n",
    "df1 = df1.sort_values(by=\"Year\", ascending=True)\n",
    "df1.head(10)"
   ]
  },
  {
   "cell_type": "code",
   "execution_count": 15,
   "id": "12701f79",
   "metadata": {},
   "outputs": [
    {
     "name": "stdout",
     "output_type": "stream",
     "text": [
      "<class 'pandas.core.frame.DataFrame'>\n",
      "Int64Index: 180 entries, 30 to 199\n",
      "Data columns (total 12 columns):\n",
      " #   Column                                                       Non-Null Count  Dtype  \n",
      "---  ------                                                       --------------  -----  \n",
      " 0   Region Code                                                  180 non-null    object \n",
      " 1   Region Name                                                  180 non-null    object \n",
      " 2   Country Code                                                 180 non-null    object \n",
      " 3   Country Name                                                 180 non-null    object \n",
      " 4   Year                                                         180 non-null    int64  \n",
      " 5   Sex                                                          180 non-null    object \n",
      " 6   Age group code                                               180 non-null    object \n",
      " 7   Age group                                                    180 non-null    object \n",
      " 8   Number                                                       180 non-null    float64\n",
      " 9   Percentage of cause-specific deaths out of total deaths      180 non-null    float64\n",
      " 10  Age-standardized death rate per 100 000 standard population  180 non-null    float64\n",
      " 11  Death rate per 100 000 population                            180 non-null    float64\n",
      "dtypes: float64(4), int64(1), object(7)\n",
      "memory usage: 18.3+ KB\n",
      "None\n"
     ]
    }
   ],
   "source": [
    "#to see if there are any missing values and see what data types we have\n",
    "print(df1.info())\n",
    "#no NAs we good"
   ]
  },
  {
   "cell_type": "code",
   "execution_count": 16,
   "id": "d0224475",
   "metadata": {},
   "outputs": [],
   "source": [
    "#to get rid of uneccessary stuff\n",
    "columns_to_remove = ['Region Code', 'Region Name','Country Code','Age group code','Age group', ]\n",
    "df1 = df1.drop(columns=columns_to_remove)\n",
    "columns_to_remove1 = ['Year']\n",
    "df1stat = df1.drop(columns=columns_to_remove1)\n",
    "grouped_stats1 = df1stat.groupby('Sex').describe()\n",
    "grouped_stats1.to_excel('grouped_stats comm jpn.xlsx', sheet_name='Statistics')"
   ]
  },
  {
   "cell_type": "markdown",
   "id": "d0bb4eb2",
   "metadata": {},
   "source": [
    "Distributional analysis and tests to see if there are significant differences between of numeric variables for genders."
   ]
  },
  {
   "cell_type": "code",
   "execution_count": 17,
   "id": "2c8886fc",
   "metadata": {},
   "outputs": [
    {
     "name": "stdout",
     "output_type": "stream",
     "text": [
      "Shapiro-Wilk test p-value for Number: 7.051569328453411e-10\n",
      "Shapiro-Wilk test p-value for log-transformed Number: 0.0039800554513931274\n",
      "Log-transformed Number is also not normally distributed.\n"
     ]
    },
    {
     "data": {
      "image/png": "[encoded data removed]",
      "text/plain": [
       "<Figure size 640x480 with 1 Axes>"
      ]
     },
     "metadata": {},
     "output_type": "display_data"
    },
    {
     "name": "stdout",
     "output_type": "stream",
     "text": [
      "Mann-Whitney U-test for Men and Women on Number:\n",
      "Statistic: 2332.0\n",
      "p-value: 0.005276479906397268\n",
      "Conclusion: There is a significant difference between Men and Women.\n"
     ]
    }
   ],
   "source": [
    "test_distribution_and_compare_sexes(df1, 'Number', 'Sex', alpha=0.05)"
   ]
  },
  {
   "cell_type": "code",
   "execution_count": 18,
   "id": "fda4d450",
   "metadata": {},
   "outputs": [
    {
     "name": "stdout",
     "output_type": "stream",
     "text": [
      "Shapiro-Wilk test p-value for Percentage of cause-specific deaths out of total deaths: 4.8584350764713236e-08\n",
      "Shapiro-Wilk test p-value for log-transformed Percentage of cause-specific deaths out of total deaths: 0.00032572069903835654\n",
      "Log-transformed Percentage of cause-specific deaths out of total deaths is also not normally distributed.\n"
     ]
    },
    {
     "data": {
      "image/png": "[encoded data removed]",
      "text/plain": [
       "<Figure size 640x480 with 1 Axes>"
      ]
     },
     "metadata": {},
     "output_type": "display_data"
    },
    {
     "name": "stdout",
     "output_type": "stream",
     "text": [
      "Mann-Whitney U-test for Men and Women on Percentage of cause-specific deaths out of total deaths:\n",
      "Statistic: 1936.0\n",
      "p-value: 0.47696615826164\n",
      "Conclusion: There is no significant difference between Men and Women.\n"
     ]
    }
   ],
   "source": [
    "test_distribution_and_compare_sexes(df1, 'Percentage of cause-specific deaths out of total deaths', 'Sex', alpha=0.05)"
   ]
  },
  {
   "cell_type": "code",
   "execution_count": 19,
   "id": "d4913ce6",
   "metadata": {},
   "outputs": [
    {
     "name": "stdout",
     "output_type": "stream",
     "text": [
      "Shapiro-Wilk test p-value for Age-standardized death rate per 100 000 standard population: 5.24127833148591e-13\n",
      "Shapiro-Wilk test p-value for log-transformed Age-standardized death rate per 100 000 standard population: 0.1247355118393898\n",
      "Log-transformed Age-standardized death rate per 100 000 standard population is approximately normally distributed.\n"
     ]
    },
    {
     "data": {
      "image/png": "[encoded data removed]",
      "text/plain": [
       "<Figure size 640x480 with 1 Axes>"
      ]
     },
     "metadata": {},
     "output_type": "display_data"
    },
    {
     "name": "stdout",
     "output_type": "stream",
     "text": [
      "T-test for Men and Women on log-transformed data:\n",
      "T-statistic: 6.796958035276427\n",
      "p-value: 4.633183207600524e-10\n",
      "Conclusion: There is a significant difference between Men and Women on log-transformed data.\n"
     ]
    }
   ],
   "source": [
    "test_distribution_and_compare_sexes(df1, 'Age-standardized death rate per 100 000 standard population', 'Sex', alpha=0.05)\n"
   ]
  },
  {
   "cell_type": "code",
   "execution_count": 20,
   "id": "29b050a5",
   "metadata": {},
   "outputs": [
    {
     "name": "stdout",
     "output_type": "stream",
     "text": [
      "Shapiro-Wilk test p-value for Death rate per 100 000 population: 0.0005721816560253501\n",
      "Shapiro-Wilk test p-value for log-transformed Death rate per 100 000 population: 0.0004075416945852339\n",
      "Log-transformed Death rate per 100 000 population is also not normally distributed.\n"
     ]
    },
    {
     "data": {
      "image/png": "[encoded data removed]",
      "text/plain": [
       "<Figure size 640x480 with 1 Axes>"
      ]
     },
     "metadata": {},
     "output_type": "display_data"
    },
    {
     "name": "stdout",
     "output_type": "stream",
     "text": [
      "Mann-Whitney U-test for Men and Women on Death rate per 100 000 population:\n",
      "Statistic: 2464.0\n",
      "p-value: 0.0004968074489638328\n",
      "Conclusion: There is a significant difference between Men and Women.\n"
     ]
    }
   ],
   "source": [
    "test_distribution_and_compare_sexes(df1, 'Death rate per 100 000 population', 'Sex', alpha=0.05)\n"
   ]
  },
  {
   "cell_type": "markdown",
   "id": "d037bd38",
   "metadata": {},
   "source": [
    "Correlation analysis"
   ]
  },
  {
   "cell_type": "code",
   "execution_count": 21,
   "id": "103d94f6",
   "metadata": {},
   "outputs": [
    {
     "name": "stdout",
     "output_type": "stream",
     "text": [
      "Correlation between Number and Age-standardized death rate per 100 000 standard population: -0.10683569159179002\n",
      "Conclusion: There is a significant negative correlation between Number and Age-standardized death rate per 100 000 standard population.\n"
     ]
    }
   ],
   "source": [
    "calculate_and_conclude_correlation(df1, 'Number', 'Age-standardized death rate per 100 000 standard population', alpha=0.05)"
   ]
  },
  {
   "cell_type": "code",
   "execution_count": 22,
   "id": "184a78d9",
   "metadata": {},
   "outputs": [
    {
     "name": "stdout",
     "output_type": "stream",
     "text": [
      "Correlation between Number and Death rate per 100 000 population: 0.6192696104020377\n",
      "Conclusion: There is a significant positive correlation between Number and Death rate per 100 000 population.\n"
     ]
    }
   ],
   "source": [
    "calculate_and_conclude_correlation(df1, 'Number', 'Death rate per 100 000 population', alpha=0.05)"
   ]
  },
  {
   "cell_type": "markdown",
   "id": "a090d787",
   "metadata": {},
   "source": [
    "# Noncommunicable diseases"
   ]
  },
  {
   "cell_type": "code",
   "execution_count": 23,
   "id": "ef546ffd",
   "metadata": {},
   "outputs": [
    {
     "data": {
      "text/html": [
       "<div>\n",
       "<style scoped>\n",
       "    .dataframe tbody tr th:only-of-type {\n",
       "        vertical-align: middle;\n",
       "    }\n",
       "\n",
       "    .dataframe tbody tr th {\n",
       "        vertical-align: top;\n",
       "    }\n",
       "\n",
       "    .dataframe thead th {\n",
       "        text-align: right;\n",
       "    }\n",
       "</style>\n",
       "<table border=\"1\" class=\"dataframe\">\n",
       "  <thead>\n",
       "    <tr style=\"text-align: right;\">\n",
       "      <th></th>\n",
       "      <th>Region Code</th>\n",
       "      <th>Region Name</th>\n",
       "      <th>Country Code</th>\n",
       "      <th>Country Name</th>\n",
       "      <th>Year</th>\n",
       "      <th>Sex</th>\n",
       "      <th>Age group code</th>\n",
       "      <th>Age group</th>\n",
       "      <th>Number</th>\n",
       "      <th>Percentage of cause-specific deaths out of total deaths</th>\n",
       "      <th>Age-standardized death rate per 100 000 standard population</th>\n",
       "      <th>Death rate per 100 000 population</th>\n",
       "    </tr>\n",
       "  </thead>\n",
       "  <tbody>\n",
       "    <tr>\n",
       "      <th>30</th>\n",
       "      <td>AS</td>\n",
       "      <td>Asia</td>\n",
       "      <td>JPN</td>\n",
       "      <td>Japan</td>\n",
       "      <td>1960</td>\n",
       "      <td>All</td>\n",
       "      <td>Age_all</td>\n",
       "      <td>[All]</td>\n",
       "      <td>441247.0</td>\n",
       "      <td>62.446593</td>\n",
       "      <td>652.194558</td>\n",
       "      <td>472.333638</td>\n",
       "    </tr>\n",
       "    <tr>\n",
       "      <th>31</th>\n",
       "      <td>AS</td>\n",
       "      <td>Asia</td>\n",
       "      <td>JPN</td>\n",
       "      <td>Japan</td>\n",
       "      <td>1960</td>\n",
       "      <td>Male</td>\n",
       "      <td>Age_all</td>\n",
       "      <td>[All]</td>\n",
       "      <td>233463.0</td>\n",
       "      <td>61.840244</td>\n",
       "      <td>779.209533</td>\n",
       "      <td>508.882330</td>\n",
       "    </tr>\n",
       "    <tr>\n",
       "      <th>32</th>\n",
       "      <td>AS</td>\n",
       "      <td>Asia</td>\n",
       "      <td>JPN</td>\n",
       "      <td>Japan</td>\n",
       "      <td>1960</td>\n",
       "      <td>Female</td>\n",
       "      <td>Age_all</td>\n",
       "      <td>[All]</td>\n",
       "      <td>207784.0</td>\n",
       "      <td>63.142221</td>\n",
       "      <td>554.186054</td>\n",
       "      <td>437.063665</td>\n",
       "    </tr>\n",
       "    <tr>\n",
       "      <th>33</th>\n",
       "      <td>AS</td>\n",
       "      <td>Asia</td>\n",
       "      <td>JPN</td>\n",
       "      <td>Japan</td>\n",
       "      <td>1961</td>\n",
       "      <td>All</td>\n",
       "      <td>Age_all</td>\n",
       "      <td>[All]</td>\n",
       "      <td>447197.0</td>\n",
       "      <td>64.285324</td>\n",
       "      <td>643.722575</td>\n",
       "      <td>474.303442</td>\n",
       "    </tr>\n",
       "    <tr>\n",
       "      <th>34</th>\n",
       "      <td>AS</td>\n",
       "      <td>Asia</td>\n",
       "      <td>JPN</td>\n",
       "      <td>Japan</td>\n",
       "      <td>1961</td>\n",
       "      <td>Male</td>\n",
       "      <td>Age_all</td>\n",
       "      <td>[All]</td>\n",
       "      <td>236699.0</td>\n",
       "      <td>63.653061</td>\n",
       "      <td>775.836518</td>\n",
       "      <td>511.184779</td>\n",
       "    </tr>\n",
       "    <tr>\n",
       "      <th>35</th>\n",
       "      <td>AS</td>\n",
       "      <td>Asia</td>\n",
       "      <td>JPN</td>\n",
       "      <td>Japan</td>\n",
       "      <td>1961</td>\n",
       "      <td>Female</td>\n",
       "      <td>Age_all</td>\n",
       "      <td>[All]</td>\n",
       "      <td>210498.0</td>\n",
       "      <td>65.011458</td>\n",
       "      <td>545.054375</td>\n",
       "      <td>438.711157</td>\n",
       "    </tr>\n",
       "    <tr>\n",
       "      <th>36</th>\n",
       "      <td>AS</td>\n",
       "      <td>Asia</td>\n",
       "      <td>JPN</td>\n",
       "      <td>Japan</td>\n",
       "      <td>1962</td>\n",
       "      <td>All</td>\n",
       "      <td>Age_all</td>\n",
       "      <td>[All]</td>\n",
       "      <td>462079.0</td>\n",
       "      <td>65.057267</td>\n",
       "      <td>653.362335</td>\n",
       "      <td>485.489294</td>\n",
       "    </tr>\n",
       "    <tr>\n",
       "      <th>37</th>\n",
       "      <td>AS</td>\n",
       "      <td>Asia</td>\n",
       "      <td>JPN</td>\n",
       "      <td>Japan</td>\n",
       "      <td>1962</td>\n",
       "      <td>Male</td>\n",
       "      <td>Age_all</td>\n",
       "      <td>[All]</td>\n",
       "      <td>246175.0</td>\n",
       "      <td>64.642383</td>\n",
       "      <td>795.049330</td>\n",
       "      <td>526.645131</td>\n",
       "    </tr>\n",
       "    <tr>\n",
       "      <th>38</th>\n",
       "      <td>AS</td>\n",
       "      <td>Asia</td>\n",
       "      <td>JPN</td>\n",
       "      <td>Japan</td>\n",
       "      <td>1962</td>\n",
       "      <td>Female</td>\n",
       "      <td>Age_all</td>\n",
       "      <td>[All]</td>\n",
       "      <td>215904.0</td>\n",
       "      <td>65.536867</td>\n",
       "      <td>548.061952</td>\n",
       "      <td>445.769501</td>\n",
       "    </tr>\n",
       "    <tr>\n",
       "      <th>41</th>\n",
       "      <td>AS</td>\n",
       "      <td>Asia</td>\n",
       "      <td>JPN</td>\n",
       "      <td>Japan</td>\n",
       "      <td>1963</td>\n",
       "      <td>Female</td>\n",
       "      <td>Age_all</td>\n",
       "      <td>[All]</td>\n",
       "      <td>212901.0</td>\n",
       "      <td>68.832949</td>\n",
       "      <td>530.948805</td>\n",
       "      <td>435.157895</td>\n",
       "    </tr>\n",
       "  </tbody>\n",
       "</table>\n",
       "</div>"
      ],
      "text/plain": [
       "   Region Code Region Name Country Code Country Name  Year     Sex  \\\n",
       "30          AS        Asia          JPN        Japan  1960     All   \n",
       "31          AS        Asia          JPN        Japan  1960    Male   \n",
       "32          AS        Asia          JPN        Japan  1960  Female   \n",
       "33          AS        Asia          JPN        Japan  1961     All   \n",
       "34          AS        Asia          JPN        Japan  1961    Male   \n",
       "35          AS        Asia          JPN        Japan  1961  Female   \n",
       "36          AS        Asia          JPN        Japan  1962     All   \n",
       "37          AS        Asia          JPN        Japan  1962    Male   \n",
       "38          AS        Asia          JPN        Japan  1962  Female   \n",
       "41          AS        Asia          JPN        Japan  1963  Female   \n",
       "\n",
       "   Age group code Age group    Number  \\\n",
       "30        Age_all     [All]  441247.0   \n",
       "31        Age_all     [All]  233463.0   \n",
       "32        Age_all     [All]  207784.0   \n",
       "33        Age_all     [All]  447197.0   \n",
       "34        Age_all     [All]  236699.0   \n",
       "35        Age_all     [All]  210498.0   \n",
       "36        Age_all     [All]  462079.0   \n",
       "37        Age_all     [All]  246175.0   \n",
       "38        Age_all     [All]  215904.0   \n",
       "41        Age_all     [All]  212901.0   \n",
       "\n",
       "    Percentage of cause-specific deaths out of total deaths  \\\n",
       "30                                          62.446593         \n",
       "31                                          61.840244         \n",
       "32                                          63.142221         \n",
       "33                                          64.285324         \n",
       "34                                          63.653061         \n",
       "35                                          65.011458         \n",
       "36                                          65.057267         \n",
       "37                                          64.642383         \n",
       "38                                          65.536867         \n",
       "41                                          68.832949         \n",
       "\n",
       "    Age-standardized death rate per 100 000 standard population  \\\n",
       "30                                         652.194558             \n",
       "31                                         779.209533             \n",
       "32                                         554.186054             \n",
       "33                                         643.722575             \n",
       "34                                         775.836518             \n",
       "35                                         545.054375             \n",
       "36                                         653.362335             \n",
       "37                                         795.049330             \n",
       "38                                         548.061952             \n",
       "41                                         530.948805             \n",
       "\n",
       "    Death rate per 100 000 population  \n",
       "30                         472.333638  \n",
       "31                         508.882330  \n",
       "32                         437.063665  \n",
       "33                         474.303442  \n",
       "34                         511.184779  \n",
       "35                         438.711157  \n",
       "36                         485.489294  \n",
       "37                         526.645131  \n",
       "38                         445.769501  \n",
       "41                         435.157895  "
      ]
     },
     "execution_count": 23,
     "metadata": {},
     "output_type": "execute_result"
    }
   ],
   "source": [
    "df2 = pd.read_excel('Noncommunicable diseases jpn.xlsx')\n",
    "df2 = df2[(df2['Year'] > 1959) & (df2['Year'] < 2020)]\n",
    "df2 = df2.sort_values(by=\"Year\", ascending=True)\n",
    "df2.head(10)"
   ]
  },
  {
   "cell_type": "code",
   "execution_count": 24,
   "id": "3761f4a4",
   "metadata": {},
   "outputs": [
    {
     "name": "stdout",
     "output_type": "stream",
     "text": [
      "<class 'pandas.core.frame.DataFrame'>\n",
      "Int64Index: 180 entries, 30 to 199\n",
      "Data columns (total 12 columns):\n",
      " #   Column                                                       Non-Null Count  Dtype  \n",
      "---  ------                                                       --------------  -----  \n",
      " 0   Region Code                                                  180 non-null    object \n",
      " 1   Region Name                                                  180 non-null    object \n",
      " 2   Country Code                                                 180 non-null    object \n",
      " 3   Country Name                                                 180 non-null    object \n",
      " 4   Year                                                         180 non-null    int64  \n",
      " 5   Sex                                                          180 non-null    object \n",
      " 6   Age group code                                               180 non-null    object \n",
      " 7   Age group                                                    180 non-null    object \n",
      " 8   Number                                                       180 non-null    float64\n",
      " 9   Percentage of cause-specific deaths out of total deaths      180 non-null    float64\n",
      " 10  Age-standardized death rate per 100 000 standard population  180 non-null    float64\n",
      " 11  Death rate per 100 000 population                            180 non-null    float64\n",
      "dtypes: float64(4), int64(1), object(7)\n",
      "memory usage: 18.3+ KB\n",
      "None\n"
     ]
    }
   ],
   "source": [
    "#to see if there are any missing values and see what data types we have\n",
    "print(df2.info())\n",
    "#no NAs we good"
   ]
  },
  {
   "cell_type": "code",
   "execution_count": 25,
   "id": "d82315b5",
   "metadata": {},
   "outputs": [],
   "source": [
    "#to get rid of uneccessary stuff\n",
    "columns_to_remove = ['Region Code', 'Region Name','Country Code','Age group code','Age group', ]\n",
    "df2 = df2.drop(columns=columns_to_remove)\n",
    "columns_to_remove1 = ['Year']\n",
    "df2stat = df2.drop(columns=columns_to_remove1)\n",
    "grouped_stats2 = df2stat.groupby('Sex').describe()\n",
    "grouped_stats2.to_excel('grouped_stats noncomm jpn.xlsx', sheet_name='Statistics')"
   ]
  },
  {
   "cell_type": "markdown",
   "id": "87acdb36",
   "metadata": {},
   "source": [
    "Distributional analysis and tests to see if there are significant differences between of numeric variables for genders."
   ]
  },
  {
   "cell_type": "code",
   "execution_count": 26,
   "id": "6ca616b1",
   "metadata": {},
   "outputs": [
    {
     "name": "stdout",
     "output_type": "stream",
     "text": [
      "Shapiro-Wilk test p-value for Number: 2.8078742109194366e-10\n",
      "Shapiro-Wilk test p-value for log-transformed Number: 0.00010563119576545432\n",
      "Log-transformed Number is also not normally distributed.\n"
     ]
    },
    {
     "data": {
      "image/png": "[encoded data removed]",
      "text/plain": [
       "<Figure size 640x480 with 1 Axes>"
      ]
     },
     "metadata": {},
     "output_type": "display_data"
    },
    {
     "name": "stdout",
     "output_type": "stream",
     "text": [
      "Mann-Whitney U-test for Men and Women on Number:\n",
      "Statistic: 2369.0\n",
      "p-value: 0.0028464519532460505\n",
      "Conclusion: There is a significant difference between Men and Women.\n"
     ]
    }
   ],
   "source": [
    "test_distribution_and_compare_sexes(df2, 'Number', 'Sex', alpha=0.05)"
   ]
  },
  {
   "cell_type": "code",
   "execution_count": 27,
   "id": "7ca387da",
   "metadata": {},
   "outputs": [
    {
     "name": "stdout",
     "output_type": "stream",
     "text": [
      "Shapiro-Wilk test p-value for Percentage of cause-specific deaths out of total deaths: 3.733947612910571e-12\n",
      "Shapiro-Wilk test p-value for log-transformed Percentage of cause-specific deaths out of total deaths: 3.2778681570248824e-13\n",
      "Log-transformed Percentage of cause-specific deaths out of total deaths is also not normally distributed.\n"
     ]
    },
    {
     "data": {
      "image/png": "[encoded data removed]",
      "text/plain": [
       "<Figure size 640x480 with 1 Axes>"
      ]
     },
     "metadata": {},
     "output_type": "display_data"
    },
    {
     "name": "stdout",
     "output_type": "stream",
     "text": [
      "Mann-Whitney U-test for Men and Women on Percentage of cause-specific deaths out of total deaths:\n",
      "Statistic: 1558.0\n",
      "p-value: 0.20496002900163146\n",
      "Conclusion: There is no significant difference between Men and Women.\n"
     ]
    }
   ],
   "source": [
    "test_distribution_and_compare_sexes(df2, 'Percentage of cause-specific deaths out of total deaths', 'Sex', alpha=0.05)"
   ]
  },
  {
   "cell_type": "code",
   "execution_count": 28,
   "id": "81f29bb1",
   "metadata": {},
   "outputs": [
    {
     "name": "stdout",
     "output_type": "stream",
     "text": [
      "Shapiro-Wilk test p-value for Age-standardized death rate per 100 000 standard population: 2.350934300920926e-05\n",
      "Shapiro-Wilk test p-value for log-transformed Age-standardized death rate per 100 000 standard population: 0.0010066056856885552\n",
      "Log-transformed Age-standardized death rate per 100 000 standard population is also not normally distributed.\n"
     ]
    },
    {
     "data": {
      "image/png": "[encoded data removed]",
      "text/plain": [
       "<Figure size 640x480 with 1 Axes>"
      ]
     },
     "metadata": {},
     "output_type": "display_data"
    },
    {
     "name": "stdout",
     "output_type": "stream",
     "text": [
      "Mann-Whitney U-test for Men and Women on Age-standardized death rate per 100 000 standard population:\n",
      "Statistic: 2920.0\n",
      "p-value: 4.2067620672047805e-09\n",
      "Conclusion: There is a significant difference between Men and Women.\n"
     ]
    }
   ],
   "source": [
    "test_distribution_and_compare_sexes(df2, 'Age-standardized death rate per 100 000 standard population', 'Sex', alpha=0.05)"
   ]
  },
  {
   "cell_type": "code",
   "execution_count": 29,
   "id": "ed07ef08",
   "metadata": {},
   "outputs": [
    {
     "name": "stdout",
     "output_type": "stream",
     "text": [
      "Shapiro-Wilk test p-value for Death rate per 100 000 population: 4.96040208908255e-10\n",
      "Shapiro-Wilk test p-value for log-transformed Death rate per 100 000 population: 8.252602867742098e-08\n",
      "Log-transformed Death rate per 100 000 population is also not normally distributed.\n"
     ]
    },
    {
     "data": {
      "image/png": "[encoded data removed]",
      "text/plain": [
       "<Figure size 640x480 with 1 Axes>"
      ]
     },
     "metadata": {},
     "output_type": "display_data"
    },
    {
     "name": "stdout",
     "output_type": "stream",
     "text": [
      "Mann-Whitney U-test for Men and Women on Death rate per 100 000 population:\n",
      "Statistic: 2819.0\n",
      "p-value: 9.004907353708072e-08\n",
      "Conclusion: There is a significant difference between Men and Women.\n"
     ]
    }
   ],
   "source": [
    "test_distribution_and_compare_sexes(df2, 'Death rate per 100 000 population', 'Sex', alpha=0.05)"
   ]
  },
  {
   "cell_type": "markdown",
   "id": "1c1ab96d",
   "metadata": {},
   "source": [
    "Correlation analysis"
   ]
  },
  {
   "cell_type": "code",
   "execution_count": 30,
   "id": "051c573c",
   "metadata": {},
   "outputs": [
    {
     "name": "stdout",
     "output_type": "stream",
     "text": [
      "Correlation between Number and Age-standardized death rate per 100 000 standard population: -0.44787004480357057\n",
      "Conclusion: There is a significant negative correlation between Number and Age-standardized death rate per 100 000 standard population.\n"
     ]
    }
   ],
   "source": [
    "calculate_and_conclude_correlation(df2, 'Number', 'Age-standardized death rate per 100 000 standard population', alpha=0.05)\n"
   ]
  },
  {
   "cell_type": "code",
   "execution_count": 31,
   "id": "5fc9c713",
   "metadata": {},
   "outputs": [
    {
     "name": "stdout",
     "output_type": "stream",
     "text": [
      "Correlation between Number and Death rate per 100 000 population: 0.5485154422479025\n",
      "Conclusion: There is a significant positive correlation between Number and Death rate per 100 000 population.\n"
     ]
    }
   ],
   "source": [
    "calculate_and_conclude_correlation(df2, 'Number', 'Death rate per 100 000 population', alpha=0.05)\n"
   ]
  },
  {
   "cell_type": "markdown",
   "id": "6e1cb8a1",
   "metadata": {},
   "source": [
    "## Malignant neoplasms"
   ]
  },
  {
   "cell_type": "code",
   "execution_count": 10,
   "id": "12fff334",
   "metadata": {},
   "outputs": [
    {
     "data": {
      "text/html": [
       "<div>\n",
       "<style scoped>\n",
       "    .dataframe tbody tr th:only-of-type {\n",
       "        vertical-align: middle;\n",
       "    }\n",
       "\n",
       "    .dataframe tbody tr th {\n",
       "        vertical-align: top;\n",
       "    }\n",
       "\n",
       "    .dataframe thead th {\n",
       "        text-align: right;\n",
       "    }\n",
       "</style>\n",
       "<table border=\"1\" class=\"dataframe\">\n",
       "  <thead>\n",
       "    <tr style=\"text-align: right;\">\n",
       "      <th></th>\n",
       "      <th>Region Code</th>\n",
       "      <th>Region Name</th>\n",
       "      <th>Country Code</th>\n",
       "      <th>Country Name</th>\n",
       "      <th>Year</th>\n",
       "      <th>Sex</th>\n",
       "      <th>Age group code</th>\n",
       "      <th>Age group</th>\n",
       "      <th>Number</th>\n",
       "      <th>Percentage of cause-specific deaths out of total deaths</th>\n",
       "      <th>Age-standardized death rate per 100 000 standard population</th>\n",
       "      <th>Death rate per 100 000 population</th>\n",
       "    </tr>\n",
       "  </thead>\n",
       "  <tbody>\n",
       "    <tr>\n",
       "      <th>30</th>\n",
       "      <td>AS</td>\n",
       "      <td>Asia</td>\n",
       "      <td>JPN</td>\n",
       "      <td>Japan</td>\n",
       "      <td>1960</td>\n",
       "      <td>All</td>\n",
       "      <td>Age_all</td>\n",
       "      <td>[All]</td>\n",
       "      <td>93773.0</td>\n",
       "      <td>13.271035</td>\n",
       "      <td>127.931493</td>\n",
       "      <td>100.379475</td>\n",
       "    </tr>\n",
       "    <tr>\n",
       "      <th>31</th>\n",
       "      <td>AS</td>\n",
       "      <td>Asia</td>\n",
       "      <td>JPN</td>\n",
       "      <td>Japan</td>\n",
       "      <td>1960</td>\n",
       "      <td>Male</td>\n",
       "      <td>Age_all</td>\n",
       "      <td>[All]</td>\n",
       "      <td>50898.0</td>\n",
       "      <td>13.481985</td>\n",
       "      <td>152.182007</td>\n",
       "      <td>110.943031</td>\n",
       "    </tr>\n",
       "    <tr>\n",
       "      <th>32</th>\n",
       "      <td>AS</td>\n",
       "      <td>Asia</td>\n",
       "      <td>JPN</td>\n",
       "      <td>Japan</td>\n",
       "      <td>1960</td>\n",
       "      <td>Female</td>\n",
       "      <td>Age_all</td>\n",
       "      <td>[All]</td>\n",
       "      <td>42875.0</td>\n",
       "      <td>13.029024</td>\n",
       "      <td>108.112150</td>\n",
       "      <td>90.185503</td>\n",
       "    </tr>\n",
       "    <tr>\n",
       "      <th>33</th>\n",
       "      <td>AS</td>\n",
       "      <td>Asia</td>\n",
       "      <td>JPN</td>\n",
       "      <td>Japan</td>\n",
       "      <td>1961</td>\n",
       "      <td>All</td>\n",
       "      <td>Age_all</td>\n",
       "      <td>[All]</td>\n",
       "      <td>96442.0</td>\n",
       "      <td>13.863700</td>\n",
       "      <td>127.971651</td>\n",
       "      <td>102.287745</td>\n",
       "    </tr>\n",
       "    <tr>\n",
       "      <th>34</th>\n",
       "      <td>AS</td>\n",
       "      <td>Asia</td>\n",
       "      <td>JPN</td>\n",
       "      <td>Japan</td>\n",
       "      <td>1961</td>\n",
       "      <td>Male</td>\n",
       "      <td>Age_all</td>\n",
       "      <td>[All]</td>\n",
       "      <td>52254.0</td>\n",
       "      <td>14.052138</td>\n",
       "      <td>152.693841</td>\n",
       "      <td>112.849862</td>\n",
       "    </tr>\n",
       "    <tr>\n",
       "      <th>35</th>\n",
       "      <td>AS</td>\n",
       "      <td>Asia</td>\n",
       "      <td>JPN</td>\n",
       "      <td>Japan</td>\n",
       "      <td>1961</td>\n",
       "      <td>Female</td>\n",
       "      <td>Age_all</td>\n",
       "      <td>[All]</td>\n",
       "      <td>44188.0</td>\n",
       "      <td>13.647286</td>\n",
       "      <td>108.260467</td>\n",
       "      <td>92.094788</td>\n",
       "    </tr>\n",
       "    <tr>\n",
       "      <th>36</th>\n",
       "      <td>AS</td>\n",
       "      <td>Asia</td>\n",
       "      <td>JPN</td>\n",
       "      <td>Japan</td>\n",
       "      <td>1962</td>\n",
       "      <td>All</td>\n",
       "      <td>Age_all</td>\n",
       "      <td>[All]</td>\n",
       "      <td>98224.0</td>\n",
       "      <td>13.829205</td>\n",
       "      <td>127.207886</td>\n",
       "      <td>103.200319</td>\n",
       "    </tr>\n",
       "    <tr>\n",
       "      <th>37</th>\n",
       "      <td>AS</td>\n",
       "      <td>Asia</td>\n",
       "      <td>JPN</td>\n",
       "      <td>Japan</td>\n",
       "      <td>1962</td>\n",
       "      <td>Male</td>\n",
       "      <td>Age_all</td>\n",
       "      <td>[All]</td>\n",
       "      <td>53499.0</td>\n",
       "      <td>14.048148</td>\n",
       "      <td>152.419286</td>\n",
       "      <td>114.451053</td>\n",
       "    </tr>\n",
       "    <tr>\n",
       "      <th>38</th>\n",
       "      <td>AS</td>\n",
       "      <td>Asia</td>\n",
       "      <td>JPN</td>\n",
       "      <td>Japan</td>\n",
       "      <td>1962</td>\n",
       "      <td>Female</td>\n",
       "      <td>Age_all</td>\n",
       "      <td>[All]</td>\n",
       "      <td>44725.0</td>\n",
       "      <td>13.576110</td>\n",
       "      <td>106.920024</td>\n",
       "      <td>92.342156</td>\n",
       "    </tr>\n",
       "    <tr>\n",
       "      <th>41</th>\n",
       "      <td>AS</td>\n",
       "      <td>Asia</td>\n",
       "      <td>JPN</td>\n",
       "      <td>Japan</td>\n",
       "      <td>1963</td>\n",
       "      <td>Female</td>\n",
       "      <td>Age_all</td>\n",
       "      <td>[All]</td>\n",
       "      <td>45859.0</td>\n",
       "      <td>14.826658</td>\n",
       "      <td>107.434195</td>\n",
       "      <td>93.733265</td>\n",
       "    </tr>\n",
       "  </tbody>\n",
       "</table>\n",
       "</div>"
      ],
      "text/plain": [
       "   Region Code Region Name Country Code Country Name  Year     Sex  \\\n",
       "30          AS        Asia          JPN        Japan  1960     All   \n",
       "31          AS        Asia          JPN        Japan  1960    Male   \n",
       "32          AS        Asia          JPN        Japan  1960  Female   \n",
       "33          AS        Asia          JPN        Japan  1961     All   \n",
       "34          AS        Asia          JPN        Japan  1961    Male   \n",
       "35          AS        Asia          JPN        Japan  1961  Female   \n",
       "36          AS        Asia          JPN        Japan  1962     All   \n",
       "37          AS        Asia          JPN        Japan  1962    Male   \n",
       "38          AS        Asia          JPN        Japan  1962  Female   \n",
       "41          AS        Asia          JPN        Japan  1963  Female   \n",
       "\n",
       "   Age group code Age group   Number  \\\n",
       "30        Age_all     [All]  93773.0   \n",
       "31        Age_all     [All]  50898.0   \n",
       "32        Age_all     [All]  42875.0   \n",
       "33        Age_all     [All]  96442.0   \n",
       "34        Age_all     [All]  52254.0   \n",
       "35        Age_all     [All]  44188.0   \n",
       "36        Age_all     [All]  98224.0   \n",
       "37        Age_all     [All]  53499.0   \n",
       "38        Age_all     [All]  44725.0   \n",
       "41        Age_all     [All]  45859.0   \n",
       "\n",
       "    Percentage of cause-specific deaths out of total deaths  \\\n",
       "30                                          13.271035         \n",
       "31                                          13.481985         \n",
       "32                                          13.029024         \n",
       "33                                          13.863700         \n",
       "34                                          14.052138         \n",
       "35                                          13.647286         \n",
       "36                                          13.829205         \n",
       "37                                          14.048148         \n",
       "38                                          13.576110         \n",
       "41                                          14.826658         \n",
       "\n",
       "    Age-standardized death rate per 100 000 standard population  \\\n",
       "30                                         127.931493             \n",
       "31                                         152.182007             \n",
       "32                                         108.112150             \n",
       "33                                         127.971651             \n",
       "34                                         152.693841             \n",
       "35                                         108.260467             \n",
       "36                                         127.207886             \n",
       "37                                         152.419286             \n",
       "38                                         106.920024             \n",
       "41                                         107.434195             \n",
       "\n",
       "    Death rate per 100 000 population  \n",
       "30                         100.379475  \n",
       "31                         110.943031  \n",
       "32                          90.185503  \n",
       "33                         102.287745  \n",
       "34                         112.849862  \n",
       "35                          92.094788  \n",
       "36                         103.200319  \n",
       "37                         114.451053  \n",
       "38                          92.342156  \n",
       "41                          93.733265  "
      ]
     },
     "execution_count": 10,
     "metadata": {},
     "output_type": "execute_result"
    }
   ],
   "source": [
    "dfm = pd.read_excel('malignant neoplasms jpn.xlsx')\n",
    "dfm = dfm[(dfm['Year'] > 1959) & (dfm['Year'] < 2020)]\n",
    "dfm = dfm.sort_values(by=\"Year\", ascending=True)\n",
    "dfm.head(10)"
   ]
  },
  {
   "cell_type": "code",
   "execution_count": 11,
   "id": "f75bb4c4",
   "metadata": {},
   "outputs": [],
   "source": [
    "#to get rid of uneccessary stuff\n",
    "columns_to_remove = ['Region Code', 'Region Name','Country Code','Age group code','Age group', ]\n",
    "dfm = dfm.drop(columns=columns_to_remove)\n",
    "columns_to_remove1 = ['Year']\n",
    "df2stat = dfm.drop(columns=columns_to_remove1)\n",
    "grouped_stats2 = df2stat.groupby('Sex').describe()\n",
    "grouped_stats2.to_excel('grouped_stats malignant jpn.xlsx', sheet_name='Statistics')"
   ]
  },
  {
   "cell_type": "code",
   "execution_count": 12,
   "id": "13e13770",
   "metadata": {},
   "outputs": [
    {
     "name": "stdout",
     "output_type": "stream",
     "text": [
      "Shapiro-Wilk test p-value for Percentage of cause-specific deaths out of total deaths: 8.883677946869284e-05\n",
      "Shapiro-Wilk test p-value for log-transformed Percentage of cause-specific deaths out of total deaths: 1.4067907159187598e-06\n",
      "Log-transformed Percentage of cause-specific deaths out of total deaths is also not normally distributed.\n"
     ]
    },
    {
     "data": {
      "image/png": "[encoded data removed]",
      "text/plain": [
       "<Figure size 640x480 with 1 Axes>"
      ]
     },
     "metadata": {},
     "output_type": "display_data"
    },
    {
     "name": "stdout",
     "output_type": "stream",
     "text": [
      "Mann-Whitney U-test for Men and Women on Percentage of cause-specific deaths out of total deaths:\n",
      "Statistic: 2612.0\n",
      "p-value: 2.0509525015600042e-05\n",
      "Conclusion: There is a significant difference between Men and Women.\n"
     ]
    }
   ],
   "source": [
    "test_distribution_and_compare_sexes(dfm, 'Percentage of cause-specific deaths out of total deaths', 'Sex', alpha=0.05)"
   ]
  },
  {
   "cell_type": "code",
   "execution_count": 13,
   "id": "6fa453ab",
   "metadata": {},
   "outputs": [
    {
     "name": "stdout",
     "output_type": "stream",
     "text": [
      "Shapiro-Wilk test p-value for Death rate per 100 000 population: 1.2541645943997537e-08\n",
      "Shapiro-Wilk test p-value for log-transformed Death rate per 100 000 population: 6.094773198128678e-06\n",
      "Log-transformed Death rate per 100 000 population is also not normally distributed.\n"
     ]
    },
    {
     "data": {
      "image/png": "[encoded data removed]",
      "text/plain": [
       "<Figure size 640x480 with 1 Axes>"
      ]
     },
     "metadata": {},
     "output_type": "display_data"
    },
    {
     "name": "stdout",
     "output_type": "stream",
     "text": [
      "Mann-Whitney U-test for Men and Women on Death rate per 100 000 population:\n",
      "Statistic: 2730.0\n",
      "p-value: 1.0683619751819129e-06\n",
      "Conclusion: There is a significant difference between Men and Women.\n"
     ]
    }
   ],
   "source": [
    "test_distribution_and_compare_sexes(dfm, 'Death rate per 100 000 population', 'Sex', alpha=0.05)"
   ]
  },
  {
   "cell_type": "markdown",
   "id": "e9a31711",
   "metadata": {},
   "source": [
    "# Injuries"
   ]
  },
  {
   "cell_type": "code",
   "execution_count": 32,
   "id": "3342c6ae",
   "metadata": {},
   "outputs": [
    {
     "data": {
      "text/html": [
       "<div>\n",
       "<style scoped>\n",
       "    .dataframe tbody tr th:only-of-type {\n",
       "        vertical-align: middle;\n",
       "    }\n",
       "\n",
       "    .dataframe tbody tr th {\n",
       "        vertical-align: top;\n",
       "    }\n",
       "\n",
       "    .dataframe thead th {\n",
       "        text-align: right;\n",
       "    }\n",
       "</style>\n",
       "<table border=\"1\" class=\"dataframe\">\n",
       "  <thead>\n",
       "    <tr style=\"text-align: right;\">\n",
       "      <th></th>\n",
       "      <th>Region Code</th>\n",
       "      <th>Region Name</th>\n",
       "      <th>Country Code</th>\n",
       "      <th>Country Name</th>\n",
       "      <th>Year</th>\n",
       "      <th>Sex</th>\n",
       "      <th>Age group code</th>\n",
       "      <th>Age group</th>\n",
       "      <th>Number</th>\n",
       "      <th>Percentage of cause-specific deaths out of total deaths</th>\n",
       "      <th>Age-standardized death rate per 100 000 standard population</th>\n",
       "      <th>Death rate per 100 000 population</th>\n",
       "    </tr>\n",
       "  </thead>\n",
       "  <tbody>\n",
       "    <tr>\n",
       "      <th>30</th>\n",
       "      <td>AS</td>\n",
       "      <td>Asia</td>\n",
       "      <td>JPN</td>\n",
       "      <td>Japan</td>\n",
       "      <td>1960</td>\n",
       "      <td>All</td>\n",
       "      <td>Age_all</td>\n",
       "      <td>[All]</td>\n",
       "      <td>60889.0</td>\n",
       "      <td>8.617193</td>\n",
       "      <td>70.797374</td>\n",
       "      <td>65.178739</td>\n",
       "    </tr>\n",
       "    <tr>\n",
       "      <th>31</th>\n",
       "      <td>AS</td>\n",
       "      <td>Asia</td>\n",
       "      <td>JPN</td>\n",
       "      <td>Japan</td>\n",
       "      <td>1960</td>\n",
       "      <td>Male</td>\n",
       "      <td>Age_all</td>\n",
       "      <td>[All]</td>\n",
       "      <td>42521.0</td>\n",
       "      <td>11.263065</td>\n",
       "      <td>101.907912</td>\n",
       "      <td>92.683575</td>\n",
       "    </tr>\n",
       "    <tr>\n",
       "      <th>32</th>\n",
       "      <td>AS</td>\n",
       "      <td>Asia</td>\n",
       "      <td>JPN</td>\n",
       "      <td>Japan</td>\n",
       "      <td>1960</td>\n",
       "      <td>Female</td>\n",
       "      <td>Age_all</td>\n",
       "      <td>[All]</td>\n",
       "      <td>18368.0</td>\n",
       "      <td>5.581740</td>\n",
       "      <td>42.182565</td>\n",
       "      <td>38.636206</td>\n",
       "    </tr>\n",
       "    <tr>\n",
       "      <th>33</th>\n",
       "      <td>AS</td>\n",
       "      <td>Asia</td>\n",
       "      <td>JPN</td>\n",
       "      <td>Japan</td>\n",
       "      <td>1961</td>\n",
       "      <td>All</td>\n",
       "      <td>Age_all</td>\n",
       "      <td>[All]</td>\n",
       "      <td>61674.0</td>\n",
       "      <td>8.865742</td>\n",
       "      <td>70.990218</td>\n",
       "      <td>65.412314</td>\n",
       "    </tr>\n",
       "    <tr>\n",
       "      <th>34</th>\n",
       "      <td>AS</td>\n",
       "      <td>Asia</td>\n",
       "      <td>JPN</td>\n",
       "      <td>Japan</td>\n",
       "      <td>1961</td>\n",
       "      <td>Male</td>\n",
       "      <td>Age_all</td>\n",
       "      <td>[All]</td>\n",
       "      <td>43521.0</td>\n",
       "      <td>11.703661</td>\n",
       "      <td>103.259326</td>\n",
       "      <td>93.989720</td>\n",
       "    </tr>\n",
       "    <tr>\n",
       "      <th>35</th>\n",
       "      <td>AS</td>\n",
       "      <td>Asia</td>\n",
       "      <td>JPN</td>\n",
       "      <td>Japan</td>\n",
       "      <td>1961</td>\n",
       "      <td>Female</td>\n",
       "      <td>Age_all</td>\n",
       "      <td>[All]</td>\n",
       "      <td>18153.0</td>\n",
       "      <td>5.606481</td>\n",
       "      <td>41.315631</td>\n",
       "      <td>37.833726</td>\n",
       "    </tr>\n",
       "    <tr>\n",
       "      <th>36</th>\n",
       "      <td>AS</td>\n",
       "      <td>Asia</td>\n",
       "      <td>JPN</td>\n",
       "      <td>Japan</td>\n",
       "      <td>1962</td>\n",
       "      <td>All</td>\n",
       "      <td>Age_all</td>\n",
       "      <td>[All]</td>\n",
       "      <td>56614.0</td>\n",
       "      <td>7.970828</td>\n",
       "      <td>64.475379</td>\n",
       "      <td>59.482233</td>\n",
       "    </tr>\n",
       "    <tr>\n",
       "      <th>37</th>\n",
       "      <td>AS</td>\n",
       "      <td>Asia</td>\n",
       "      <td>JPN</td>\n",
       "      <td>Japan</td>\n",
       "      <td>1962</td>\n",
       "      <td>Male</td>\n",
       "      <td>Age_all</td>\n",
       "      <td>[All]</td>\n",
       "      <td>40067.0</td>\n",
       "      <td>10.521078</td>\n",
       "      <td>94.215422</td>\n",
       "      <td>85.715814</td>\n",
       "    </tr>\n",
       "    <tr>\n",
       "      <th>38</th>\n",
       "      <td>AS</td>\n",
       "      <td>Asia</td>\n",
       "      <td>JPN</td>\n",
       "      <td>Japan</td>\n",
       "      <td>1962</td>\n",
       "      <td>Female</td>\n",
       "      <td>Age_all</td>\n",
       "      <td>[All]</td>\n",
       "      <td>16547.0</td>\n",
       "      <td>5.022781</td>\n",
       "      <td>37.259887</td>\n",
       "      <td>34.164017</td>\n",
       "    </tr>\n",
       "    <tr>\n",
       "      <th>41</th>\n",
       "      <td>AS</td>\n",
       "      <td>Asia</td>\n",
       "      <td>JPN</td>\n",
       "      <td>Japan</td>\n",
       "      <td>1963</td>\n",
       "      <td>Female</td>\n",
       "      <td>Age_all</td>\n",
       "      <td>[All]</td>\n",
       "      <td>16058.0</td>\n",
       "      <td>5.191706</td>\n",
       "      <td>35.779034</td>\n",
       "      <td>32.821666</td>\n",
       "    </tr>\n",
       "  </tbody>\n",
       "</table>\n",
       "</div>"
      ],
      "text/plain": [
       "   Region Code Region Name Country Code Country Name  Year     Sex  \\\n",
       "30          AS        Asia          JPN        Japan  1960     All   \n",
       "31          AS        Asia          JPN        Japan  1960    Male   \n",
       "32          AS        Asia          JPN        Japan  1960  Female   \n",
       "33          AS        Asia          JPN        Japan  1961     All   \n",
       "34          AS        Asia          JPN        Japan  1961    Male   \n",
       "35          AS        Asia          JPN        Japan  1961  Female   \n",
       "36          AS        Asia          JPN        Japan  1962     All   \n",
       "37          AS        Asia          JPN        Japan  1962    Male   \n",
       "38          AS        Asia          JPN        Japan  1962  Female   \n",
       "41          AS        Asia          JPN        Japan  1963  Female   \n",
       "\n",
       "   Age group code Age group   Number  \\\n",
       "30        Age_all     [All]  60889.0   \n",
       "31        Age_all     [All]  42521.0   \n",
       "32        Age_all     [All]  18368.0   \n",
       "33        Age_all     [All]  61674.0   \n",
       "34        Age_all     [All]  43521.0   \n",
       "35        Age_all     [All]  18153.0   \n",
       "36        Age_all     [All]  56614.0   \n",
       "37        Age_all     [All]  40067.0   \n",
       "38        Age_all     [All]  16547.0   \n",
       "41        Age_all     [All]  16058.0   \n",
       "\n",
       "    Percentage of cause-specific deaths out of total deaths  \\\n",
       "30                                           8.617193         \n",
       "31                                          11.263065         \n",
       "32                                           5.581740         \n",
       "33                                           8.865742         \n",
       "34                                          11.703661         \n",
       "35                                           5.606481         \n",
       "36                                           7.970828         \n",
       "37                                          10.521078         \n",
       "38                                           5.022781         \n",
       "41                                           5.191706         \n",
       "\n",
       "    Age-standardized death rate per 100 000 standard population  \\\n",
       "30                                          70.797374             \n",
       "31                                         101.907912             \n",
       "32                                          42.182565             \n",
       "33                                          70.990218             \n",
       "34                                         103.259326             \n",
       "35                                          41.315631             \n",
       "36                                          64.475379             \n",
       "37                                          94.215422             \n",
       "38                                          37.259887             \n",
       "41                                          35.779034             \n",
       "\n",
       "    Death rate per 100 000 population  \n",
       "30                          65.178739  \n",
       "31                          92.683575  \n",
       "32                          38.636206  \n",
       "33                          65.412314  \n",
       "34                          93.989720  \n",
       "35                          37.833726  \n",
       "36                          59.482233  \n",
       "37                          85.715814  \n",
       "38                          34.164017  \n",
       "41                          32.821666  "
      ]
     },
     "execution_count": 32,
     "metadata": {},
     "output_type": "execute_result"
    }
   ],
   "source": [
    "df3 = pd.read_excel('Injuries jpn.xlsx')\n",
    "df3 = df3[(df3['Year'] > 1959) & (df3['Year'] < 2020)]\n",
    "df3 = df3.sort_values(by=\"Year\", ascending=True)\n",
    "df3.head(10)"
   ]
  },
  {
   "cell_type": "code",
   "execution_count": 33,
   "id": "c3d13fd3",
   "metadata": {},
   "outputs": [
    {
     "name": "stdout",
     "output_type": "stream",
     "text": [
      "<class 'pandas.core.frame.DataFrame'>\n",
      "Int64Index: 180 entries, 30 to 199\n",
      "Data columns (total 12 columns):\n",
      " #   Column                                                       Non-Null Count  Dtype  \n",
      "---  ------                                                       --------------  -----  \n",
      " 0   Region Code                                                  180 non-null    object \n",
      " 1   Region Name                                                  180 non-null    object \n",
      " 2   Country Code                                                 180 non-null    object \n",
      " 3   Country Name                                                 180 non-null    object \n",
      " 4   Year                                                         180 non-null    int64  \n",
      " 5   Sex                                                          180 non-null    object \n",
      " 6   Age group code                                               180 non-null    object \n",
      " 7   Age group                                                    180 non-null    object \n",
      " 8   Number                                                       180 non-null    float64\n",
      " 9   Percentage of cause-specific deaths out of total deaths      180 non-null    float64\n",
      " 10  Age-standardized death rate per 100 000 standard population  180 non-null    float64\n",
      " 11  Death rate per 100 000 population                            180 non-null    float64\n",
      "dtypes: float64(4), int64(1), object(7)\n",
      "memory usage: 18.3+ KB\n",
      "None\n"
     ]
    }
   ],
   "source": [
    "#to see if there are any missing values and see what data types we have\n",
    "print(df3.info())\n",
    "#NA column"
   ]
  },
  {
   "cell_type": "code",
   "execution_count": 35,
   "id": "5e73853a",
   "metadata": {},
   "outputs": [],
   "source": [
    "#to get rid of uneccessary stuff\n",
    "columns_to_remove = ['Region Code', 'Region Name','Country Code','Age group code','Age group']\n",
    "df3 = df3.drop(columns=columns_to_remove)\n",
    "columns_to_remove1 = ['Year']\n",
    "df3stat = df3.drop(columns=columns_to_remove1)\n",
    "grouped_stats3 = df3stat.groupby('Sex').describe()\n",
    "grouped_stats3.to_excel('grouped_stats injuries jpn.xlsx', sheet_name='Statistics')"
   ]
  },
  {
   "cell_type": "markdown",
   "id": "7eab1d65",
   "metadata": {},
   "source": [
    "Distributional analysis and tests to see if there are significant differences between of numeric variables for genders."
   ]
  },
  {
   "cell_type": "code",
   "execution_count": 36,
   "id": "d1effca5",
   "metadata": {},
   "outputs": [
    {
     "name": "stdout",
     "output_type": "stream",
     "text": [
      "Shapiro-Wilk test p-value for Number: 2.9161983547965065e-06\n",
      "Shapiro-Wilk test p-value for log-transformed Number: 4.153314492327809e-08\n",
      "Log-transformed Number is also not normally distributed.\n"
     ]
    },
    {
     "data": {
      "image/png": "[encoded data removed]",
      "text/plain": [
       "<Figure size 640x480 with 1 Axes>"
      ]
     },
     "metadata": {},
     "output_type": "display_data"
    },
    {
     "name": "stdout",
     "output_type": "stream",
     "text": [
      "Mann-Whitney U-test for Men and Women on Number:\n",
      "Statistic: 3588.0\n",
      "p-value: 6.47686856789613e-21\n",
      "Conclusion: There is a significant difference between Men and Women.\n"
     ]
    }
   ],
   "source": [
    "test_distribution_and_compare_sexes(df3, 'Number', 'Sex', alpha=0.05)"
   ]
  },
  {
   "cell_type": "markdown",
   "id": "91e223ad",
   "metadata": {},
   "source": [
    "MultiModal distribution"
   ]
  },
  {
   "cell_type": "code",
   "execution_count": 37,
   "id": "8c6f8a6e",
   "metadata": {},
   "outputs": [
    {
     "name": "stdout",
     "output_type": "stream",
     "text": [
      "Shapiro-Wilk test p-value for Percentage of cause-specific deaths out of total deaths: 6.885282346047461e-06\n",
      "Shapiro-Wilk test p-value for log-transformed Percentage of cause-specific deaths out of total deaths: 0.00014267700316850096\n",
      "Log-transformed Percentage of cause-specific deaths out of total deaths is also not normally distributed.\n"
     ]
    },
    {
     "data": {
      "image/png": "[encoded data removed]",
      "text/plain": [
       "<Figure size 640x480 with 1 Axes>"
      ]
     },
     "metadata": {},
     "output_type": "display_data"
    },
    {
     "name": "stdout",
     "output_type": "stream",
     "text": [
      "Mann-Whitney U-test for Men and Women on Percentage of cause-specific deaths out of total deaths:\n",
      "Statistic: 3583.0\n",
      "p-value: 8.304898920569675e-21\n",
      "Conclusion: There is a significant difference between Men and Women.\n"
     ]
    }
   ],
   "source": [
    "test_distribution_and_compare_sexes(df3, 'Percentage of cause-specific deaths out of total deaths', 'Sex', alpha=0.05)"
   ]
  },
  {
   "cell_type": "code",
   "execution_count": 38,
   "id": "e3b4d468",
   "metadata": {},
   "outputs": [
    {
     "name": "stdout",
     "output_type": "stream",
     "text": [
      "Shapiro-Wilk test p-value for Age-standardized death rate per 100 000 standard population: 5.004235390515532e-07\n",
      "Shapiro-Wilk test p-value for log-transformed Age-standardized death rate per 100 000 standard population: 0.004362037871032953\n",
      "Log-transformed Age-standardized death rate per 100 000 standard population is also not normally distributed.\n"
     ]
    },
    {
     "data": {
      "image/png": "[encoded data removed]",
      "text/plain": [
       "<Figure size 640x480 with 1 Axes>"
      ]
     },
     "metadata": {},
     "output_type": "display_data"
    },
    {
     "name": "stdout",
     "output_type": "stream",
     "text": [
      "Mann-Whitney U-test for Men and Women on Age-standardized death rate per 100 000 standard population:\n",
      "Statistic: 3588.0\n",
      "p-value: 6.47686856789613e-21\n",
      "Conclusion: There is a significant difference between Men and Women.\n"
     ]
    }
   ],
   "source": [
    "test_distribution_and_compare_sexes(df3, 'Age-standardized death rate per 100 000 standard population', 'Sex', alpha=0.05)"
   ]
  },
  {
   "cell_type": "code",
   "execution_count": 39,
   "id": "3bfb8f7a",
   "metadata": {},
   "outputs": [
    {
     "name": "stdout",
     "output_type": "stream",
     "text": [
      "Shapiro-Wilk test p-value for Death rate per 100 000 population: 4.4084979890612885e-05\n",
      "Shapiro-Wilk test p-value for log-transformed Death rate per 100 000 population: 2.1969488443573937e-05\n",
      "Log-transformed Death rate per 100 000 population is also not normally distributed.\n"
     ]
    },
    {
     "data": {
      "image/png": "[encoded data removed]",
      "text/plain": [
       "<Figure size 640x480 with 1 Axes>"
      ]
     },
     "metadata": {},
     "output_type": "display_data"
    },
    {
     "name": "stdout",
     "output_type": "stream",
     "text": [
      "Mann-Whitney U-test for Men and Women on Death rate per 100 000 population:\n",
      "Statistic: 3600.0\n",
      "p-value: 3.5565709749847226e-21\n",
      "Conclusion: There is a significant difference between Men and Women.\n"
     ]
    }
   ],
   "source": [
    "test_distribution_and_compare_sexes(df3, 'Death rate per 100 000 population', 'Sex', alpha=0.05)"
   ]
  },
  {
   "cell_type": "markdown",
   "id": "fc0ba2c1",
   "metadata": {},
   "source": [
    "Correlation analysis"
   ]
  },
  {
   "cell_type": "code",
   "execution_count": 40,
   "id": "915ad293",
   "metadata": {},
   "outputs": [
    {
     "name": "stdout",
     "output_type": "stream",
     "text": [
      "Correlation between Number and Age-standardized death rate per 100 000 standard population: 0.28923752088032795\n",
      "Conclusion: There is a significant positive correlation between Number and Age-standardized death rate per 100 000 standard population.\n"
     ]
    }
   ],
   "source": [
    "calculate_and_conclude_correlation(df3, 'Number', 'Age-standardized death rate per 100 000 standard population', alpha=0.05)"
   ]
  },
  {
   "cell_type": "code",
   "execution_count": 41,
   "id": "606ed678",
   "metadata": {},
   "outputs": [
    {
     "name": "stdout",
     "output_type": "stream",
     "text": [
      "Correlation between Number and Death rate per 100 000 population: 0.5099092568700873\n",
      "Conclusion: There is a significant positive correlation between Number and Death rate per 100 000 population.\n"
     ]
    }
   ],
   "source": [
    "calculate_and_conclude_correlation(df3, 'Number', 'Death rate per 100 000 population', alpha=0.05)\n"
   ]
  },
  {
   "cell_type": "markdown",
   "id": "dbf6599e",
   "metadata": {},
   "source": [
    "# Ill-defined diseases"
   ]
  },
  {
   "cell_type": "code",
   "execution_count": 42,
   "id": "8023a4f8",
   "metadata": {},
   "outputs": [
    {
     "data": {
      "text/html": [
       "<div>\n",
       "<style scoped>\n",
       "    .dataframe tbody tr th:only-of-type {\n",
       "        vertical-align: middle;\n",
       "    }\n",
       "\n",
       "    .dataframe tbody tr th {\n",
       "        vertical-align: top;\n",
       "    }\n",
       "\n",
       "    .dataframe thead th {\n",
       "        text-align: right;\n",
       "    }\n",
       "</style>\n",
       "<table border=\"1\" class=\"dataframe\">\n",
       "  <thead>\n",
       "    <tr style=\"text-align: right;\">\n",
       "      <th></th>\n",
       "      <th>Region Code</th>\n",
       "      <th>Region Name</th>\n",
       "      <th>Country Code</th>\n",
       "      <th>Country Name</th>\n",
       "      <th>Year</th>\n",
       "      <th>Sex</th>\n",
       "      <th>Age group code</th>\n",
       "      <th>Age group</th>\n",
       "      <th>Number</th>\n",
       "      <th>Percentage of cause-specific deaths out of total deaths</th>\n",
       "      <th>Age-standardized death rate per 100 000 standard population</th>\n",
       "      <th>Death rate per 100 000 population</th>\n",
       "    </tr>\n",
       "  </thead>\n",
       "  <tbody>\n",
       "    <tr>\n",
       "      <th>30</th>\n",
       "      <td>AS</td>\n",
       "      <td>Asia</td>\n",
       "      <td>JPN</td>\n",
       "      <td>Japan</td>\n",
       "      <td>1960</td>\n",
       "      <td>All</td>\n",
       "      <td>Age_all</td>\n",
       "      <td>[All]</td>\n",
       "      <td>68942.0</td>\n",
       "      <td>9.756878</td>\n",
       "      <td>141.027544</td>\n",
       "      <td>73.799087</td>\n",
       "    </tr>\n",
       "    <tr>\n",
       "      <th>31</th>\n",
       "      <td>AS</td>\n",
       "      <td>Asia</td>\n",
       "      <td>JPN</td>\n",
       "      <td>Japan</td>\n",
       "      <td>1960</td>\n",
       "      <td>Male</td>\n",
       "      <td>Age_all</td>\n",
       "      <td>[All]</td>\n",
       "      <td>28831.0</td>\n",
       "      <td>7.636825</td>\n",
       "      <td>152.299068</td>\n",
       "      <td>62.843305</td>\n",
       "    </tr>\n",
       "    <tr>\n",
       "      <th>32</th>\n",
       "      <td>AS</td>\n",
       "      <td>Asia</td>\n",
       "      <td>JPN</td>\n",
       "      <td>Japan</td>\n",
       "      <td>1960</td>\n",
       "      <td>Female</td>\n",
       "      <td>Age_all</td>\n",
       "      <td>[All]</td>\n",
       "      <td>40111.0</td>\n",
       "      <td>12.189089</td>\n",
       "      <td>133.629651</td>\n",
       "      <td>84.371562</td>\n",
       "    </tr>\n",
       "    <tr>\n",
       "      <th>33</th>\n",
       "      <td>AS</td>\n",
       "      <td>Asia</td>\n",
       "      <td>JPN</td>\n",
       "      <td>Japan</td>\n",
       "      <td>1961</td>\n",
       "      <td>All</td>\n",
       "      <td>Age_all</td>\n",
       "      <td>[All]</td>\n",
       "      <td>69156.0</td>\n",
       "      <td>9.941292</td>\n",
       "      <td>135.831517</td>\n",
       "      <td>73.347828</td>\n",
       "    </tr>\n",
       "    <tr>\n",
       "      <th>34</th>\n",
       "      <td>AS</td>\n",
       "      <td>Asia</td>\n",
       "      <td>JPN</td>\n",
       "      <td>Japan</td>\n",
       "      <td>1961</td>\n",
       "      <td>Male</td>\n",
       "      <td>Age_all</td>\n",
       "      <td>[All]</td>\n",
       "      <td>28311.0</td>\n",
       "      <td>7.613390</td>\n",
       "      <td>149.063027</td>\n",
       "      <td>61.141586</td>\n",
       "    </tr>\n",
       "    <tr>\n",
       "      <th>35</th>\n",
       "      <td>AS</td>\n",
       "      <td>Asia</td>\n",
       "      <td>JPN</td>\n",
       "      <td>Japan</td>\n",
       "      <td>1961</td>\n",
       "      <td>Female</td>\n",
       "      <td>Age_all</td>\n",
       "      <td>[All]</td>\n",
       "      <td>40845.0</td>\n",
       "      <td>12.614813</td>\n",
       "      <td>128.410027</td>\n",
       "      <td>85.127446</td>\n",
       "    </tr>\n",
       "    <tr>\n",
       "      <th>36</th>\n",
       "      <td>AS</td>\n",
       "      <td>Asia</td>\n",
       "      <td>JPN</td>\n",
       "      <td>Japan</td>\n",
       "      <td>1962</td>\n",
       "      <td>All</td>\n",
       "      <td>Age_all</td>\n",
       "      <td>[All]</td>\n",
       "      <td>69131.0</td>\n",
       "      <td>9.733128</td>\n",
       "      <td>133.119767</td>\n",
       "      <td>72.633382</td>\n",
       "    </tr>\n",
       "    <tr>\n",
       "      <th>37</th>\n",
       "      <td>AS</td>\n",
       "      <td>Asia</td>\n",
       "      <td>JPN</td>\n",
       "      <td>Japan</td>\n",
       "      <td>1962</td>\n",
       "      <td>Male</td>\n",
       "      <td>Age_all</td>\n",
       "      <td>[All]</td>\n",
       "      <td>28414.0</td>\n",
       "      <td>7.461150</td>\n",
       "      <td>146.473769</td>\n",
       "      <td>60.786411</td>\n",
       "    </tr>\n",
       "    <tr>\n",
       "      <th>38</th>\n",
       "      <td>AS</td>\n",
       "      <td>Asia</td>\n",
       "      <td>JPN</td>\n",
       "      <td>Japan</td>\n",
       "      <td>1962</td>\n",
       "      <td>Female</td>\n",
       "      <td>Age_all</td>\n",
       "      <td>[All]</td>\n",
       "      <td>40717.0</td>\n",
       "      <td>12.359496</td>\n",
       "      <td>125.398306</td>\n",
       "      <td>84.066978</td>\n",
       "    </tr>\n",
       "    <tr>\n",
       "      <th>41</th>\n",
       "      <td>AS</td>\n",
       "      <td>Asia</td>\n",
       "      <td>JPN</td>\n",
       "      <td>Japan</td>\n",
       "      <td>1963</td>\n",
       "      <td>Female</td>\n",
       "      <td>Age_all</td>\n",
       "      <td>[All]</td>\n",
       "      <td>36649.0</td>\n",
       "      <td>11.848976</td>\n",
       "      <td>111.324762</td>\n",
       "      <td>74.908533</td>\n",
       "    </tr>\n",
       "  </tbody>\n",
       "</table>\n",
       "</div>"
      ],
      "text/plain": [
       "   Region Code Region Name Country Code Country Name  Year     Sex  \\\n",
       "30          AS        Asia          JPN        Japan  1960     All   \n",
       "31          AS        Asia          JPN        Japan  1960    Male   \n",
       "32          AS        Asia          JPN        Japan  1960  Female   \n",
       "33          AS        Asia          JPN        Japan  1961     All   \n",
       "34          AS        Asia          JPN        Japan  1961    Male   \n",
       "35          AS        Asia          JPN        Japan  1961  Female   \n",
       "36          AS        Asia          JPN        Japan  1962     All   \n",
       "37          AS        Asia          JPN        Japan  1962    Male   \n",
       "38          AS        Asia          JPN        Japan  1962  Female   \n",
       "41          AS        Asia          JPN        Japan  1963  Female   \n",
       "\n",
       "   Age group code Age group   Number  \\\n",
       "30        Age_all     [All]  68942.0   \n",
       "31        Age_all     [All]  28831.0   \n",
       "32        Age_all     [All]  40111.0   \n",
       "33        Age_all     [All]  69156.0   \n",
       "34        Age_all     [All]  28311.0   \n",
       "35        Age_all     [All]  40845.0   \n",
       "36        Age_all     [All]  69131.0   \n",
       "37        Age_all     [All]  28414.0   \n",
       "38        Age_all     [All]  40717.0   \n",
       "41        Age_all     [All]  36649.0   \n",
       "\n",
       "    Percentage of cause-specific deaths out of total deaths  \\\n",
       "30                                           9.756878         \n",
       "31                                           7.636825         \n",
       "32                                          12.189089         \n",
       "33                                           9.941292         \n",
       "34                                           7.613390         \n",
       "35                                          12.614813         \n",
       "36                                           9.733128         \n",
       "37                                           7.461150         \n",
       "38                                          12.359496         \n",
       "41                                          11.848976         \n",
       "\n",
       "    Age-standardized death rate per 100 000 standard population  \\\n",
       "30                                         141.027544             \n",
       "31                                         152.299068             \n",
       "32                                         133.629651             \n",
       "33                                         135.831517             \n",
       "34                                         149.063027             \n",
       "35                                         128.410027             \n",
       "36                                         133.119767             \n",
       "37                                         146.473769             \n",
       "38                                         125.398306             \n",
       "41                                         111.324762             \n",
       "\n",
       "    Death rate per 100 000 population  \n",
       "30                          73.799087  \n",
       "31                          62.843305  \n",
       "32                          84.371562  \n",
       "33                          73.347828  \n",
       "34                          61.141586  \n",
       "35                          85.127446  \n",
       "36                          72.633382  \n",
       "37                          60.786411  \n",
       "38                          84.066978  \n",
       "41                          74.908533  "
      ]
     },
     "execution_count": 42,
     "metadata": {},
     "output_type": "execute_result"
    }
   ],
   "source": [
    "df4 = pd.read_excel('ill-defined diseases jpn.xlsx')\n",
    "df4 = df4[(df['Year'] > 1959) & (df4['Year'] < 2020)]\n",
    "df4 = df4.sort_values(by=\"Year\", ascending=True)\n",
    "df4.head(10)"
   ]
  },
  {
   "cell_type": "code",
   "execution_count": 43,
   "id": "7f7eb995",
   "metadata": {},
   "outputs": [
    {
     "name": "stdout",
     "output_type": "stream",
     "text": [
      "<class 'pandas.core.frame.DataFrame'>\n",
      "Int64Index: 180 entries, 30 to 199\n",
      "Data columns (total 12 columns):\n",
      " #   Column                                                       Non-Null Count  Dtype  \n",
      "---  ------                                                       --------------  -----  \n",
      " 0   Region Code                                                  180 non-null    object \n",
      " 1   Region Name                                                  180 non-null    object \n",
      " 2   Country Code                                                 180 non-null    object \n",
      " 3   Country Name                                                 180 non-null    object \n",
      " 4   Year                                                         180 non-null    int64  \n",
      " 5   Sex                                                          180 non-null    object \n",
      " 6   Age group code                                               180 non-null    object \n",
      " 7   Age group                                                    180 non-null    object \n",
      " 8   Number                                                       180 non-null    float64\n",
      " 9   Percentage of cause-specific deaths out of total deaths      180 non-null    float64\n",
      " 10  Age-standardized death rate per 100 000 standard population  180 non-null    float64\n",
      " 11  Death rate per 100 000 population                            180 non-null    float64\n",
      "dtypes: float64(4), int64(1), object(7)\n",
      "memory usage: 18.3+ KB\n",
      "None\n"
     ]
    }
   ],
   "source": [
    "#to see if there are any missing values and see what data types we have\n",
    "print(df4.info())\n",
    "#NA column"
   ]
  },
  {
   "cell_type": "code",
   "execution_count": 44,
   "id": "c649c708",
   "metadata": {},
   "outputs": [],
   "source": [
    "#to get rid of uneccessary stuff\n",
    "columns_to_remove = ['Region Code', 'Region Name','Country Code','Age group code','Age group']\n",
    "df4 = df4.drop(columns=columns_to_remove)\n",
    "columns_to_remove1 = ['Year']\n",
    "df4stat = df4.drop(columns=columns_to_remove1)\n",
    "grouped_stats4 = df4stat.groupby('Sex').describe()\n",
    "grouped_stats4.to_excel('grouped_stats Ill-defined jpn.xlsx', sheet_name='Statistics')"
   ]
  },
  {
   "cell_type": "markdown",
   "id": "479d2dc1",
   "metadata": {},
   "source": [
    "Distributional analysis and tests to see if there are significant differences between of numeric variables for genders."
   ]
  },
  {
   "cell_type": "code",
   "execution_count": 45,
   "id": "c756ef9a",
   "metadata": {},
   "outputs": [
    {
     "name": "stdout",
     "output_type": "stream",
     "text": [
      "Shapiro-Wilk test p-value for Number: 5.528099120366515e-15\n",
      "Shapiro-Wilk test p-value for log-transformed Number: 0.014886952005326748\n",
      "Log-transformed Number is also not normally distributed.\n"
     ]
    },
    {
     "data": {
      "image/png": "[encoded data removed]",
      "text/plain": [
       "<Figure size 640x480 with 1 Axes>"
      ]
     },
     "metadata": {},
     "output_type": "display_data"
    },
    {
     "name": "stdout",
     "output_type": "stream",
     "text": [
      "Mann-Whitney U-test for Men and Women on Number:\n",
      "Statistic: 746.0\n",
      "p-value: 3.212528449206104e-08\n",
      "Conclusion: There is a significant difference between Men and Women.\n"
     ]
    }
   ],
   "source": [
    "test_distribution_and_compare_sexes(df4, 'Number', 'Sex', alpha=0.05)"
   ]
  },
  {
   "cell_type": "code",
   "execution_count": 46,
   "id": "040e68bf",
   "metadata": {},
   "outputs": [
    {
     "name": "stdout",
     "output_type": "stream",
     "text": [
      "Shapiro-Wilk test p-value for Percentage of cause-specific deaths out of total deaths: 4.6685428856108047e-08\n",
      "Shapiro-Wilk test p-value for log-transformed Percentage of cause-specific deaths out of total deaths: 0.0414588637650013\n",
      "Log-transformed Percentage of cause-specific deaths out of total deaths is also not normally distributed.\n"
     ]
    },
    {
     "data": {
      "image/png": "[encoded data removed]",
      "text/plain": [
       "<Figure size 640x480 with 1 Axes>"
      ]
     },
     "metadata": {},
     "output_type": "display_data"
    },
    {
     "name": "stdout",
     "output_type": "stream",
     "text": [
      "Mann-Whitney U-test for Men and Women on Percentage of cause-specific deaths out of total deaths:\n",
      "Statistic: 501.0\n",
      "p-value: 9.40296412125941e-12\n",
      "Conclusion: There is a significant difference between Men and Women.\n"
     ]
    }
   ],
   "source": [
    "test_distribution_and_compare_sexes(df4, 'Percentage of cause-specific deaths out of total deaths', 'Sex', alpha=0.05)"
   ]
  },
  {
   "cell_type": "code",
   "execution_count": 47,
   "id": "289dd35c",
   "metadata": {},
   "outputs": [
    {
     "name": "stdout",
     "output_type": "stream",
     "text": [
      "Shapiro-Wilk test p-value for Age-standardized death rate per 100 000 standard population: 5.70241585393349e-16\n",
      "Shapiro-Wilk test p-value for log-transformed Age-standardized death rate per 100 000 standard population: 1.6819068804352355e-08\n",
      "Log-transformed Age-standardized death rate per 100 000 standard population is also not normally distributed.\n"
     ]
    },
    {
     "data": {
      "image/png": "[encoded data removed]",
      "text/plain": [
       "<Figure size 640x480 with 1 Axes>"
      ]
     },
     "metadata": {},
     "output_type": "display_data"
    },
    {
     "name": "stdout",
     "output_type": "stream",
     "text": [
      "Mann-Whitney U-test for Men and Women on Age-standardized death rate per 100 000 standard population:\n",
      "Statistic: 1978.0\n",
      "p-value: 0.351526021642926\n",
      "Conclusion: There is no significant difference between Men and Women.\n"
     ]
    }
   ],
   "source": [
    "test_distribution_and_compare_sexes(df4, 'Age-standardized death rate per 100 000 standard population', 'Sex', alpha=0.05)\n"
   ]
  },
  {
   "cell_type": "code",
   "execution_count": 48,
   "id": "11499fe3",
   "metadata": {},
   "outputs": [
    {
     "name": "stdout",
     "output_type": "stream",
     "text": [
      "Shapiro-Wilk test p-value for Death rate per 100 000 population: 5.182476626661159e-13\n",
      "Shapiro-Wilk test p-value for log-transformed Death rate per 100 000 population: 0.001705147442407906\n",
      "Log-transformed Death rate per 100 000 population is also not normally distributed.\n"
     ]
    },
    {
     "data": {
      "image/png": "[encoded data removed]",
      "text/plain": [
       "<Figure size 640x480 with 1 Axes>"
      ]
     },
     "metadata": {},
     "output_type": "display_data"
    },
    {
     "name": "stdout",
     "output_type": "stream",
     "text": [
      "Mann-Whitney U-test for Men and Women on Death rate per 100 000 population:\n",
      "Statistic: 867.0\n",
      "p-value: 9.862831687837707e-07\n",
      "Conclusion: There is a significant difference between Men and Women.\n"
     ]
    }
   ],
   "source": [
    "test_distribution_and_compare_sexes(df4, 'Death rate per 100 000 population', 'Sex', alpha=0.05)\n"
   ]
  },
  {
   "cell_type": "markdown",
   "id": "416e8ef0",
   "metadata": {},
   "source": [
    "Correlation analysis"
   ]
  },
  {
   "cell_type": "code",
   "execution_count": 49,
   "id": "97c04a73",
   "metadata": {},
   "outputs": [
    {
     "name": "stdout",
     "output_type": "stream",
     "text": [
      "Correlation between Number and Age-standardized death rate per 100 000 standard population: 0.12890648283024603\n",
      "Conclusion: There is a significant positive correlation between Number and Age-standardized death rate per 100 000 standard population.\n"
     ]
    }
   ],
   "source": [
    "calculate_and_conclude_correlation(df4, 'Number', 'Age-standardized death rate per 100 000 standard population', alpha=0.05)"
   ]
  },
  {
   "cell_type": "code",
   "execution_count": 50,
   "id": "298c089c",
   "metadata": {},
   "outputs": [
    {
     "name": "stdout",
     "output_type": "stream",
     "text": [
      "Correlation between Number and Death rate per 100 000 population: 0.8176901270828724\n",
      "Conclusion: There is a significant positive correlation between Number and Death rate per 100 000 population.\n"
     ]
    }
   ],
   "source": [
    "calculate_and_conclude_correlation(df4, 'Number', 'Death rate per 100 000 population', alpha=0.05)"
   ]
  }
 ],
 "metadata": {
  "kernelspec": {
   "display_name": "Python 3 (ipykernel)",
   "language": "python",
   "name": "python3"
  },
  "language_info": {
   "codemirror_mode": {
    "name": "ipython",
    "version": 3
   },
   "file_extension": ".py",
   "mimetype": "text/x-python",
   "name": "python",
   "nbconvert_exporter": "python",
   "pygments_lexer": "ipython3",
   "version": "3.11.4"
  }
 },
 "nbformat": 4,
 "nbformat_minor": 5
}
